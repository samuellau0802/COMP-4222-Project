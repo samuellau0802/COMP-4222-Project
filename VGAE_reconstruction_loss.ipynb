{
 "cells": [
  {
   "cell_type": "markdown",
   "id": "a6cc8def",
   "metadata": {},
   "source": [
    "# VGAE Implementation"
   ]
  },
  {
   "cell_type": "markdown",
   "id": "bcb7b749",
   "metadata": {},
   "source": [
    "```\n",
    "@article{kipf2016variational,\n",
    "  title={Variational Graph Auto-Encoders},\n",
    "  author={Kipf, Thomas N and Welling, Max},\n",
    "  journal={NIPS Workshop on Bayesian Deep Learning},\n",
    "  year={2016}\n",
    "}\n",
    "```"
   ]
  },
  {
   "cell_type": "markdown",
   "id": "d86c48cb",
   "metadata": {
    "id": "d86c48cb"
   },
   "source": [
    "## Import Library"
   ]
  },
  {
   "cell_type": "code",
   "execution_count": 1,
   "id": "eef4235b",
   "metadata": {
    "colab": {
     "base_uri": "https://localhost:8080/"
    },
    "id": "eef4235b",
    "outputId": "8ae5d48b-a3a2-480b-b6fc-6246acc49452"
   },
   "outputs": [],
   "source": [
    "import dgl\n",
    "import torch\n",
    "import torch.nn as nn\n",
    "import torch.nn.functional as F\n",
    "from utils.startup_data_set import COMP4222Dataset_hetero\n",
    "from utils.PredictorClasses import *\n",
    "from utils.CustomMetrics import *\n",
    "from sklearn.metrics import roc_auc_score\n",
    "import matplotlib.pyplot as plt\n",
    "device = torch.device('cpu')\n",
    "#device = torch.device('cuda' if torch.cuda.is_available() else 'cpu')"
   ]
  },
  {
   "cell_type": "markdown",
   "id": "b5147a43",
   "metadata": {
    "id": "b5147a43"
   },
   "source": [
    "### Hypermeters"
   ]
  },
  {
   "cell_type": "code",
   "execution_count": 2,
   "id": "13e5bde2",
   "metadata": {
    "id": "13e5bde2"
   },
   "outputs": [],
   "source": [
    "val_ratio = 0.1\n",
    "test_ratio = 0.1\n",
    "\n",
    "# Hyperparameters\n",
    "n_hidden = 32\n",
    "output_dim = 16\n",
    "\n",
    "lr=0.05\n",
    "early_stopping = 5\n",
    "ep = 150"
   ]
  },
  {
   "cell_type": "markdown",
   "id": "1e6446e8",
   "metadata": {
    "id": "1e6446e8"
   },
   "source": [
    "## Load Dataset / Graph Preparation"
   ]
  },
  {
   "cell_type": "code",
   "execution_count": 3,
   "id": "f8ceb2eb",
   "metadata": {
    "colab": {
     "base_uri": "https://localhost:8080/"
    },
    "id": "f8ceb2eb",
    "outputId": "68bd8ee4-2af3-4d59-96fd-424af660f5b9"
   },
   "outputs": [
    {
     "name": "stdout",
     "output_type": "stream",
     "text": [
      "7594\n"
     ]
    },
    {
     "data": {
      "text/plain": [
       "Graph(num_nodes=25446, num_edges=45621,\n",
       "      ndata_schemes={'feat': Scheme(shape=(221,), dtype=torch.float64), '_ID': Scheme(shape=(), dtype=torch.int64), '_TYPE': Scheme(shape=(), dtype=torch.int64)}\n",
       "      edata_schemes={'feat': Scheme(shape=(23,), dtype=torch.float64), '_ID': Scheme(shape=(), dtype=torch.int64), '_TYPE': Scheme(shape=(), dtype=torch.int64)})"
      ]
     },
     "execution_count": 3,
     "metadata": {},
     "output_type": "execute_result"
    }
   ],
   "source": [
    "graph = COMP4222Dataset_hetero()[0]\n",
    "graph = dgl.to_homogeneous(graph,ndata=['feat'],edata=['feat'])\n",
    "graph"
   ]
  },
  {
   "cell_type": "code",
   "execution_count": 4,
   "id": "b7e82188",
   "metadata": {
    "colab": {
     "base_uri": "https://localhost:8080/"
    },
    "id": "b7e82188",
    "outputId": "5caebb33-76e8-4207-9a6a-4c6c6968baad"
   },
   "outputs": [
    {
     "data": {
      "text/plain": [
       "221"
      ]
     },
     "execution_count": 4,
     "metadata": {},
     "output_type": "execute_result"
    }
   ],
   "source": [
    "in_feats = graph.ndata['feat'].shape[1]\n",
    "in_feats"
   ]
  },
  {
   "cell_type": "code",
   "execution_count": 5,
   "id": "11a90997",
   "metadata": {},
   "outputs": [],
   "source": [
    "import numpy as np\n",
    "import scipy.sparse as sp\n",
    "import torch\n",
    "import torch.nn.functional as F\n",
    "from sklearn.metrics import average_precision_score, roc_auc_score"
   ]
  },
  {
   "cell_type": "code",
   "execution_count": 6,
   "id": "6c37f88f",
   "metadata": {},
   "outputs": [],
   "source": [
    "def compute_loss_para(adj):\n",
    "    pos_weight = (adj.shape[0] * adj.shape[0] - adj.sum()) / adj.sum()\n",
    "    norm = (\n",
    "        adj.shape[0]\n",
    "        * adj.shape[0]\n",
    "        / float((adj.shape[0] * adj.shape[0] - adj.sum()) * 2)\n",
    "    )\n",
    "    weight_mask = adj.view(-1) == 1\n",
    "    weight_tensor = torch.ones(weight_mask.size(0)).to(device)\n",
    "    weight_tensor[weight_mask] = pos_weight\n",
    "    return weight_tensor, norm\n",
    "\n",
    "\n",
    "def get_acc(adj_rec, adj_label):\n",
    "    labels_all = adj_label.view(-1).long()\n",
    "    preds_all = (adj_rec > 0.5).view(-1).long()\n",
    "    accuracy = (preds_all == labels_all).sum().float() / labels_all.size(0)\n",
    "    return accuracy\n",
    "\n",
    "\n",
    "def get_scores(edges_pos, edges_neg, adj_rec):\n",
    "    def sigmoid(x):\n",
    "        return 1 / (1 + np.exp(-x))\n",
    "\n",
    "    adj_rec = adj_rec.cpu()\n",
    "    # Predict on test set of edges\n",
    "    preds = []\n",
    "    for e in edges_pos:\n",
    "        preds.append(sigmoid(adj_rec[e[0], e[1]].item()))\n",
    "\n",
    "    preds_neg = []\n",
    "    for e in edges_neg:\n",
    "        preds_neg.append(sigmoid(adj_rec[e[0], e[1]].data))\n",
    "\n",
    "    preds_all = np.hstack([preds, preds_neg])\n",
    "    labels_all = np.hstack([np.ones(len(preds)), np.zeros(len(preds_neg))])\n",
    "    roc_score = roc_auc_score(labels_all, preds_all)\n",
    "    ap_score = average_precision_score(labels_all, preds_all)\n",
    "\n",
    "    return roc_score, ap_score\n",
    "\n",
    "def mask_test_edges_dgl(graph, adj):\n",
    "    src, dst = graph.edges()\n",
    "    edges_all = torch.stack([src, dst], dim=0)\n",
    "    edges_all = edges_all.t().cpu().numpy()\n",
    "    num_test = int(np.floor(edges_all.shape[0] / 10.0))\n",
    "    num_val = int(np.floor(edges_all.shape[0] / 20.0))\n",
    "\n",
    "    all_edge_idx = list(range(edges_all.shape[0]))\n",
    "    np.random.shuffle(all_edge_idx)\n",
    "    val_edge_idx = all_edge_idx[:num_val]\n",
    "    test_edge_idx = all_edge_idx[num_val : (num_val + num_test)]\n",
    "    train_edge_idx = all_edge_idx[(num_val + num_test) :]\n",
    "    test_edges = edges_all[test_edge_idx]\n",
    "    val_edges = edges_all[val_edge_idx]\n",
    "    train_edges = np.delete(\n",
    "        edges_all, np.hstack([test_edge_idx, val_edge_idx]), axis=0\n",
    "    )\n",
    "\n",
    "    def ismember(a, b, tol=5):\n",
    "        rows_close = np.all(np.round(a - b[:, None], tol) == 0, axis=-1)\n",
    "        return np.any(rows_close)\n",
    "\n",
    "    test_edges_false = []\n",
    "    while len(test_edges_false) < len(test_edges):\n",
    "        idx_i = np.random.randint(0, adj.shape[0])\n",
    "        idx_j = np.random.randint(0, adj.shape[0])\n",
    "        if idx_i == idx_j:\n",
    "            continue\n",
    "        if ismember([idx_i, idx_j], edges_all):\n",
    "            continue\n",
    "        if test_edges_false:\n",
    "            if ismember([idx_j, idx_i], np.array(test_edges_false)):\n",
    "                continue\n",
    "            if ismember([idx_i, idx_j], np.array(test_edges_false)):\n",
    "                continue\n",
    "        test_edges_false.append([idx_i, idx_j])\n",
    "\n",
    "    val_edges_false = []\n",
    "    while len(val_edges_false) < len(val_edges):\n",
    "        idx_i = np.random.randint(0, adj.shape[0])\n",
    "        idx_j = np.random.randint(0, adj.shape[0])\n",
    "        if idx_i == idx_j:\n",
    "            continue\n",
    "        if ismember([idx_i, idx_j], train_edges):\n",
    "            continue\n",
    "        if ismember([idx_j, idx_i], train_edges):\n",
    "            continue\n",
    "        if ismember([idx_i, idx_j], val_edges):\n",
    "            continue\n",
    "        if ismember([idx_j, idx_i], val_edges):\n",
    "            continue\n",
    "        if val_edges_false:\n",
    "            if ismember([idx_j, idx_i], np.array(val_edges_false)):\n",
    "                continue\n",
    "            if ismember([idx_i, idx_j], np.array(val_edges_false)):\n",
    "                continue\n",
    "        val_edges_false.append([idx_i, idx_j])\n",
    "\n",
    "    assert ~ismember(test_edges_false, edges_all)\n",
    "    assert ~ismember(val_edges_false, edges_all)\n",
    "    assert ~ismember(val_edges, train_edges)\n",
    "    assert ~ismember(test_edges, train_edges)\n",
    "    assert ~ismember(val_edges, test_edges)\n",
    "\n",
    "    # NOTE: these edge lists only contain single direction of edge!\n",
    "    return (\n",
    "        train_edge_idx,\n",
    "        val_edges,\n",
    "        val_edges_false,\n",
    "        test_edges,\n",
    "        test_edges_false,\n",
    "    )\n"
   ]
  },
  {
   "cell_type": "markdown",
   "id": "e38657b8",
   "metadata": {
    "id": "e38657b8"
   },
   "source": [
    "## Model Training"
   ]
  },
  {
   "cell_type": "markdown",
   "id": "c3a4f954",
   "metadata": {
    "id": "c3a4f954"
   },
   "source": [
    "### Model Setup"
   ]
  },
  {
   "cell_type": "code",
   "execution_count": 7,
   "id": "171f3f4d",
   "metadata": {
    "id": "171f3f4d"
   },
   "outputs": [],
   "source": [
    "from dgl.nn.pytorch import GraphConv\n",
    "\n",
    "\n",
    "class VGAEModel(nn.Module):\n",
    "    def __init__(self, in_dim, hidden1_dim, hidden2_dim):\n",
    "        super(VGAEModel, self).__init__()\n",
    "        self.in_dim = in_dim\n",
    "        self.hidden1_dim = hidden1_dim\n",
    "        self.hidden2_dim = hidden2_dim\n",
    "\n",
    "        layers = [\n",
    "            GraphConv(\n",
    "                self.in_dim,\n",
    "                self.hidden1_dim,\n",
    "                activation=F.relu,\n",
    "                allow_zero_in_degree=True,\n",
    "            ),\n",
    "            GraphConv(\n",
    "                self.hidden1_dim,\n",
    "                self.hidden2_dim,\n",
    "                activation=lambda x: x,\n",
    "                allow_zero_in_degree=True,\n",
    "            ),\n",
    "            GraphConv(\n",
    "                self.hidden1_dim,\n",
    "                self.hidden2_dim,\n",
    "                activation=lambda x: x,\n",
    "                allow_zero_in_degree=True,\n",
    "            ),\n",
    "        ]\n",
    "        self.layers = nn.ModuleList(layers)\n",
    "\n",
    "    def encoder(self, g, features):\n",
    "        h = self.layers[0](g, features)\n",
    "        self.mean = self.layers[1](g, h)\n",
    "        self.log_std = self.layers[2](g, h)\n",
    "        gaussian_noise = torch.randn(features.size(0), self.hidden2_dim).to(\n",
    "            device\n",
    "        )\n",
    "        sampled_z = self.mean + gaussian_noise * torch.exp(self.log_std).to(\n",
    "            device\n",
    "        )\n",
    "        return sampled_z\n",
    "\n",
    "    def decoder(self, z):\n",
    "        adj_rec = torch.sigmoid(torch.matmul(z, z.t()))\n",
    "        return adj_rec\n",
    "\n",
    "    def forward(self, g, features):\n",
    "        z = self.encoder(g, features)\n",
    "        adj_rec = self.decoder(z)\n",
    "        return adj_rec"
   ]
  },
  {
   "cell_type": "code",
   "execution_count": 8,
   "id": "ee80fea0",
   "metadata": {},
   "outputs": [
    {
     "name": "stdout",
     "output_type": "stream",
     "text": [
      "Total Parameters: 8160\n"
     ]
    }
   ],
   "source": [
    "# Extract node features\n",
    "feats = graph.ndata.pop(\"feat\").to(device)\n",
    "in_dim = feats.shape[-1]\n",
    "\n",
    "# generate input\n",
    "adj_orig = graph.adjacency_matrix().to_dense()\n",
    "\n",
    "# build test set with 10% positive links\n",
    "(\n",
    "    train_edge_idx,\n",
    "    val_edges,\n",
    "    val_edges_false,\n",
    "    test_edges,\n",
    "    test_edges_false,\n",
    ") = mask_test_edges_dgl(graph, adj_orig)\n",
    "\n",
    "graph = graph.to(device)\n",
    "\n",
    "# create train graph\n",
    "train_edge_idx = torch.tensor(train_edge_idx).to(device)\n",
    "train_graph = dgl.edge_subgraph(graph, train_edge_idx, relabel_nodes=False)\n",
    "train_graph = train_graph.to(device)\n",
    "adj = train_graph.adjacency_matrix().to_dense().to(device)\n",
    "\n",
    "# compute loss parameters\n",
    "weight_tensor, norm = compute_loss_para(adj)\n",
    "\n",
    "# create model\n",
    "vgae_model = VGAEModel(\n",
    "    in_feats,\n",
    "    n_hidden,\n",
    "    output_dim\n",
    ")\n",
    "vgae_model = vgae_model.to(device)\n",
    "\n",
    "# create training component\n",
    "optimizer = torch.optim.Adam(vgae_model.parameters(), lr=lr)\n",
    "print(\n",
    "    \"Total Parameters:\",\n",
    "    sum([p.nelement() for p in vgae_model.parameters()]),\n",
    ")"
   ]
  },
  {
   "cell_type": "markdown",
   "id": "88ceeab3",
   "metadata": {
    "id": "88ceeab3"
   },
   "source": [
    "### Training Loop"
   ]
  },
  {
   "cell_type": "code",
   "execution_count": 9,
   "id": "04b91184",
   "metadata": {},
   "outputs": [
    {
     "data": {
      "text/plain": [
       "tensor([[0.5803, 0.4444, 0.0000,  ..., 0.0000, 0.0000, 0.0000],\n",
       "        [0.1096, 0.0748, 0.0000,  ..., 0.0000, 0.0000, 0.0000],\n",
       "        [0.0038, 0.0023, 0.0000,  ..., 0.0000, 0.0000, 0.0000],\n",
       "        ...,\n",
       "        [0.0667, 0.3333, 0.0160,  ..., 0.0000, 0.0000, 0.0000],\n",
       "        [0.3333, 0.3333, 0.0126,  ..., 0.0000, 0.0000, 0.0000],\n",
       "        [0.1333, 0.1111, 0.0017,  ..., 0.0000, 0.0000, 0.0000]],\n",
       "       dtype=torch.float64)"
      ]
     },
     "execution_count": 9,
     "metadata": {},
     "output_type": "execute_result"
    }
   ],
   "source": [
    "feats"
   ]
  },
  {
   "cell_type": "code",
   "execution_count": 10,
   "id": "c945ab1f",
   "metadata": {
    "colab": {
     "base_uri": "https://localhost:8080/"
    },
    "id": "c945ab1f",
    "outputId": "e0966adf-2e68-4345-d22a-8bd468b73a3b"
   },
   "outputs": [
    {
     "name": "stdout",
     "output_type": "stream",
     "text": [
      "Epoch: 0001 train_loss= 1.72691 train_acc= 0.50003 val_roc= 0.48655 val_ap= 0.48720\n",
      "Epoch: 0002 train_loss= 1.58710 train_acc= 0.49574 val_roc= 0.49936 val_ap= 0.49730\n",
      "Epoch: 0003 train_loss= 1.47138 train_acc= 0.49453 val_roc= 0.50926 val_ap= 0.51219\n",
      "Epoch: 0004 train_loss= 1.37517 train_acc= 0.49570 val_roc= 0.49696 val_ap= 0.49620\n",
      "Epoch: 0005 train_loss= 1.28266 train_acc= 0.49690 val_roc= 0.49818 val_ap= 0.50171\n",
      "Epoch: 0006 train_loss= 1.20516 train_acc= 0.49614 val_roc= 0.50062 val_ap= 0.50386\n",
      "Epoch: 0007 train_loss= 1.13125 train_acc= 0.49394 val_roc= 0.50661 val_ap= 0.51003\n",
      "Epoch: 0008 train_loss= 1.07177 train_acc= 0.49298 val_roc= 0.49851 val_ap= 0.49351\n",
      "Epoch: 0009 train_loss= 1.01942 train_acc= 0.49184 val_roc= 0.50717 val_ap= 0.51303\n",
      "Epoch: 0010 train_loss= 0.97529 train_acc= 0.49351 val_roc= 0.50147 val_ap= 0.49639\n",
      "Epoch: 0011 train_loss= 0.93827 train_acc= 0.49466 val_roc= 0.49459 val_ap= 0.49517\n",
      "Epoch: 0012 train_loss= 0.90350 train_acc= 0.49636 val_roc= 0.49470 val_ap= 0.50624\n",
      "Epoch: 0013 train_loss= 0.88326 train_acc= 0.49690 val_roc= 0.50758 val_ap= 0.50580\n",
      "Epoch: 0014 train_loss= 0.85437 train_acc= 0.49760 val_roc= 0.50364 val_ap= 0.49993\n",
      "Epoch: 0015 train_loss= 0.83285 train_acc= 0.49579 val_roc= 0.49467 val_ap= 0.49139\n",
      "Epoch: 0016 train_loss= 0.81685 train_acc= 0.49434 val_roc= 0.50495 val_ap= 0.50401\n",
      "Epoch: 0017 train_loss= 0.80506 train_acc= 0.49322 val_roc= 0.50837 val_ap= 0.50323\n",
      "Epoch: 0018 train_loss= 0.79394 train_acc= 0.49151 val_roc= 0.49732 val_ap= 0.50334\n",
      "Epoch: 0019 train_loss= 0.78446 train_acc= 0.48966 val_roc= 0.48960 val_ap= 0.48902\n",
      "Epoch: 0020 train_loss= 0.77291 train_acc= 0.48818 val_roc= 0.51807 val_ap= 0.51056\n",
      "Epoch: 0021 train_loss= 0.76639 train_acc= 0.48980 val_roc= 0.50012 val_ap= 0.49985\n",
      "Epoch: 0022 train_loss= 0.75823 train_acc= 0.49154 val_roc= 0.49099 val_ap= 0.50107\n",
      "Epoch: 0023 train_loss= 0.75323 train_acc= 0.49152 val_roc= 0.49870 val_ap= 0.49915\n",
      "Epoch: 0024 train_loss= 0.74785 train_acc= 0.49278 val_roc= 0.51074 val_ap= 0.49904\n",
      "Epoch: 0025 train_loss= 0.74331 train_acc= 0.49478 val_roc= 0.50430 val_ap= 0.50382\n",
      "Epoch: 0026 train_loss= 0.74022 train_acc= 0.49617 val_roc= 0.50290 val_ap= 0.50554\n",
      "Epoch: 0027 train_loss= 0.73632 train_acc= 0.49602 val_roc= 0.48896 val_ap= 0.48896\n",
      "Epoch: 0028 train_loss= 0.73254 train_acc= 0.49574 val_roc= 0.50105 val_ap= 0.49401\n",
      "Epoch: 0029 train_loss= 0.73055 train_acc= 0.49529 val_roc= 0.49360 val_ap= 0.50179\n",
      "Epoch: 0030 train_loss= 0.72901 train_acc= 0.49440 val_roc= 0.50682 val_ap= 0.50783\n",
      "Epoch: 0031 train_loss= 0.72633 train_acc= 0.49345 val_roc= 0.50679 val_ap= 0.50266\n",
      "Epoch: 0032 train_loss= 0.72412 train_acc= 0.49243 val_roc= 0.50735 val_ap= 0.51101\n",
      "Epoch: 0033 train_loss= 0.72331 train_acc= 0.49241 val_roc= 0.49028 val_ap= 0.49724\n",
      "Epoch: 0034 train_loss= 0.72141 train_acc= 0.49147 val_roc= 0.49872 val_ap= 0.50135\n",
      "Epoch: 0035 train_loss= 0.72018 train_acc= 0.49068 val_roc= 0.48768 val_ap= 0.49570\n",
      "Epoch: 0036 train_loss= 0.71795 train_acc= 0.49109 val_roc= 0.49830 val_ap= 0.49913\n",
      "Epoch: 0037 train_loss= 0.71709 train_acc= 0.49215 val_roc= 0.50864 val_ap= 0.50957\n",
      "Epoch: 0038 train_loss= 0.71626 train_acc= 0.49136 val_roc= 0.50229 val_ap= 0.50347\n",
      "Epoch: 0039 train_loss= 0.71529 train_acc= 0.49082 val_roc= 0.50043 val_ap= 0.49736\n",
      "Epoch: 0040 train_loss= 0.71463 train_acc= 0.49170 val_roc= 0.50055 val_ap= 0.49484\n",
      "Epoch: 0041 train_loss= 0.71364 train_acc= 0.49296 val_roc= 0.48769 val_ap= 0.49467\n",
      "Epoch: 0042 train_loss= 0.71359 train_acc= 0.49402 val_roc= 0.50300 val_ap= 0.50589\n",
      "Epoch: 0043 train_loss= 0.71359 train_acc= 0.49498 val_roc= 0.49613 val_ap= 0.49608\n",
      "Epoch: 0044 train_loss= 0.71191 train_acc= 0.49589 val_roc= 0.50727 val_ap= 0.50819\n",
      "Epoch: 0045 train_loss= 0.71080 train_acc= 0.49578 val_roc= 0.49931 val_ap= 0.49968\n",
      "Epoch: 0046 train_loss= 0.71072 train_acc= 0.49320 val_roc= 0.49942 val_ap= 0.50181\n",
      "Epoch: 0047 train_loss= 0.71065 train_acc= 0.48946 val_roc= 0.49297 val_ap= 0.49160\n",
      "Epoch: 0048 train_loss= 0.70941 train_acc= 0.48568 val_roc= 0.49230 val_ap= 0.49257\n",
      "Epoch: 0049 train_loss= 0.70908 train_acc= 0.48353 val_roc= 0.50446 val_ap= 0.49903\n",
      "Epoch: 0050 train_loss= 0.70959 train_acc= 0.48069 val_roc= 0.50987 val_ap= 0.50944\n",
      "Epoch: 0051 train_loss= 0.70845 train_acc= 0.47969 val_roc= 0.50212 val_ap= 0.50371\n",
      "Epoch: 0052 train_loss= 0.70888 train_acc= 0.48057 val_roc= 0.49042 val_ap= 0.49426\n",
      "Epoch: 0053 train_loss= 0.70959 train_acc= 0.48280 val_roc= 0.50379 val_ap= 0.50179\n",
      "Epoch: 0054 train_loss= 0.70709 train_acc= 0.48543 val_roc= 0.49083 val_ap= 0.49038\n",
      "Epoch: 0055 train_loss= 0.70723 train_acc= 0.48692 val_roc= 0.50179 val_ap= 0.49942\n",
      "Epoch: 0056 train_loss= 0.70668 train_acc= 0.48852 val_roc= 0.48437 val_ap= 0.48368\n",
      "Epoch: 0057 train_loss= 0.70630 train_acc= 0.48946 val_roc= 0.50426 val_ap= 0.49843\n",
      "Epoch: 0058 train_loss= 0.70693 train_acc= 0.48779 val_roc= 0.49485 val_ap= 0.49601\n",
      "Epoch: 0059 train_loss= 0.70616 train_acc= 0.48831 val_roc= 0.50771 val_ap= 0.51246\n",
      "Epoch: 0060 train_loss= 0.70595 train_acc= 0.48702 val_roc= 0.50015 val_ap= 0.49583\n",
      "Epoch: 0061 train_loss= 0.70616 train_acc= 0.48623 val_roc= 0.50512 val_ap= 0.50078\n",
      "Epoch: 0062 train_loss= 0.70496 train_acc= 0.48496 val_roc= 0.48706 val_ap= 0.49181\n",
      "Epoch: 0063 train_loss= 0.70604 train_acc= 0.48282 val_roc= 0.50781 val_ap= 0.50239\n",
      "Epoch: 0064 train_loss= 0.70546 train_acc= 0.48438 val_roc= 0.50956 val_ap= 0.50776\n",
      "Epoch: 0065 train_loss= 0.70472 train_acc= 0.48345 val_roc= 0.50409 val_ap= 0.50675\n",
      "Epoch: 0066 train_loss= 0.70446 train_acc= 0.48394 val_roc= 0.49813 val_ap= 0.49985\n",
      "Epoch: 0067 train_loss= 0.70458 train_acc= 0.48443 val_roc= 0.49923 val_ap= 0.50567\n",
      "Epoch: 0068 train_loss= 0.70532 train_acc= 0.48500 val_roc= 0.51400 val_ap= 0.50991\n",
      "Epoch: 0069 train_loss= 0.70366 train_acc= 0.48768 val_roc= 0.49851 val_ap= 0.49866\n",
      "Epoch: 0070 train_loss= 0.70418 train_acc= 0.48886 val_roc= 0.47689 val_ap= 0.48659\n",
      "Epoch: 0071 train_loss= 0.70426 train_acc= 0.48971 val_roc= 0.48858 val_ap= 0.49133\n",
      "Epoch: 0072 train_loss= 0.70447 train_acc= 0.49046 val_roc= 0.48490 val_ap= 0.49021\n",
      "Epoch: 0073 train_loss= 0.70407 train_acc= 0.48891 val_roc= 0.50088 val_ap= 0.50493\n",
      "Epoch: 0074 train_loss= 0.70388 train_acc= 0.48537 val_roc= 0.49391 val_ap= 0.49531\n",
      "Epoch: 0075 train_loss= 0.70374 train_acc= 0.48440 val_roc= 0.50169 val_ap= 0.50204\n",
      "Epoch: 0076 train_loss= 0.70356 train_acc= 0.48537 val_roc= 0.51268 val_ap= 0.51258\n",
      "Epoch: 0077 train_loss= 0.70412 train_acc= 0.48496 val_roc= 0.50204 val_ap= 0.50684\n",
      "Epoch: 0078 train_loss= 0.70360 train_acc= 0.48788 val_roc= 0.48136 val_ap= 0.48760\n",
      "Epoch: 0079 train_loss= 0.70343 train_acc= 0.48963 val_roc= 0.50355 val_ap= 0.49594\n",
      "Epoch: 0080 train_loss= 0.70290 train_acc= 0.49158 val_roc= 0.50061 val_ap= 0.50410\n",
      "Epoch: 0081 train_loss= 0.70273 train_acc= 0.49162 val_roc= 0.48933 val_ap= 0.48879\n",
      "Epoch: 0082 train_loss= 0.70240 train_acc= 0.49194 val_roc= 0.52279 val_ap= 0.51866\n",
      "Epoch: 0083 train_loss= 0.70213 train_acc= 0.48959 val_roc= 0.49796 val_ap= 0.49734\n",
      "Epoch: 0084 train_loss= 0.70252 train_acc= 0.48754 val_roc= 0.49013 val_ap= 0.49312\n",
      "Epoch: 0085 train_loss= 0.70294 train_acc= 0.48472 val_roc= 0.49140 val_ap= 0.50042\n",
      "Epoch: 0086 train_loss= 0.70251 train_acc= 0.48317 val_roc= 0.50680 val_ap= 0.50561\n",
      "Epoch: 0087 train_loss= 0.70300 train_acc= 0.48333 val_roc= 0.49225 val_ap= 0.49913\n",
      "Epoch: 0088 train_loss= 0.70227 train_acc= 0.48327 val_roc= 0.49733 val_ap= 0.49623\n",
      "Epoch: 0089 train_loss= 0.70214 train_acc= 0.48257 val_roc= 0.48866 val_ap= 0.49756\n",
      "Epoch: 0090 train_loss= 0.70226 train_acc= 0.48384 val_roc= 0.49034 val_ap= 0.50110\n",
      "Epoch: 0091 train_loss= 0.70159 train_acc= 0.48561 val_roc= 0.50023 val_ap= 0.50121\n"
     ]
    },
    {
     "ename": "KeyboardInterrupt",
     "evalue": "",
     "output_type": "error",
     "traceback": [
      "\u001b[1;31m---------------------------------------------------------------------------\u001b[0m",
      "\u001b[1;31mKeyboardInterrupt\u001b[0m                         Traceback (most recent call last)",
      "Input \u001b[1;32mIn [10]\u001b[0m, in \u001b[0;36m<cell line: 4>\u001b[1;34m()\u001b[0m\n\u001b[0;32m     30\u001b[0m loss\u001b[38;5;241m.\u001b[39mbackward()\n\u001b[0;32m     31\u001b[0m optimizer\u001b[38;5;241m.\u001b[39mstep()\n\u001b[1;32m---> 33\u001b[0m train_acc \u001b[38;5;241m=\u001b[39m \u001b[43mget_acc\u001b[49m\u001b[43m(\u001b[49m\u001b[43mlogits\u001b[49m\u001b[43m,\u001b[49m\u001b[43m \u001b[49m\u001b[43madj\u001b[49m\u001b[43m)\u001b[49m\n\u001b[0;32m     35\u001b[0m val_roc, val_ap \u001b[38;5;241m=\u001b[39m get_scores(val_edges, val_edges_false, logits)\n\u001b[0;32m     37\u001b[0m \u001b[38;5;66;03m# Print out performance\u001b[39;00m\n",
      "Input \u001b[1;32mIn [6]\u001b[0m, in \u001b[0;36mget_acc\u001b[1;34m(adj_rec, adj_label)\u001b[0m\n\u001b[0;32m     15\u001b[0m labels_all \u001b[38;5;241m=\u001b[39m adj_label\u001b[38;5;241m.\u001b[39mview(\u001b[38;5;241m-\u001b[39m\u001b[38;5;241m1\u001b[39m)\u001b[38;5;241m.\u001b[39mlong()\n\u001b[0;32m     16\u001b[0m preds_all \u001b[38;5;241m=\u001b[39m (adj_rec \u001b[38;5;241m>\u001b[39m \u001b[38;5;241m0.5\u001b[39m)\u001b[38;5;241m.\u001b[39mview(\u001b[38;5;241m-\u001b[39m\u001b[38;5;241m1\u001b[39m)\u001b[38;5;241m.\u001b[39mlong()\n\u001b[1;32m---> 17\u001b[0m accuracy \u001b[38;5;241m=\u001b[39m \u001b[43m(\u001b[49m\u001b[43mpreds_all\u001b[49m\u001b[43m \u001b[49m\u001b[38;5;241;43m==\u001b[39;49m\u001b[43m \u001b[49m\u001b[43mlabels_all\u001b[49m\u001b[43m)\u001b[49m\u001b[38;5;241;43m.\u001b[39;49m\u001b[43msum\u001b[49m\u001b[43m(\u001b[49m\u001b[43m)\u001b[49m\u001b[38;5;241m.\u001b[39mfloat() \u001b[38;5;241m/\u001b[39m labels_all\u001b[38;5;241m.\u001b[39msize(\u001b[38;5;241m0\u001b[39m)\n\u001b[0;32m     18\u001b[0m \u001b[38;5;28;01mreturn\u001b[39;00m accuracy\n",
      "\u001b[1;31mKeyboardInterrupt\u001b[0m: "
     ]
    }
   ],
   "source": [
    "train_loss = []\n",
    "val_AUC = []\n",
    "\n",
    "for epoch in range(ep):\n",
    "    # Training and validation using a full graph\n",
    "    vgae_model.train()\n",
    "\n",
    "    logits = vgae_model.forward(graph, feats.float())\n",
    "\n",
    "    # compute loss\n",
    "    loss = norm * F.binary_cross_entropy(\n",
    "        logits.view(-1), adj.view(-1), weight=weight_tensor\n",
    "    )\n",
    "    kl_divergence = (\n",
    "        0.5\n",
    "        / logits.size(0)\n",
    "        * (\n",
    "            1\n",
    "            + 2 * vgae_model.log_std\n",
    "            - vgae_model.mean**2\n",
    "            - torch.exp(vgae_model.log_std) ** 2\n",
    "        )\n",
    "        .sum(1)\n",
    "        .mean()\n",
    "    )\n",
    "    loss -= kl_divergence\n",
    "\n",
    "    # backward\n",
    "    optimizer.zero_grad()\n",
    "    loss.backward()\n",
    "    optimizer.step()\n",
    "\n",
    "    train_acc = get_acc(logits, adj)\n",
    "\n",
    "    val_roc, val_ap = get_scores(val_edges, val_edges_false, logits)\n",
    "\n",
    "    # Print out performance\n",
    "    print(\n",
    "        \"Epoch:\",\n",
    "        \"%04d\" % (epoch + 1),\n",
    "        \"train_loss=\",\n",
    "        \"{:.5f}\".format(loss.item()),\n",
    "        \"train_acc=\",\n",
    "        \"{:.5f}\".format(train_acc),\n",
    "        \"val_roc=\",\n",
    "        \"{:.5f}\".format(val_roc),\n",
    "        \"val_ap=\",\n",
    "        \"{:.5f}\".format(val_ap)\n",
    "    )\n",
    "\n",
    "    train_loss.append(loss.item())\n",
    "    val_AUC.append(val_roc)\n"
   ]
  },
  {
   "cell_type": "code",
   "execution_count": 11,
   "id": "dfcce0ce",
   "metadata": {},
   "outputs": [
    {
     "name": "stdout",
     "output_type": "stream",
     "text": [
      "End of training! test_roc= 0.49896 test_ap= 0.49349\n"
     ]
    }
   ],
   "source": [
    "\n",
    "test_roc, test_ap = get_scores(test_edges, test_edges_false, logits)\n",
    "# roc_means.append(test_roc)\n",
    "# ap_means.append(test_ap)\n",
    "print(\n",
    "    \"End of training!\",\n",
    "    \"test_roc=\",\n",
    "    \"{:.5f}\".format(test_roc),\n",
    "    \"test_ap=\",\n",
    "    \"{:.5f}\".format(test_ap),\n",
    ")"
   ]
  },
  {
   "cell_type": "markdown",
   "id": "9fbdf7c9",
   "metadata": {
    "id": "9fbdf7c9"
   },
   "source": [
    "### Result Plotting"
   ]
  },
  {
   "cell_type": "code",
   "execution_count": 12,
   "id": "dbe7e9cd",
   "metadata": {
    "colab": {
     "base_uri": "https://localhost:8080/",
     "height": 325
    },
    "id": "dbe7e9cd",
    "outputId": "c7066025-7295-4cf0-c439-e2203a21ad58"
   },
   "outputs": [
    {
     "data": {
      "text/plain": [
       "Text(0, 0.5, 'Loss')"
      ]
     },
     "execution_count": 12,
     "metadata": {},
     "output_type": "execute_result"
    },
    {
     "data": {
      "image/png": "[encoded data removed]",
      "text/plain": [
       "<Figure size 640x480 with 1 Axes>"
      ]
     },
     "metadata": {},
     "output_type": "display_data"
    }
   ],
   "source": [
    "fig = plt.figure()\n",
    "plt.plot(train_loss[60:], label='training loss')\n",
    "fig.suptitle('VGAE Loss Plot')\n",
    "plt.xlabel('Epoch')\n",
    "plt.ylabel('Loss')"
   ]
  },
  {
   "cell_type": "code",
   "execution_count": 13,
   "id": "85db07e4",
   "metadata": {
    "colab": {
     "base_uri": "https://localhost:8080/",
     "height": 325
    },
    "id": "85db07e4",
    "outputId": "03b2a6ff-afbb-49ab-9d21-17485d3b70f7"
   },
   "outputs": [
    {
     "data": {
      "text/plain": [
       "Text(0, 0.5, 'AUC')"
      ]
     },
     "execution_count": 13,
     "metadata": {},
     "output_type": "execute_result"
    },
    {
     "data": {
      "image/png": "[encoded data removed]",
      "text/plain": [
       "<Figure size 640x480 with 1 Axes>"
      ]
     },
     "metadata": {},
     "output_type": "display_data"
    }
   ],
   "source": [
    "fig = plt.figure()\n",
    "#plt.plot(train_AUC, label='training AUC')\n",
    "plt.plot(val_AUC, label = 'validation AUC')\n",
    "fig.suptitle('VGAE AUC Plot')\n",
    "plt.xlabel('Epoch')\n",
    "plt.ylabel('AUC')"
   ]
  },
  {
   "cell_type": "code",
   "execution_count": null,
   "id": "c6f53aba",
   "metadata": {
    "id": "c6f53aba"
   },
   "outputs": [],
   "source": []
  }
 ],
 "metadata": {
  "colab": {
   "collapsed_sections": [],
   "machine_shape": "hm",
   "provenance": []
  },
  "gpuClass": "standard",
  "kernelspec": {
   "display_name": "Python 3 (ipykernel)",
   "language": "python",
   "name": "python3"
  },
  "language_info": {
   "codemirror_mode": {
    "name": "ipython",
    "version": 3
   },
   "file_extension": ".py",
   "mimetype": "text/x-python",
   "name": "python",
   "nbconvert_exporter": "python",
   "pygments_lexer": "ipython3",
   "version": "3.9.13"
  },
  "vscode": {
   "interpreter": {
    "hash": "eda238182c1de36151cdce09aa997c6697b1a1e480bed704816dfcebedb6bbfe"
   }
  }
 },
 "nbformat": 4,
 "nbformat_minor": 5
}
