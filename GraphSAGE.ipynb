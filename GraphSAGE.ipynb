{
 "cells": [
  {
   "cell_type": "markdown",
   "id": "b68a2227",
   "metadata": {},
   "source": [
    "# GraphSAGE Implementation"
   ]
  },
  {
   "cell_type": "markdown",
   "id": "f64ae355",
   "metadata": {},
   "source": [
    "```\n",
    "inproceedings{hamilton2017inductive,\n",
    "     author = {Hamilton, William L. and Ying, Rex and Leskovec, Jure},\n",
    "     title = {Inductive Representation Learning on Large Graphs},\n",
    "     booktitle = {NIPS},\n",
    "     year = {2017}\n",
    "   }\n",
    "```"
   ]
  },
  {
   "cell_type": "markdown",
   "id": "d86c48cb",
   "metadata": {},
   "source": [
    "## Import Library"
   ]
  },
  {
   "cell_type": "code",
   "execution_count": 1,
   "id": "eef4235b",
   "metadata": {},
   "outputs": [],
   "source": [
    "import torch\n",
    "import itertools\n",
    "import torch.nn as nn\n",
    "import torch.nn.functional as F\n",
    "from dgl.nn.pytorch import conv as dgl_conv\n",
    "from utils.startup_data_set import COMP4222Dataset\n",
    "from utils.PredictorClasses import *\n",
    "from utils.CustomMetrics import *\n",
    "import matplotlib.pyplot as plt\n",
    "device = torch.device('cuda' if torch.cuda.is_available() else 'cpu')"
   ]
  },
  {
   "cell_type": "markdown",
   "id": "b5147a43",
   "metadata": {},
   "source": [
    "### Hyperparameters"
   ]
  },
  {
   "cell_type": "code",
   "execution_count": 19,
   "id": "13e5bde2",
   "metadata": {},
   "outputs": [],
   "source": [
    "val_ratio = 0.1\n",
    "test_ratio = 0.1\n",
    "\n",
    "# Hyperparameters\n",
    "n_hidden = 64\n",
    "n_layers = 2\n",
    "out_dim = 16\n",
    "dropout = 0.5\n",
    "aggregator_type = 'mean'\n",
    "lr = 0.01\n",
    "early_stopping = 10\n",
    "ep = 100"
   ]
  },
  {
   "cell_type": "markdown",
   "id": "1e6446e8",
   "metadata": {},
   "source": [
    "## Load Dataset"
   ]
  },
  {
   "cell_type": "code",
   "execution_count": 3,
   "id": "16b3c4a0",
   "metadata": {},
   "outputs": [],
   "source": [
    "import numpy as np\n",
    "np.random.seed(0)"
   ]
  },
  {
   "cell_type": "code",
   "execution_count": 4,
   "id": "189885f8",
   "metadata": {},
   "outputs": [
    {
     "name": "stdout",
     "output_type": "stream",
     "text": [
      "Graph(num_nodes=25446, num_edges=45621,\n",
      "      ndata_schemes={'feat': Scheme(shape=(221,), dtype=torch.float64), 'label': Scheme(shape=(), dtype=torch.float32)}\n",
      "      edata_schemes={'feat': Scheme(shape=(23,), dtype=torch.float64)})\n"
     ]
    }
   ],
   "source": [
    "dataset = COMP4222Dataset()\n",
    "graph = dataset[0]\n",
    "print(graph)"
   ]
  },
  {
   "cell_type": "code",
   "execution_count": 5,
   "id": "0f1eec65",
   "metadata": {},
   "outputs": [
    {
     "data": {
      "text/plain": [
       "221"
      ]
     },
     "execution_count": 5,
     "metadata": {},
     "output_type": "execute_result"
    }
   ],
   "source": [
    "in_feats = graph.ndata['feat'].shape[1]\n",
    "in_feats"
   ]
  },
  {
   "cell_type": "markdown",
   "id": "7e76e323",
   "metadata": {},
   "source": [
    "## Generate Postitve Graph and Negative Graph with Spliting"
   ]
  },
  {
   "cell_type": "code",
   "execution_count": 6,
   "id": "3b21ea8e",
   "metadata": {},
   "outputs": [
    {
     "data": {
      "text/plain": [
       "Graph(num_nodes=25446, num_edges=61943,\n",
       "      ndata_schemes={'feat': Scheme(shape=(221,), dtype=torch.float64), 'label': Scheme(shape=(), dtype=torch.float32)}\n",
       "      edata_schemes={'feat': Scheme(shape=(23,), dtype=torch.float64)})"
      ]
     },
     "execution_count": 6,
     "metadata": {},
     "output_type": "execute_result"
    }
   ],
   "source": [
    "from utils.CustomUtilities import generate_neg_graph, generate_pos_graph\n",
    "train_g, train_pos_g, val_pos_g, test_pos_g = \\\n",
    "    generate_pos_graph(graph, val_ratio, test_ratio)\n",
    "\n",
    "train_g"
   ]
  },
  {
   "cell_type": "code",
   "execution_count": 7,
   "id": "8dfe9889",
   "metadata": {},
   "outputs": [
    {
     "data": {
      "text/plain": [
       "Graph(num_nodes=25446, num_edges=36497,\n",
       "      ndata_schemes={}\n",
       "      edata_schemes={})"
      ]
     },
     "execution_count": 7,
     "metadata": {},
     "output_type": "execute_result"
    }
   ],
   "source": [
    "train_neg_g, val_neg_g, test_neg_g = \\\n",
    "    generate_neg_graph(graph, val_ratio, test_ratio)\n",
    "\n",
    "train_neg_g"
   ]
  },
  {
   "cell_type": "code",
   "execution_count": 8,
   "id": "43d46fd2",
   "metadata": {},
   "outputs": [],
   "source": [
    "train_g, train_pos_g, val_pos_g, test_pos_g = \\\n",
    "    train_g.to(device), train_pos_g.to(device), val_pos_g.to(device), test_pos_g.to(device)\n",
    "\n",
    "train_neg_g, val_neg_g, test_neg_g = \\\n",
    "    train_neg_g.to(device), val_neg_g.to(device), test_neg_g.to(device)"
   ]
  },
  {
   "cell_type": "markdown",
   "id": "e38657b8",
   "metadata": {},
   "source": [
    "## Model Training"
   ]
  },
  {
   "cell_type": "markdown",
   "id": "c3a4f954",
   "metadata": {},
   "source": [
    "### Model Setup"
   ]
  },
  {
   "cell_type": "code",
   "execution_count": 9,
   "id": "171f3f4d",
   "metadata": {},
   "outputs": [],
   "source": [
    "class GraphSAGEModel(nn.Module):\n",
    "    def __init__(self,\n",
    "                 in_feats,\n",
    "                 n_hidden,\n",
    "                 out_dim,\n",
    "                 n_layers,\n",
    "                 activation,\n",
    "                 dropout,\n",
    "                 aggregator_type):\n",
    "        super(GraphSAGEModel, self).__init__()\n",
    "\n",
    "        self.layers = nn.ModuleList()\n",
    "        # input layer\n",
    "        self.layers.append(dgl_conv.SAGEConv(in_feats, n_hidden, aggregator_type,\n",
    "                                         feat_drop=dropout, activation=activation))\n",
    "        # hidden layers\n",
    "        for i in range(n_layers - 1):\n",
    "            self.layers.append(dgl_conv.SAGEConv(n_hidden, n_hidden, aggregator_type,\n",
    "                                             feat_drop=dropout, activation=activation))\n",
    "        # output layer\n",
    "        self.layers.append(dgl_conv.SAGEConv(n_hidden, out_dim, aggregator_type,\n",
    "                                         feat_drop=dropout, activation=None))\n",
    "        \n",
    "    def forward(self, g, features):\n",
    "        h = features.float().to(device)\n",
    "        for layer in self.layers:\n",
    "            h = layer(g, h).float().to(device)\n",
    "        return h"
   ]
  },
  {
   "cell_type": "code",
   "execution_count": 20,
   "id": "5ce225f9",
   "metadata": {},
   "outputs": [],
   "source": [
    "gconv_model = GraphSAGEModel(in_feats,\n",
    "                             n_hidden,\n",
    "                             out_dim,\n",
    "                             n_layers,\n",
    "                             F.relu,\n",
    "                             dropout,\n",
    "                             aggregator_type).to(device)\n",
    "\n",
    "pred = MLPPredictor(int(out_dim)).to(device)"
   ]
  },
  {
   "cell_type": "markdown",
   "id": "88ceeab3",
   "metadata": {},
   "source": [
    "### Training Loop"
   ]
  },
  {
   "cell_type": "code",
   "execution_count": 21,
   "id": "c945ab1f",
   "metadata": {},
   "outputs": [
    {
     "name": "stdout",
     "output_type": "stream",
     "text": [
      "Epoch: 0 \t Train loss: 0.706 \t Val loss: 0.705 \t Train AUC: 0.565 \t Val AUC: 0.563\n",
      "Epoch: 10 \t Train loss: 0.676 \t Val loss: 0.677 \t Train AUC: 0.667 \t Val AUC: 0.656\n",
      "Epoch: 20 \t Train loss: 0.65 \t Val loss: 0.656 \t Train AUC: 0.73 \t Val AUC: 0.704\n",
      "Epoch: 30 \t Train loss: 0.6 \t Val loss: 0.608 \t Train AUC: 0.811 \t Val AUC: 0.786\n",
      "Epoch: 40 \t Train loss: 0.52 \t Val loss: 0.542 \t Train AUC: 0.864 \t Val AUC: 0.829\n",
      "Epoch: 50 \t Train loss: 0.409 \t Val loss: 0.454 \t Train AUC: 0.905 \t Val AUC: 0.869\n",
      "Epoch: 60 \t Train loss: 0.341 \t Val loss: 0.42 \t Train AUC: 0.923 \t Val AUC: 0.89\n",
      "Epoch: 70 \t Train loss: 0.304 \t Val loss: 0.407 \t Train AUC: 0.937 \t Val AUC: 0.904\n",
      "Epoch: 80 \t Train loss: 0.291 \t Val loss: 0.4 \t Train AUC: 0.941 \t Val AUC: 0.909\n",
      "Epoch: 90 \t Train loss: 0.281 \t Val loss: 0.4 \t Train AUC: 0.944 \t Val AUC: 0.914\n"
     ]
    }
   ],
   "source": [
    "import itertools\n",
    "\n",
    "train_loss, val_loss = [], []\n",
    "train_AUC, val_AUC = [], []\n",
    "stop = 0\n",
    "\n",
    "optimizer = torch.optim.Adam(itertools.chain(gconv_model.parameters(), pred.parameters()))\n",
    "for e in range(ep):\n",
    "    # forward\n",
    "    h = gconv_model(train_g, train_g.ndata['feat']).to(device)\n",
    "    pos_score = pred(train_pos_g, h)\n",
    "    neg_score = pred(train_neg_g, h)\n",
    "\n",
    "    loss = compute_loss(pos_score, neg_score)\n",
    "    train_loss.append(loss.item())\n",
    "    train_AUC.append(compute_auc(pos_score, neg_score))\n",
    "\n",
    "    # backward\n",
    "    optimizer.zero_grad()\n",
    "    loss.backward()\n",
    "    optimizer.step()\n",
    "\n",
    "    # validation\n",
    "    v_pos_score = pred(val_pos_g, h)\n",
    "    v_neg_score = pred(val_neg_g, h)\n",
    "    v_loss = compute_loss(v_pos_score, v_neg_score)\n",
    "    val_loss.append(v_loss.item())\n",
    "    val_AUC.append(compute_auc(v_pos_score, v_neg_score))\n",
    "\n",
    "    #verbose\n",
    "    if e % 10 == 0:\n",
    "        print('Epoch: {} \\t Train loss: {} \\t Val loss: {} \\t Train AUC: {} \\t Val AUC: {}'.format(e, round(loss.item(), 3), round(v_loss.item(), 3), round(train_AUC[-1],3), round(val_AUC[-1], 3)))\n",
    "\n",
    "\n",
    "    # early stopping\n",
    "    if e > 10:\n",
    "        if v_loss.item() > sum(val_loss[-5:])/5:\n",
    "            stop += 1\n",
    "        else: \n",
    "            stop = 0\n",
    "        if stop >= early_stopping:\n",
    "            print(\"Early Stopped at Epoch {}\".format(e))\n",
    "            break\n"
   ]
  },
  {
   "cell_type": "code",
   "execution_count": 22,
   "id": "fa25daee",
   "metadata": {},
   "outputs": [
    {
     "name": "stdout",
     "output_type": "stream",
     "text": [
      "AUC: 0.9145967555782178\n"
     ]
    }
   ],
   "source": [
    "# testing AUC\n",
    "with torch.no_grad():\n",
    "    pos_score = pred(test_pos_g, h)\n",
    "    neg_score = pred(test_neg_g, h)\n",
    "    print('AUC:', compute_auc(pos_score, neg_score))"
   ]
  },
  {
   "cell_type": "markdown",
   "id": "9fbdf7c9",
   "metadata": {},
   "source": [
    "### Result Plotting"
   ]
  },
  {
   "cell_type": "code",
   "execution_count": 23,
   "id": "dbe7e9cd",
   "metadata": {},
   "outputs": [
    {
     "data": {
      "text/plain": [
       "Text(0, 0.5, 'Loss')"
      ]
     },
     "execution_count": 23,
     "metadata": {},
     "output_type": "execute_result"
    },
    {
     "data": {
      "image/png": "[encoded data removed]",
      "text/plain": [
       "<Figure size 640x480 with 1 Axes>"
      ]
     },
     "metadata": {},
     "output_type": "display_data"
    }
   ],
   "source": [
    "fig = plt.figure()\n",
    "plt.plot(train_loss[20:], label='training loss')\n",
    "plt.plot(val_loss[20:], label = 'validation loss')\n",
    "fig.suptitle('GraphSAGE Loss Plot')\n",
    "plt.xlabel('Epoch')\n",
    "plt.ylabel('Loss')"
   ]
  },
  {
   "cell_type": "code",
   "execution_count": 24,
   "id": "85db07e4",
   "metadata": {},
   "outputs": [
    {
     "data": {
      "text/plain": [
       "Text(0, 0.5, 'AUC')"
      ]
     },
     "execution_count": 24,
     "metadata": {},
     "output_type": "execute_result"
    },
    {
     "data": {
      "image/png": "[encoded data removed]",
      "text/plain": [
       "<Figure size 640x480 with 1 Axes>"
      ]
     },
     "metadata": {},
     "output_type": "display_data"
    }
   ],
   "source": [
    "fig = plt.figure()\n",
    "plt.plot(train_AUC, label='training AUC')\n",
    "plt.plot(val_AUC, label = 'validation AUC')\n",
    "fig.suptitle('GraphSAGE AUC Plot')\n",
    "plt.xlabel('Epoch')\n",
    "plt.ylabel('AUC')\n"
   ]
  },
  {
   "cell_type": "code",
   "execution_count": null,
   "id": "ee04c739",
   "metadata": {},
   "outputs": [],
   "source": []
  }
 ],
 "metadata": {
  "kernelspec": {
   "display_name": "Python 3 (ipykernel)",
   "language": "python",
   "name": "python3"
  },
  "language_info": {
   "codemirror_mode": {
    "name": "ipython",
    "version": 3
   },
   "file_extension": ".py",
   "mimetype": "text/x-python",
   "name": "python",
   "nbconvert_exporter": "python",
   "pygments_lexer": "ipython3",
   "version": "3.9.10"
  },
  "vscode": {
   "interpreter": {
    "hash": "eda238182c1de36151cdce09aa997c6697b1a1e480bed704816dfcebedb6bbfe"
   }
  }
 },
 "nbformat": 4,
 "nbformat_minor": 5
}
