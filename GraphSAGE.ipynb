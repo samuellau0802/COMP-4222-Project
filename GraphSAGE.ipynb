{
 "cells": [
  {
   "cell_type": "code",
   "execution_count": 1,
   "id": "eef4235b",
   "metadata": {},
   "outputs": [],
   "source": [
    "import dgl\n",
    "from dgl.data import DGLDataset\n",
    "import torch\n",
    "import os\n",
    "import pandas as pd\n",
    "import numpy as np\n",
    "import torch\n",
    "import itertools\n",
    "import numpy as np\n",
    "import scipy.sparse as sp\n",
    "import dgl.nn as dglnn\n",
    "import torch.nn as nn\n",
    "import torch.nn.functional as F\n",
    "import dgl.function as fn\n",
    "from dgl.nn.pytorch import conv as dgl_conv\n",
    "from startup_data_set import COMP4222Dataset\n",
    "from PredictorClasses import *\n",
    "from CustomMetrics import *\n",
    "device = torch.device('cpu')"
   ]
  },
  {
   "cell_type": "code",
   "execution_count": 2,
   "id": "f8ceb2eb",
   "metadata": {},
   "outputs": [
    {
     "name": "stdout",
     "output_type": "stream",
     "text": [
      "Graph(num_nodes=25446, num_edges=45621,\n",
      "      ndata_schemes={'feat': Scheme(shape=(221,), dtype=torch.float64), 'label': Scheme(shape=(), dtype=torch.float32)}\n",
      "      edata_schemes={'feat': Scheme(shape=(26,), dtype=torch.float64)})\n"
     ]
    }
   ],
   "source": [
    "dataset = COMP4222Dataset()\n",
    "graph = dataset[0]\n",
    "print(graph)"
   ]
  },
  {
   "cell_type": "code",
   "execution_count": 3,
   "id": "0f1eec65",
   "metadata": {},
   "outputs": [],
   "source": [
    "in_feats = graph.ndata['feat'].shape[1]"
   ]
  },
  {
   "cell_type": "code",
   "execution_count": 4,
   "id": "8e99194b",
   "metadata": {},
   "outputs": [],
   "source": [
    "u, v = graph.edges()\n",
    "# give id for all edges then permutation\n",
    "eids = np.arange(graph.number_of_edges())\n",
    "eids = np.random.permutation(eids)\n",
    "\n",
    "# use 10% as test set\n",
    "test_size = int(len(eids) * 0.1)\n",
    "train_size = graph.number_of_edges() - test_size\n",
    "\n",
    "test_pos_u, test_pos_v = u[eids[:test_size]], v[eids[:test_size]]\n",
    "train_pos_u, train_pos_v = u[eids[test_size:]], v[eids[test_size:]]\n",
    "\n",
    "# Find all negative edges and split them for training and testing\n",
    "\n",
    "#use sparse matrix to save memory\n",
    "# ,shape = (torch.max(v)+1,torch.max(v)+1)\n",
    "adj = sp.coo_matrix((np.ones(len(u)), (u.numpy(), v.numpy())))\n",
    "adj_neg = 1 - adj.todense() - np.eye(torch.max(u)+1,torch.max(v)+1)\n",
    "neg_u, neg_v = np.where(adj_neg != 0) # negative edge, we don't have edge\n",
    "\n",
    "neg_eids = np.random.choice(len(neg_u), graph.number_of_edges())\n",
    "test_neg_u, test_neg_v = neg_u[neg_eids[:test_size]], neg_v[neg_eids[:test_size]]\n",
    "train_neg_u, train_neg_v = neg_u[neg_eids[test_size:]], neg_v[neg_eids[test_size:]]"
   ]
  },
  {
   "cell_type": "code",
   "execution_count": 11,
   "id": "5041cee8",
   "metadata": {},
   "outputs": [
    {
     "name": "stdout",
     "output_type": "stream",
     "text": [
      "tensor([14974,  5534,  8323,  ..., 15352, 12288, 10852])\n"
     ]
    }
   ],
   "source": [
    "print(train_pos_u)"
   ]
  },
  {
   "cell_type": "code",
   "execution_count": 5,
   "id": "797f4311",
   "metadata": {},
   "outputs": [],
   "source": [
    "# Debug"
   ]
  },
  {
   "cell_type": "code",
   "execution_count": 6,
   "id": "abe58bcc",
   "metadata": {},
   "outputs": [],
   "source": [
    "train_g = dgl.remove_edges(graph, eids[:test_size])\n",
    "train_g = dgl.add_self_loop(train_g)\n",
    "train_pos_g = dgl.graph((train_pos_u, train_pos_v), num_nodes=graph.number_of_nodes())\n",
    "train_neg_g = dgl.graph((train_neg_u, train_neg_v), num_nodes=graph.number_of_nodes())\n",
    "\n",
    "test_pos_g = dgl.graph((test_pos_u, test_pos_v), num_nodes=graph.number_of_nodes())\n",
    "test_neg_g = dgl.graph((test_neg_u, test_neg_v), num_nodes=graph.number_of_nodes())"
   ]
  },
  {
   "cell_type": "code",
   "execution_count": 7,
   "id": "171f3f4d",
   "metadata": {},
   "outputs": [],
   "source": [
    "class GraphSAGEModel(nn.Module):\n",
    "    def __init__(self,\n",
    "                 in_feats,\n",
    "                 n_hidden,\n",
    "                 out_dim,\n",
    "                 n_layers,\n",
    "                 activation,\n",
    "                 dropout,\n",
    "                 aggregator_type):\n",
    "        super(GraphSAGEModel, self).__init__()\n",
    "\n",
    "        self.layers = nn.ModuleList()\n",
    "        # input layer\n",
    "        self.layers.append(dgl_conv.SAGEConv(in_feats, n_hidden, aggregator_type,\n",
    "                                         feat_drop=dropout, activation=activation))\n",
    "        # hidden layers\n",
    "        for i in range(n_layers - 1):\n",
    "            self.layers.append(dgl_conv.SAGEConv(n_hidden, n_hidden, aggregator_type,\n",
    "                                             feat_drop=dropout, activation=activation))\n",
    "        # output layer\n",
    "        self.layers.append(dgl_conv.SAGEConv(n_hidden, out_dim, aggregator_type,\n",
    "                                         feat_drop=dropout, activation=None))\n",
    "        \n",
    "    def forward(self, g, features):\n",
    "        h = features.float()\n",
    "        for layer in self.layers:\n",
    "            h = layer(g, h).float()\n",
    "        return h"
   ]
  },
  {
   "cell_type": "code",
   "execution_count": 8,
   "id": "5ce225f9",
   "metadata": {},
   "outputs": [],
   "source": [
    "# Hyperparameters\n",
    "n_hidden = 64\n",
    "n_layers = 2\n",
    "dropout = 0.5\n",
    "aggregator_type = 'mean'\n",
    "\n",
    "gconv_model = GraphSAGEModel(in_feats,\n",
    "                             n_hidden,\n",
    "                             n_hidden,\n",
    "                             n_layers,\n",
    "                             F.relu,\n",
    "                             dropout,\n",
    "                             aggregator_type)"
   ]
  },
  {
   "cell_type": "code",
   "execution_count": 9,
   "id": "d1680bb3",
   "metadata": {},
   "outputs": [],
   "source": [
    "pred = DotPredictor()"
   ]
  },
  {
   "cell_type": "code",
   "execution_count": 10,
   "id": "c945ab1f",
   "metadata": {},
   "outputs": [
    {
     "name": "stdout",
     "output_type": "stream",
     "text": [
      "In epoch 0, loss: 7.574316024780273\n",
      "In epoch 5, loss: 0.8317697048187256\n",
      "In epoch 10, loss: 0.6913649439811707\n",
      "In epoch 15, loss: 0.6891352534294128\n",
      "In epoch 20, loss: 0.6893130540847778\n",
      "In epoch 25, loss: 0.6891641616821289\n",
      "In epoch 30, loss: 0.6875033378601074\n",
      "In epoch 35, loss: 0.6870720386505127\n",
      "In epoch 40, loss: 0.6857577562332153\n",
      "In epoch 45, loss: 0.6835238933563232\n",
      "In epoch 50, loss: 0.6820350885391235\n",
      "In epoch 55, loss: 0.6803224682807922\n",
      "In epoch 60, loss: 0.677024781703949\n",
      "In epoch 65, loss: 0.6754440665245056\n",
      "In epoch 70, loss: 0.6719152927398682\n",
      "In epoch 75, loss: 0.6640875339508057\n",
      "In epoch 80, loss: 0.661032497882843\n",
      "In epoch 85, loss: 0.6535555720329285\n",
      "In epoch 90, loss: 0.6424782872200012\n",
      "In epoch 95, loss: 0.6329498291015625\n",
      "In epoch 100, loss: 0.6187270879745483\n",
      "In epoch 105, loss: 0.6048311591148376\n",
      "In epoch 110, loss: 0.5969589948654175\n",
      "In epoch 115, loss: 0.5950630307197571\n",
      "In epoch 120, loss: 0.5795830488204956\n",
      "In epoch 125, loss: 0.5775408744812012\n",
      "In epoch 130, loss: 0.5694282054901123\n",
      "In epoch 135, loss: 0.5648712515830994\n",
      "In epoch 140, loss: 0.5602824687957764\n",
      "In epoch 145, loss: 0.5619714856147766\n",
      "In epoch 150, loss: 0.5555489659309387\n",
      "In epoch 155, loss: 0.5489630103111267\n",
      "In epoch 160, loss: 0.5592932105064392\n",
      "In epoch 165, loss: 0.5583677291870117\n",
      "In epoch 170, loss: 0.5518452525138855\n",
      "In epoch 175, loss: 0.5453472137451172\n",
      "In epoch 180, loss: 0.5380001664161682\n",
      "In epoch 185, loss: 0.5378574132919312\n",
      "In epoch 190, loss: 0.5418901443481445\n",
      "In epoch 195, loss: 0.5443726181983948\n",
      "AUC 0.8574329838336285\n"
     ]
    }
   ],
   "source": [
    "import itertools\n",
    "\n",
    "optimizer = torch.optim.Adam(itertools.chain(gconv_model.parameters(), pred.parameters()), lr=0.01)\n",
    "for e in range(200):\n",
    "    # forward\n",
    "    h = gconv_model(train_g, train_g.ndata['feat'])\n",
    "    pos_score = pred(train_pos_g, h)\n",
    "    neg_score = pred(train_neg_g, h)\n",
    "    loss = compute_loss(pos_score, neg_score)\n",
    "\n",
    "    # backward\n",
    "    optimizer.zero_grad()\n",
    "    loss.backward()\n",
    "    optimizer.step()\n",
    "\n",
    "    if e % 5 == 0:\n",
    "        print('In epoch {}, loss: {}'.format(e, loss))\n",
    "\n",
    "from sklearn.metrics import roc_auc_score\n",
    "with torch.no_grad():\n",
    "    pos_score = pred(test_pos_g, h)\n",
    "    neg_score = pred(test_neg_g, h)\n",
    "    print('AUC', compute_auc(pos_score, neg_score))"
   ]
  }
 ],
 "metadata": {
  "kernelspec": {
   "display_name": "Python 3 (ipykernel)",
   "language": "python",
   "name": "python3"
  },
  "language_info": {
   "codemirror_mode": {
    "name": "ipython",
    "version": 3
   },
   "file_extension": ".py",
   "mimetype": "text/x-python",
   "name": "python",
   "nbconvert_exporter": "python",
   "pygments_lexer": "ipython3",
   "version": "3.9.10"
  }
 },
 "nbformat": 4,
 "nbformat_minor": 5
}
