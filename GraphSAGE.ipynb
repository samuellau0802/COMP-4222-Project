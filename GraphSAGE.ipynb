{
 "cells": [
  {
   "cell_type": "markdown",
   "id": "b68a2227",
   "metadata": {},
   "source": [
    "# GraphSAGE Implementation"
   ]
  },
  {
   "cell_type": "markdown",
   "id": "f64ae355",
   "metadata": {},
   "source": [
    "```\n",
    "inproceedings{hamilton2017inductive,\n",
    "     author = {Hamilton, William L. and Ying, Rex and Leskovec, Jure},\n",
    "     title = {Inductive Representation Learning on Large Graphs},\n",
    "     booktitle = {NIPS},\n",
    "     year = {2017}\n",
    "   }\n",
    "```"
   ]
  },
  {
   "cell_type": "markdown",
   "id": "d86c48cb",
   "metadata": {},
   "source": [
    "## Import Library"
   ]
  },
  {
   "cell_type": "code",
   "execution_count": 39,
   "id": "eef4235b",
   "metadata": {},
   "outputs": [],
   "source": [
    "import torch\n",
    "import itertools\n",
    "import torch.nn as nn\n",
    "import torch.nn.functional as F\n",
    "from dgl.nn.pytorch import conv as dgl_conv\n",
    "from startup_data_set import COMP4222Dataset\n",
    "from PredictorClasses import *\n",
    "from CustomMetrics import *\n",
    "import matplotlib.pyplot as plt\n",
    "\n",
    "device = torch.device('cpu')"
   ]
  },
  {
   "cell_type": "markdown",
   "id": "b5147a43",
   "metadata": {},
   "source": [
    "### Hypermeters"
   ]
  },
  {
   "cell_type": "code",
   "execution_count": 76,
   "id": "13e5bde2",
   "metadata": {},
   "outputs": [],
   "source": [
    "val_ratio = 0.1\n",
    "test_ratio = 0.1\n",
    "\n",
    "# Hyperparameters\n",
    "n_hidden = 64\n",
    "n_layers = 2\n",
    "dropout = 0.5\n",
    "aggregator_type = 'mean'\n",
    "lr = 0.01\n",
    "early_stopping = 10\n",
    "ep = 1500"
   ]
  },
  {
   "cell_type": "markdown",
   "id": "1e6446e8",
   "metadata": {},
   "source": [
    "## Load Dataset"
   ]
  },
  {
   "cell_type": "code",
   "execution_count": null,
   "id": "16b3c4a0",
   "metadata": {},
   "outputs": [],
   "source": [
    "import numpy as np\n",
    "np.random.seed(0)"
   ]
  },
  {
   "cell_type": "code",
   "execution_count": 77,
   "id": "f8ceb2eb",
   "metadata": {},
   "outputs": [
    {
     "name": "stdout",
     "output_type": "stream",
     "text": [
      "Graph(num_nodes=25446, num_edges=45621,\n",
      "      ndata_schemes={'feat': Scheme(shape=(221,), dtype=torch.float64), 'label': Scheme(shape=(), dtype=torch.float32)}\n",
      "      edata_schemes={'feat': Scheme(shape=(23,), dtype=torch.float64)})\n"
     ]
    }
   ],
   "source": [
    "dataset = COMP4222Dataset()\n",
    "graph = dataset[0]\n",
    "print(graph)"
   ]
  },
  {
   "cell_type": "code",
   "execution_count": 78,
   "id": "0f1eec65",
   "metadata": {},
   "outputs": [
    {
     "data": {
      "text/plain": [
       "221"
      ]
     },
     "execution_count": 78,
     "metadata": {},
     "output_type": "execute_result"
    }
   ],
   "source": [
    "in_feats = graph.ndata['feat'].shape[1]\n",
    "in_feats"
   ]
  },
  {
   "cell_type": "markdown",
   "id": "7e76e323",
   "metadata": {},
   "source": [
    "## Generate Postitve Graph and Negative Graph with Spliting"
   ]
  },
  {
   "cell_type": "code",
   "execution_count": 80,
   "id": "3b21ea8e",
   "metadata": {},
   "outputs": [
    {
     "data": {
      "text/plain": [
       "Graph(num_nodes=25446, num_edges=61943,\n",
       "      ndata_schemes={'feat': Scheme(shape=(221,), dtype=torch.float64), 'label': Scheme(shape=(), dtype=torch.float32)}\n",
       "      edata_schemes={'feat': Scheme(shape=(23,), dtype=torch.float64)})"
      ]
     },
     "execution_count": 80,
     "metadata": {},
     "output_type": "execute_result"
    }
   ],
   "source": [
    "from CustomUtilities import generate_neg_graph, generate_pos_graph\n",
    "train_g, train_pos_g, val_pos_g, test_pos_g = \\\n",
    "    generate_pos_graph(graph, val_ratio, test_ratio)\n",
    "\n",
    "train_g"
   ]
  },
  {
   "cell_type": "code",
   "execution_count": 81,
   "id": "8dfe9889",
   "metadata": {},
   "outputs": [
    {
     "data": {
      "text/plain": [
       "Graph(num_nodes=25446, num_edges=36497,\n",
       "      ndata_schemes={}\n",
       "      edata_schemes={})"
      ]
     },
     "execution_count": 81,
     "metadata": {},
     "output_type": "execute_result"
    }
   ],
   "source": [
    "train_neg_g, val_neg_g, test_neg_g = \\\n",
    "    generate_neg_graph(graph, val_ratio, test_ratio)\n",
    "\n",
    "train_neg_g"
   ]
  },
  {
   "cell_type": "markdown",
   "id": "e38657b8",
   "metadata": {},
   "source": [
    "## Model Training"
   ]
  },
  {
   "cell_type": "markdown",
   "id": "c3a4f954",
   "metadata": {},
   "source": [
    "### Model Setup"
   ]
  },
  {
   "cell_type": "code",
   "execution_count": 82,
   "id": "171f3f4d",
   "metadata": {},
   "outputs": [],
   "source": [
    "class GraphSAGEModel(nn.Module):\n",
    "    def __init__(self,\n",
    "                 in_feats,\n",
    "                 n_hidden,\n",
    "                 out_dim,\n",
    "                 n_layers,\n",
    "                 activation,\n",
    "                 dropout,\n",
    "                 aggregator_type):\n",
    "        super(GraphSAGEModel, self).__init__()\n",
    "\n",
    "        self.layers = nn.ModuleList()\n",
    "        # input layer\n",
    "        self.layers.append(dgl_conv.SAGEConv(in_feats, n_hidden, aggregator_type,\n",
    "                                         feat_drop=dropout, activation=activation))\n",
    "        # hidden layers\n",
    "        for i in range(n_layers - 1):\n",
    "            self.layers.append(dgl_conv.SAGEConv(n_hidden, n_hidden, aggregator_type,\n",
    "                                             feat_drop=dropout, activation=activation))\n",
    "        # output layer\n",
    "        self.layers.append(dgl_conv.SAGEConv(n_hidden, out_dim, aggregator_type,\n",
    "                                         feat_drop=dropout, activation=None))\n",
    "        \n",
    "    def forward(self, g, features):\n",
    "        h = features.float()\n",
    "        for layer in self.layers:\n",
    "            h = layer(g, h).float()\n",
    "        return h"
   ]
  },
  {
   "cell_type": "code",
   "execution_count": 83,
   "id": "5ce225f9",
   "metadata": {},
   "outputs": [],
   "source": [
    "gconv_model = GraphSAGEModel(in_feats,\n",
    "                             n_hidden,\n",
    "                             n_hidden,\n",
    "                             n_layers,\n",
    "                             F.relu,\n",
    "                             dropout,\n",
    "                             aggregator_type)\n",
    "\n",
    "pred = DotPredictor()"
   ]
  },
  {
   "cell_type": "markdown",
   "id": "88ceeab3",
   "metadata": {},
   "source": [
    "### Training Loop"
   ]
  },
  {
   "cell_type": "code",
   "execution_count": 85,
   "id": "c945ab1f",
   "metadata": {},
   "outputs": [
    {
     "name": "stdout",
     "output_type": "stream",
     "text": [
      "Epoch: 0 \t Train loss: 8.962 \t Val loss: 9.078 \t Train AUC: 0.637 \t Val AUC: 0.561\n",
      "Epoch: 10 \t Train loss: 2.198 \t Val loss: 2.483 \t Train AUC: 0.669 \t Val AUC: 0.543\n",
      "Epoch: 20 \t Train loss: 1.345 \t Val loss: 1.548 \t Train AUC: 0.665 \t Val AUC: 0.533\n",
      "Epoch: 30 \t Train loss: 1.03 \t Val loss: 1.159 \t Train AUC: 0.674 \t Val AUC: 0.545\n",
      "Epoch: 40 \t Train loss: 0.878 \t Val loss: 1.056 \t Train AUC: 0.685 \t Val AUC: 0.538\n",
      "Epoch: 50 \t Train loss: 0.808 \t Val loss: 0.932 \t Train AUC: 0.691 \t Val AUC: 0.556\n",
      "Epoch: 60 \t Train loss: 0.763 \t Val loss: 0.883 \t Train AUC: 0.695 \t Val AUC: 0.555\n",
      "Epoch: 70 \t Train loss: 0.729 \t Val loss: 0.83 \t Train AUC: 0.705 \t Val AUC: 0.574\n",
      "Epoch: 80 \t Train loss: 0.717 \t Val loss: 0.802 \t Train AUC: 0.705 \t Val AUC: 0.566\n",
      "Epoch: 90 \t Train loss: 0.705 \t Val loss: 0.772 \t Train AUC: 0.711 \t Val AUC: 0.581\n",
      "Epoch: 100 \t Train loss: 0.695 \t Val loss: 0.771 \t Train AUC: 0.711 \t Val AUC: 0.58\n",
      "Epoch: 110 \t Train loss: 0.686 \t Val loss: 0.754 \t Train AUC: 0.717 \t Val AUC: 0.583\n",
      "Epoch: 120 \t Train loss: 0.679 \t Val loss: 0.75 \t Train AUC: 0.723 \t Val AUC: 0.595\n",
      "Epoch: 130 \t Train loss: 0.678 \t Val loss: 0.753 \t Train AUC: 0.723 \t Val AUC: 0.582\n",
      "Epoch: 140 \t Train loss: 0.672 \t Val loss: 0.738 \t Train AUC: 0.726 \t Val AUC: 0.6\n",
      "Epoch: 150 \t Train loss: 0.67 \t Val loss: 0.735 \t Train AUC: 0.73 \t Val AUC: 0.59\n",
      "Epoch: 160 \t Train loss: 0.669 \t Val loss: 0.723 \t Train AUC: 0.734 \t Val AUC: 0.602\n",
      "Epoch: 170 \t Train loss: 0.662 \t Val loss: 0.72 \t Train AUC: 0.736 \t Val AUC: 0.606\n",
      "Epoch: 180 \t Train loss: 0.662 \t Val loss: 0.717 \t Train AUC: 0.74 \t Val AUC: 0.608\n",
      "Epoch: 190 \t Train loss: 0.66 \t Val loss: 0.718 \t Train AUC: 0.747 \t Val AUC: 0.604\n",
      "Epoch: 200 \t Train loss: 0.66 \t Val loss: 0.722 \t Train AUC: 0.745 \t Val AUC: 0.602\n",
      "Epoch: 210 \t Train loss: 0.659 \t Val loss: 0.72 \t Train AUC: 0.749 \t Val AUC: 0.614\n",
      "Epoch: 220 \t Train loss: 0.658 \t Val loss: 0.71 \t Train AUC: 0.749 \t Val AUC: 0.619\n",
      "Epoch: 230 \t Train loss: 0.656 \t Val loss: 0.708 \t Train AUC: 0.762 \t Val AUC: 0.629\n",
      "Epoch: 240 \t Train loss: 0.662 \t Val loss: 0.718 \t Train AUC: 0.753 \t Val AUC: 0.623\n",
      "Epoch: 250 \t Train loss: 0.656 \t Val loss: 0.706 \t Train AUC: 0.762 \t Val AUC: 0.634\n",
      "Epoch: 260 \t Train loss: 0.657 \t Val loss: 0.71 \t Train AUC: 0.764 \t Val AUC: 0.632\n",
      "Epoch: 270 \t Train loss: 0.655 \t Val loss: 0.704 \t Train AUC: 0.764 \t Val AUC: 0.64\n",
      "Epoch: 280 \t Train loss: 0.655 \t Val loss: 0.707 \t Train AUC: 0.767 \t Val AUC: 0.64\n",
      "Epoch: 290 \t Train loss: 0.652 \t Val loss: 0.708 \t Train AUC: 0.771 \t Val AUC: 0.635\n",
      "Epoch: 300 \t Train loss: 0.648 \t Val loss: 0.706 \t Train AUC: 0.776 \t Val AUC: 0.64\n",
      "Epoch: 310 \t Train loss: 0.65 \t Val loss: 0.703 \t Train AUC: 0.777 \t Val AUC: 0.643\n",
      "Epoch: 320 \t Train loss: 0.65 \t Val loss: 0.702 \t Train AUC: 0.777 \t Val AUC: 0.643\n",
      "Epoch: 330 \t Train loss: 0.649 \t Val loss: 0.704 \t Train AUC: 0.778 \t Val AUC: 0.647\n",
      "Epoch: 340 \t Train loss: 0.647 \t Val loss: 0.702 \t Train AUC: 0.78 \t Val AUC: 0.653\n",
      "Epoch: 350 \t Train loss: 0.649 \t Val loss: 0.696 \t Train AUC: 0.781 \t Val AUC: 0.658\n",
      "Epoch: 360 \t Train loss: 0.647 \t Val loss: 0.697 \t Train AUC: 0.785 \t Val AUC: 0.659\n",
      "Epoch: 370 \t Train loss: 0.644 \t Val loss: 0.697 \t Train AUC: 0.786 \t Val AUC: 0.657\n",
      "Epoch: 380 \t Train loss: 0.641 \t Val loss: 0.693 \t Train AUC: 0.79 \t Val AUC: 0.665\n",
      "Epoch: 390 \t Train loss: 0.642 \t Val loss: 0.693 \t Train AUC: 0.79 \t Val AUC: 0.664\n",
      "Epoch: 400 \t Train loss: 0.639 \t Val loss: 0.7 \t Train AUC: 0.794 \t Val AUC: 0.661\n",
      "Epoch: 410 \t Train loss: 0.639 \t Val loss: 0.7 \t Train AUC: 0.797 \t Val AUC: 0.662\n",
      "Epoch: 420 \t Train loss: 0.637 \t Val loss: 0.693 \t Train AUC: 0.8 \t Val AUC: 0.674\n",
      "Epoch: 430 \t Train loss: 0.636 \t Val loss: 0.694 \t Train AUC: 0.8 \t Val AUC: 0.671\n",
      "Epoch: 440 \t Train loss: 0.638 \t Val loss: 0.694 \t Train AUC: 0.801 \t Val AUC: 0.671\n",
      "Epoch: 450 \t Train loss: 0.635 \t Val loss: 0.693 \t Train AUC: 0.805 \t Val AUC: 0.677\n",
      "Epoch: 460 \t Train loss: 0.631 \t Val loss: 0.682 \t Train AUC: 0.809 \t Val AUC: 0.691\n",
      "Epoch: 470 \t Train loss: 0.633 \t Val loss: 0.688 \t Train AUC: 0.806 \t Val AUC: 0.691\n",
      "Epoch: 480 \t Train loss: 0.631 \t Val loss: 0.687 \t Train AUC: 0.811 \t Val AUC: 0.686\n",
      "Epoch: 490 \t Train loss: 0.626 \t Val loss: 0.685 \t Train AUC: 0.814 \t Val AUC: 0.69\n",
      "Epoch: 500 \t Train loss: 0.625 \t Val loss: 0.688 \t Train AUC: 0.82 \t Val AUC: 0.689\n",
      "Epoch: 510 \t Train loss: 0.623 \t Val loss: 0.682 \t Train AUC: 0.822 \t Val AUC: 0.698\n",
      "Epoch: 520 \t Train loss: 0.622 \t Val loss: 0.676 \t Train AUC: 0.823 \t Val AUC: 0.705\n",
      "Epoch: 530 \t Train loss: 0.619 \t Val loss: 0.684 \t Train AUC: 0.825 \t Val AUC: 0.697\n",
      "Epoch: 540 \t Train loss: 0.62 \t Val loss: 0.678 \t Train AUC: 0.827 \t Val AUC: 0.707\n",
      "Epoch: 550 \t Train loss: 0.617 \t Val loss: 0.669 \t Train AUC: 0.834 \t Val AUC: 0.719\n",
      "Epoch: 560 \t Train loss: 0.614 \t Val loss: 0.677 \t Train AUC: 0.836 \t Val AUC: 0.712\n",
      "Epoch: 570 \t Train loss: 0.612 \t Val loss: 0.669 \t Train AUC: 0.836 \t Val AUC: 0.724\n",
      "Epoch: 580 \t Train loss: 0.609 \t Val loss: 0.676 \t Train AUC: 0.845 \t Val AUC: 0.717\n",
      "Epoch: 590 \t Train loss: 0.608 \t Val loss: 0.662 \t Train AUC: 0.845 \t Val AUC: 0.728\n",
      "Epoch: 600 \t Train loss: 0.607 \t Val loss: 0.669 \t Train AUC: 0.844 \t Val AUC: 0.728\n",
      "Epoch: 610 \t Train loss: 0.603 \t Val loss: 0.667 \t Train AUC: 0.851 \t Val AUC: 0.739\n",
      "Epoch: 620 \t Train loss: 0.603 \t Val loss: 0.662 \t Train AUC: 0.853 \t Val AUC: 0.737\n",
      "Epoch: 630 \t Train loss: 0.598 \t Val loss: 0.657 \t Train AUC: 0.858 \t Val AUC: 0.741\n",
      "Epoch: 640 \t Train loss: 0.598 \t Val loss: 0.651 \t Train AUC: 0.86 \t Val AUC: 0.755\n",
      "Epoch: 650 \t Train loss: 0.591 \t Val loss: 0.651 \t Train AUC: 0.867 \t Val AUC: 0.756\n",
      "Epoch: 660 \t Train loss: 0.59 \t Val loss: 0.652 \t Train AUC: 0.871 \t Val AUC: 0.757\n",
      "Epoch: 670 \t Train loss: 0.586 \t Val loss: 0.645 \t Train AUC: 0.875 \t Val AUC: 0.765\n",
      "Epoch: 680 \t Train loss: 0.581 \t Val loss: 0.643 \t Train AUC: 0.879 \t Val AUC: 0.774\n",
      "Epoch: 690 \t Train loss: 0.577 \t Val loss: 0.639 \t Train AUC: 0.887 \t Val AUC: 0.779\n",
      "Epoch: 700 \t Train loss: 0.574 \t Val loss: 0.627 \t Train AUC: 0.889 \t Val AUC: 0.795\n",
      "Epoch: 710 \t Train loss: 0.572 \t Val loss: 0.629 \t Train AUC: 0.892 \t Val AUC: 0.79\n",
      "Epoch: 720 \t Train loss: 0.567 \t Val loss: 0.628 \t Train AUC: 0.899 \t Val AUC: 0.792\n",
      "Epoch: 730 \t Train loss: 0.562 \t Val loss: 0.617 \t Train AUC: 0.904 \t Val AUC: 0.808\n",
      "Epoch: 740 \t Train loss: 0.562 \t Val loss: 0.615 \t Train AUC: 0.904 \t Val AUC: 0.814\n",
      "Epoch: 750 \t Train loss: 0.557 \t Val loss: 0.605 \t Train AUC: 0.908 \t Val AUC: 0.818\n",
      "Epoch: 760 \t Train loss: 0.554 \t Val loss: 0.609 \t Train AUC: 0.91 \t Val AUC: 0.815\n",
      "Epoch: 770 \t Train loss: 0.552 \t Val loss: 0.599 \t Train AUC: 0.913 \t Val AUC: 0.83\n",
      "Epoch: 780 \t Train loss: 0.549 \t Val loss: 0.604 \t Train AUC: 0.916 \t Val AUC: 0.822\n",
      "Epoch: 790 \t Train loss: 0.548 \t Val loss: 0.595 \t Train AUC: 0.915 \t Val AUC: 0.828\n",
      "Epoch: 800 \t Train loss: 0.544 \t Val loss: 0.598 \t Train AUC: 0.918 \t Val AUC: 0.832\n",
      "Epoch: 810 \t Train loss: 0.547 \t Val loss: 0.589 \t Train AUC: 0.917 \t Val AUC: 0.835\n",
      "Epoch: 820 \t Train loss: 0.542 \t Val loss: 0.596 \t Train AUC: 0.919 \t Val AUC: 0.831\n",
      "Epoch: 830 \t Train loss: 0.544 \t Val loss: 0.591 \t Train AUC: 0.918 \t Val AUC: 0.833\n",
      "Epoch: 840 \t Train loss: 0.543 \t Val loss: 0.593 \t Train AUC: 0.918 \t Val AUC: 0.829\n",
      "Epoch: 850 \t Train loss: 0.539 \t Val loss: 0.586 \t Train AUC: 0.921 \t Val AUC: 0.839\n",
      "Epoch: 860 \t Train loss: 0.536 \t Val loss: 0.587 \t Train AUC: 0.924 \t Val AUC: 0.833\n",
      "Epoch: 870 \t Train loss: 0.538 \t Val loss: 0.591 \t Train AUC: 0.924 \t Val AUC: 0.834\n",
      "Epoch: 880 \t Train loss: 0.536 \t Val loss: 0.59 \t Train AUC: 0.924 \t Val AUC: 0.834\n",
      "Epoch: 890 \t Train loss: 0.538 \t Val loss: 0.586 \t Train AUC: 0.922 \t Val AUC: 0.837\n",
      "Epoch: 900 \t Train loss: 0.537 \t Val loss: 0.585 \t Train AUC: 0.923 \t Val AUC: 0.836\n",
      "Epoch: 910 \t Train loss: 0.532 \t Val loss: 0.592 \t Train AUC: 0.926 \t Val AUC: 0.838\n",
      "Epoch: 920 \t Train loss: 0.531 \t Val loss: 0.584 \t Train AUC: 0.927 \t Val AUC: 0.839\n",
      "Epoch: 930 \t Train loss: 0.531 \t Val loss: 0.584 \t Train AUC: 0.928 \t Val AUC: 0.841\n",
      "Epoch: 940 \t Train loss: 0.534 \t Val loss: 0.588 \t Train AUC: 0.925 \t Val AUC: 0.837\n",
      "Epoch: 950 \t Train loss: 0.532 \t Val loss: 0.585 \t Train AUC: 0.926 \t Val AUC: 0.84\n",
      "Epoch: 960 \t Train loss: 0.531 \t Val loss: 0.586 \t Train AUC: 0.925 \t Val AUC: 0.841\n",
      "Epoch: 970 \t Train loss: 0.531 \t Val loss: 0.583 \t Train AUC: 0.927 \t Val AUC: 0.843\n",
      "Epoch: 980 \t Train loss: 0.531 \t Val loss: 0.58 \t Train AUC: 0.925 \t Val AUC: 0.842\n",
      "Epoch: 990 \t Train loss: 0.529 \t Val loss: 0.58 \t Train AUC: 0.928 \t Val AUC: 0.844\n",
      "Epoch: 1000 \t Train loss: 0.529 \t Val loss: 0.573 \t Train AUC: 0.927 \t Val AUC: 0.846\n",
      "Epoch: 1010 \t Train loss: 0.526 \t Val loss: 0.584 \t Train AUC: 0.929 \t Val AUC: 0.837\n",
      "Epoch: 1020 \t Train loss: 0.53 \t Val loss: 0.577 \t Train AUC: 0.926 \t Val AUC: 0.844\n",
      "Epoch: 1030 \t Train loss: 0.528 \t Val loss: 0.583 \t Train AUC: 0.927 \t Val AUC: 0.842\n",
      "Epoch: 1040 \t Train loss: 0.53 \t Val loss: 0.584 \t Train AUC: 0.926 \t Val AUC: 0.841\n",
      "Epoch: 1050 \t Train loss: 0.527 \t Val loss: 0.58 \t Train AUC: 0.929 \t Val AUC: 0.839\n",
      "Epoch: 1060 \t Train loss: 0.528 \t Val loss: 0.586 \t Train AUC: 0.929 \t Val AUC: 0.838\n",
      "Epoch: 1070 \t Train loss: 0.528 \t Val loss: 0.582 \t Train AUC: 0.927 \t Val AUC: 0.84\n",
      "Epoch: 1080 \t Train loss: 0.526 \t Val loss: 0.583 \t Train AUC: 0.929 \t Val AUC: 0.838\n",
      "Epoch: 1090 \t Train loss: 0.526 \t Val loss: 0.579 \t Train AUC: 0.929 \t Val AUC: 0.844\n",
      "Epoch: 1100 \t Train loss: 0.524 \t Val loss: 0.575 \t Train AUC: 0.932 \t Val AUC: 0.847\n",
      "Epoch: 1110 \t Train loss: 0.523 \t Val loss: 0.576 \t Train AUC: 0.932 \t Val AUC: 0.846\n",
      "Epoch: 1120 \t Train loss: 0.524 \t Val loss: 0.586 \t Train AUC: 0.929 \t Val AUC: 0.838\n",
      "Epoch: 1130 \t Train loss: 0.521 \t Val loss: 0.582 \t Train AUC: 0.933 \t Val AUC: 0.839\n",
      "Epoch: 1140 \t Train loss: 0.524 \t Val loss: 0.577 \t Train AUC: 0.931 \t Val AUC: 0.844\n",
      "Epoch: 1150 \t Train loss: 0.522 \t Val loss: 0.573 \t Train AUC: 0.931 \t Val AUC: 0.847\n",
      "Epoch: 1160 \t Train loss: 0.522 \t Val loss: 0.576 \t Train AUC: 0.931 \t Val AUC: 0.844\n",
      "Epoch: 1170 \t Train loss: 0.521 \t Val loss: 0.581 \t Train AUC: 0.932 \t Val AUC: 0.842\n",
      "Epoch: 1180 \t Train loss: 0.52 \t Val loss: 0.571 \t Train AUC: 0.932 \t Val AUC: 0.845\n",
      "Epoch: 1190 \t Train loss: 0.521 \t Val loss: 0.576 \t Train AUC: 0.931 \t Val AUC: 0.843\n",
      "Epoch: 1200 \t Train loss: 0.521 \t Val loss: 0.577 \t Train AUC: 0.932 \t Val AUC: 0.846\n",
      "Epoch: 1210 \t Train loss: 0.522 \t Val loss: 0.576 \t Train AUC: 0.932 \t Val AUC: 0.844\n",
      "Epoch: 1220 \t Train loss: 0.521 \t Val loss: 0.579 \t Train AUC: 0.932 \t Val AUC: 0.843\n",
      "Epoch: 1230 \t Train loss: 0.52 \t Val loss: 0.581 \t Train AUC: 0.933 \t Val AUC: 0.839\n",
      "Epoch: 1240 \t Train loss: 0.519 \t Val loss: 0.579 \t Train AUC: 0.933 \t Val AUC: 0.841\n",
      "Epoch: 1250 \t Train loss: 0.518 \t Val loss: 0.572 \t Train AUC: 0.934 \t Val AUC: 0.847\n",
      "Epoch: 1260 \t Train loss: 0.518 \t Val loss: 0.579 \t Train AUC: 0.935 \t Val AUC: 0.839\n",
      "Epoch: 1270 \t Train loss: 0.517 \t Val loss: 0.569 \t Train AUC: 0.936 \t Val AUC: 0.851\n",
      "Epoch: 1280 \t Train loss: 0.52 \t Val loss: 0.573 \t Train AUC: 0.932 \t Val AUC: 0.845\n",
      "Epoch: 1290 \t Train loss: 0.517 \t Val loss: 0.569 \t Train AUC: 0.935 \t Val AUC: 0.849\n",
      "Epoch: 1300 \t Train loss: 0.516 \t Val loss: 0.572 \t Train AUC: 0.936 \t Val AUC: 0.846\n",
      "Epoch: 1310 \t Train loss: 0.518 \t Val loss: 0.579 \t Train AUC: 0.934 \t Val AUC: 0.839\n",
      "Epoch: 1320 \t Train loss: 0.517 \t Val loss: 0.576 \t Train AUC: 0.935 \t Val AUC: 0.844\n",
      "Epoch: 1330 \t Train loss: 0.517 \t Val loss: 0.574 \t Train AUC: 0.934 \t Val AUC: 0.845\n",
      "Epoch: 1340 \t Train loss: 0.515 \t Val loss: 0.57 \t Train AUC: 0.937 \t Val AUC: 0.849\n",
      "Epoch: 1350 \t Train loss: 0.514 \t Val loss: 0.577 \t Train AUC: 0.936 \t Val AUC: 0.838\n",
      "Epoch: 1360 \t Train loss: 0.516 \t Val loss: 0.576 \t Train AUC: 0.934 \t Val AUC: 0.842\n",
      "Epoch: 1370 \t Train loss: 0.513 \t Val loss: 0.569 \t Train AUC: 0.937 \t Val AUC: 0.848\n",
      "Epoch: 1380 \t Train loss: 0.515 \t Val loss: 0.58 \t Train AUC: 0.937 \t Val AUC: 0.843\n",
      "Epoch: 1390 \t Train loss: 0.511 \t Val loss: 0.565 \t Train AUC: 0.938 \t Val AUC: 0.851\n",
      "Epoch: 1400 \t Train loss: 0.511 \t Val loss: 0.571 \t Train AUC: 0.937 \t Val AUC: 0.847\n",
      "Epoch: 1410 \t Train loss: 0.514 \t Val loss: 0.578 \t Train AUC: 0.936 \t Val AUC: 0.846\n",
      "Epoch: 1420 \t Train loss: 0.512 \t Val loss: 0.568 \t Train AUC: 0.938 \t Val AUC: 0.847\n",
      "Epoch: 1430 \t Train loss: 0.51 \t Val loss: 0.573 \t Train AUC: 0.938 \t Val AUC: 0.845\n",
      "Epoch: 1440 \t Train loss: 0.511 \t Val loss: 0.576 \t Train AUC: 0.938 \t Val AUC: 0.844\n",
      "Epoch: 1450 \t Train loss: 0.51 \t Val loss: 0.569 \t Train AUC: 0.939 \t Val AUC: 0.843\n",
      "Epoch: 1460 \t Train loss: 0.509 \t Val loss: 0.578 \t Train AUC: 0.939 \t Val AUC: 0.84\n",
      "Epoch: 1470 \t Train loss: 0.509 \t Val loss: 0.569 \t Train AUC: 0.94 \t Val AUC: 0.847\n",
      "Epoch: 1480 \t Train loss: 0.509 \t Val loss: 0.57 \t Train AUC: 0.94 \t Val AUC: 0.848\n",
      "Epoch: 1490 \t Train loss: 0.51 \t Val loss: 0.576 \t Train AUC: 0.94 \t Val AUC: 0.844\n"
     ]
    }
   ],
   "source": [
    "import itertools\n",
    "\n",
    "train_loss, val_loss = [], []\n",
    "train_AUC, val_AUC = [], []\n",
    "stop = 0\n",
    "\n",
    "optimizer = torch.optim.Adam(itertools.chain(gconv_model.parameters(), pred.parameters()))\n",
    "for e in range(ep):\n",
    "    # forward\n",
    "    h = gconv_model(train_g, train_g.ndata['feat'])\n",
    "    pos_score = pred(train_pos_g, h)\n",
    "    neg_score = pred(train_neg_g, h)\n",
    "    loss = compute_loss(pos_score, neg_score)\n",
    "    train_loss.append(loss.item())\n",
    "    train_AUC.append(compute_auc(pos_score, neg_score))\n",
    "\n",
    "    # backward\n",
    "    optimizer.zero_grad()\n",
    "    loss.backward()\n",
    "    optimizer.step()\n",
    "\n",
    "    # validation\n",
    "    v_pos_score = pred(val_pos_g, h)\n",
    "    v_neg_score = pred(val_neg_g, h)\n",
    "    v_loss = compute_loss(v_pos_score, v_neg_score)\n",
    "    val_loss.append(v_loss.item())\n",
    "    val_AUC.append(compute_auc(v_pos_score, v_neg_score))\n",
    "\n",
    "    #verbose\n",
    "    if e % 10 == 0:\n",
    "        print('Epoch: {} \\t Train loss: {} \\t Val loss: {} \\t Train AUC: {} \\t Val AUC: {}'.format(e, round(loss.item(), 3), round(v_loss.item(), 3), round(train_AUC[-1],3), round(val_AUC[-1], 3)))\n",
    "\n",
    "\n",
    "    # early stopping\n",
    "    if e > 10:\n",
    "        if v_loss.item() > sum(val_loss[-5:])/5:\n",
    "            stop += 1\n",
    "        else: \n",
    "            stop = 0\n",
    "        if stop >= early_stopping:\n",
    "            print(\"Early Stopped at Epoch {}\".format(e))\n",
    "            break\n"
   ]
  },
  {
   "cell_type": "code",
   "execution_count": 87,
   "id": "fa25daee",
   "metadata": {},
   "outputs": [
    {
     "name": "stdout",
     "output_type": "stream",
     "text": [
      "AUC: 0.8460190024487979\n"
     ]
    }
   ],
   "source": [
    "# testing AUC\n",
    "with torch.no_grad():\n",
    "    pos_score = pred(test_pos_g, h)\n",
    "    neg_score = pred(test_neg_g, h)\n",
    "    print('AUC:', compute_auc(pos_score, neg_score))"
   ]
  },
  {
   "cell_type": "markdown",
   "id": "9fbdf7c9",
   "metadata": {},
   "source": [
    "### Result Plotting"
   ]
  },
  {
   "cell_type": "code",
   "execution_count": 91,
   "id": "dbe7e9cd",
   "metadata": {},
   "outputs": [
    {
     "data": {
      "text/plain": [
       "Text(0, 0.5, 'Loss')"
      ]
     },
     "execution_count": 91,
     "metadata": {},
     "output_type": "execute_result"
    },
    {
     "data": {
      "image/png": "[encoded data removed]",
      "text/plain": [
       "<Figure size 640x480 with 1 Axes>"
      ]
     },
     "metadata": {},
     "output_type": "display_data"
    }
   ],
   "source": [
    "fig = plt.figure()\n",
    "plt.plot(train_loss[20:], label='training loss')\n",
    "plt.plot(val_loss[20:], label = 'validation loss')\n",
    "fig.suptitle('GraphSAGE Loss Plot')\n",
    "plt.xlabel('Epoch')\n",
    "plt.ylabel('Loss')"
   ]
  },
  {
   "cell_type": "code",
   "execution_count": 92,
   "id": "85db07e4",
   "metadata": {},
   "outputs": [
    {
     "data": {
      "text/plain": [
       "[<matplotlib.lines.Line2D at 0x1fd157e1400>]"
      ]
     },
     "execution_count": 92,
     "metadata": {},
     "output_type": "execute_result"
    },
    {
     "data": {
      "image/png": "[encoded data removed]",
      "text/plain": [
       "<Figure size 640x480 with 1 Axes>"
      ]
     },
     "metadata": {},
     "output_type": "display_data"
    }
   ],
   "source": [
    "fig = plt.figure()\n",
    "plt.plot(train_AUC, label='training AUC')\n",
    "plt.plot(val_AUC, label = 'validation AUC')\n",
    "fig.suptitle('GraphSAGE AUC Plot')\n",
    "plt.xlabel('Epoch')\n",
    "plt.ylabel('AUC')\n"
   ]
  }
 ],
 "metadata": {
  "kernelspec": {
   "display_name": "Python 3 (ipykernel)",
   "language": "python",
   "name": "python3"
  },
  "language_info": {
   "codemirror_mode": {
    "name": "ipython",
    "version": 3
   },
   "file_extension": ".py",
   "mimetype": "text/x-python",
   "name": "python",
   "nbconvert_exporter": "python",
   "pygments_lexer": "ipython3",
   "version": "3.9.10"
  },
  "vscode": {
   "interpreter": {
    "hash": "eda238182c1de36151cdce09aa997c6697b1a1e480bed704816dfcebedb6bbfe"
   }
  }
 },
 "nbformat": 4,
 "nbformat_minor": 5
}
