{
 "cells": [
  {
   "cell_type": "markdown",
   "id": "d86c48cb",
   "metadata": {},
   "source": [
    "## Import Library"
   ]
  },
  {
   "cell_type": "code",
   "execution_count": 1,
   "id": "eef4235b",
   "metadata": {},
   "outputs": [],
   "source": [
    "import dgl\n",
    "from dgl.data import DGLDataset\n",
    "import os\n",
    "import pandas as pd\n",
    "import numpy as np\n",
    "import torch\n",
    "import itertools\n",
    "import numpy as np\n",
    "import scipy.sparse as sp\n",
    "import dgl.nn as dglnn\n",
    "import torch.nn as nn\n",
    "import torch.nn.functional as F\n",
    "import dgl.function as fn\n",
    "from dgl.nn.pytorch import conv as dgl_conv\n",
    "from startup_data_set import COMP4222Dataset_hetero\n",
    "from PredictorClasses import *\n",
    "from CustomMetrics import *\n",
    "from sklearn.metrics import roc_auc_score\n",
    "import matplotlib.pyplot as plt\n",
    "device = torch.device('cpu')"
   ]
  },
  {
   "cell_type": "markdown",
   "id": "b5147a43",
   "metadata": {},
   "source": [
    "### Hypermeters"
   ]
  },
  {
   "cell_type": "code",
   "execution_count": 2,
   "id": "13e5bde2",
   "metadata": {},
   "outputs": [],
   "source": [
    "val_ratio = 0.1\n",
    "test_ratio = 0.1\n",
    "\n",
    "n_hidden = 64\n",
    "n_layers = 3\n",
    "feat_drop = 0.5\n",
    "att_drop = 0.5\n",
    "activation = F.elu\n",
    "negative_slope = 0.2\n",
    "heads = [2, 2,2]\n",
    "residual = False"
   ]
  },
  {
   "cell_type": "markdown",
   "id": "1e6446e8",
   "metadata": {},
   "source": [
    "## Load Dataset"
   ]
  },
  {
   "cell_type": "code",
   "execution_count": 3,
   "id": "f8ceb2eb",
   "metadata": {},
   "outputs": [
    {
     "data": {
      "text/plain": [
       "Graph(num_nodes=25446, num_edges=45621,\n",
       "      ndata_schemes={'feat': Scheme(shape=(221,), dtype=torch.float64), '_ID': Scheme(shape=(), dtype=torch.int64), '_TYPE': Scheme(shape=(), dtype=torch.int64)}\n",
       "      edata_schemes={'feat': Scheme(shape=(23,), dtype=torch.float64), '_ID': Scheme(shape=(), dtype=torch.int64), '_TYPE': Scheme(shape=(), dtype=torch.int64)})"
      ]
     },
     "execution_count": 3,
     "metadata": {},
     "output_type": "execute_result"
    }
   ],
   "source": [
    "graph = COMP4222Dataset_hetero()[0]\n",
    "graph = dgl.to_homogeneous(graph,ndata=['feat'],edata=['feat'])\n",
    "graph"
   ]
  },
  {
   "cell_type": "code",
   "execution_count": 4,
   "id": "0f1eec65",
   "metadata": {},
   "outputs": [
    {
     "data": {
      "text/plain": [
       "221"
      ]
     },
     "execution_count": 4,
     "metadata": {},
     "output_type": "execute_result"
    }
   ],
   "source": [
    "in_feats = graph.ndata['feat'].shape[1]\n",
    "in_feats"
   ]
  },
  {
   "cell_type": "markdown",
   "id": "7e76e323",
   "metadata": {},
   "source": [
    "## Generate Postitve Graph and Negative Graph with Spliting"
   ]
  },
  {
   "cell_type": "code",
   "execution_count": 6,
   "id": "3b21ea8e",
   "metadata": {},
   "outputs": [
    {
     "data": {
      "text/plain": [
       "Graph(num_nodes=25446, num_edges=61943,\n",
       "      ndata_schemes={'feat': Scheme(shape=(221,), dtype=torch.float64), '_ID': Scheme(shape=(), dtype=torch.int64), '_TYPE': Scheme(shape=(), dtype=torch.int64)}\n",
       "      edata_schemes={'feat': Scheme(shape=(23,), dtype=torch.float64), '_ID': Scheme(shape=(), dtype=torch.int64), '_TYPE': Scheme(shape=(), dtype=torch.int64)})"
      ]
     },
     "execution_count": 6,
     "metadata": {},
     "output_type": "execute_result"
    }
   ],
   "source": [
    "from CustomUtilities import generate_neg_graph, generate_pos_graph\n",
    "train_g, train_pos_g, val_pos_g, test_pos_g = \\\n",
    "    generate_pos_graph(graph, val_ratio, test_ratio)\n",
    "\n",
    "train_g"
   ]
  },
  {
   "cell_type": "code",
   "execution_count": 7,
   "id": "8dfe9889",
   "metadata": {},
   "outputs": [
    {
     "data": {
      "text/plain": [
       "Graph(num_nodes=25446, num_edges=36497,\n",
       "      ndata_schemes={}\n",
       "      edata_schemes={})"
      ]
     },
     "execution_count": 7,
     "metadata": {},
     "output_type": "execute_result"
    }
   ],
   "source": [
    "train_neg_g, val_neg_g, test_neg_g = \\\n",
    "    generate_neg_graph(graph, val_ratio, test_ratio)\n",
    "\n",
    "train_neg_g"
   ]
  },
  {
   "cell_type": "markdown",
   "id": "e38657b8",
   "metadata": {},
   "source": [
    "## Model Training"
   ]
  },
  {
   "cell_type": "markdown",
   "id": "c3a4f954",
   "metadata": {},
   "source": [
    "### Model Setup"
   ]
  },
  {
   "cell_type": "code",
   "execution_count": 8,
   "id": "171f3f4d",
   "metadata": {},
   "outputs": [],
   "source": [
    "class GATModel(nn.Module):\n",
    "    def __init__(self, in_feat, n_hidden, heads, n_layers, activation, feat_drop, att_drop, negative_slope, residual):\n",
    "        super(GATModel, self).__init__()\n",
    "        self.layers = nn.ModuleList()\n",
    "        # parameter list: input feature size, hidden layer size, multi_head attention,\n",
    "        self.layers.append(dgl_conv.GATConv(in_feat, n_hidden, heads[0], feat_drop, att_drop, negative_slope, False, activation))\n",
    "        for i in range(1, n_layers):\n",
    "            self.layers.append(dgl_conv.GATConv(n_hidden*heads[i-1], n_hidden, heads[i], \n",
    "                                                feat_drop, att_drop, negative_slope, residual, activation))\n",
    "        self.layers.append(dgl_conv.GATConv(n_hidden*heads[-1], n_hidden, heads[-1], feat_drop, att_drop,\n",
    "                                            negative_slope, residual, activation))\n",
    "        \n",
    "    def forward(self, g, features):\n",
    "        h = features.float()\n",
    "        for i in range(len(self.layers)):\n",
    "            h = self.layers[i](g, h).flatten(1).float()\n",
    "        h = self.layers[-1](g, h).mean(1).float()\n",
    "        return h"
   ]
  },
  {
   "cell_type": "code",
   "execution_count": 9,
   "id": "5ce225f9",
   "metadata": {},
   "outputs": [],
   "source": [
    "gat_model = GATModel(\n",
    "    in_feats, \n",
    "    n_hidden, \n",
    "    heads, \n",
    "    n_layers, \n",
    "    activation, \n",
    "    feat_drop, \n",
    "    att_drop, \n",
    "    negative_slope, \n",
    "    residual)\n",
    "\n",
    "pred = DotPredictor()"
   ]
  },
  {
   "cell_type": "markdown",
   "id": "88ceeab3",
   "metadata": {},
   "source": [
    "### Training Loop"
   ]
  },
  {
   "cell_type": "code",
   "execution_count": 10,
   "id": "c945ab1f",
   "metadata": {},
   "outputs": [
    {
     "name": "stdout",
     "output_type": "stream",
     "text": [
      "Epoch: 0 \t\t\t Train loss: 8.43037223815918 \t\t\t Val loss: 7.9535908699035645\n",
      "Epoch: 5 \t\t\t Train loss: 1.0991369485855103 \t\t\t Val loss: 1.40202796459198\n",
      "Epoch: 10 \t\t\t Train loss: 1.031347393989563 \t\t\t Val loss: 1.3385210037231445\n",
      "Epoch: 15 \t\t\t Train loss: 0.9637793302536011 \t\t\t Val loss: 1.230247139930725\n",
      "Epoch: 20 \t\t\t Train loss: 0.8768953084945679 \t\t\t Val loss: 1.0324325561523438\n",
      "Epoch: 25 \t\t\t Train loss: 0.7994742393493652 \t\t\t Val loss: 0.9590030908584595\n",
      "Epoch: 30 \t\t\t Train loss: 0.7691921591758728 \t\t\t Val loss: 0.9148252010345459\n",
      "Epoch: 35 \t\t\t Train loss: 0.746171772480011 \t\t\t Val loss: 0.8931131362915039\n",
      "Epoch: 40 \t\t\t Train loss: 0.7094055414199829 \t\t\t Val loss: 0.8452767133712769\n",
      "Epoch: 45 \t\t\t Train loss: 0.698174238204956 \t\t\t Val loss: 0.8099184632301331\n",
      "Epoch: 50 \t\t\t Train loss: 0.6856049299240112 \t\t\t Val loss: 0.7892143726348877\n",
      "Epoch: 55 \t\t\t Train loss: 0.6779872179031372 \t\t\t Val loss: 0.7920156121253967\n",
      "Epoch: 60 \t\t\t Train loss: 0.6674022078514099 \t\t\t Val loss: 0.7932276725769043\n",
      "Epoch: 65 \t\t\t Train loss: 0.6711828708648682 \t\t\t Val loss: 0.7638900876045227\n",
      "Epoch: 70 \t\t\t Train loss: 0.6610128283500671 \t\t\t Val loss: 0.7897608280181885\n",
      "Early Stopped at Epoch 72\n"
     ]
    }
   ],
   "source": [
    "import itertools\n",
    "\n",
    "train_loss, val_loss = [], []\n",
    "train_AUC, val_AUC = [], []\n",
    "stop = 0\n",
    "\n",
    "optimizer = torch.optim.Adam(itertools.chain(gat_model.parameters(), pred.parameters()), lr=0.01)\n",
    "\n",
    "for e in range(500):\n",
    "    # forward\n",
    "    h = gat_model(train_g, train_g.ndata['feat'])\n",
    "    pos_score = pred(train_pos_g, h)\n",
    "    neg_score = pred(train_neg_g, h)\n",
    "    loss = compute_loss(pos_score, neg_score)\n",
    "    train_loss.append(loss.item())\n",
    "    train_AUC.append(compute_auc(pos_score, neg_score))\n",
    "\n",
    "    # backward\n",
    "    optimizer.zero_grad()\n",
    "    loss.backward()\n",
    "    optimizer.step()\n",
    "\n",
    "    # validation\n",
    "    v_pos_score = pred(val_pos_g, h)\n",
    "    v_neg_score = pred(val_neg_g, h)\n",
    "    v_loss = compute_loss(v_pos_score, v_neg_score)\n",
    "    val_loss.append(v_loss.item())\n",
    "    val_AUC.append(compute_auc(v_pos_score, v_neg_score))\n",
    "\n",
    "    #verbose\n",
    "    if e % 5 == 0:\n",
    "        print('Epoch: {} \\t\\t\\t Train loss: {} \\t\\t\\t Val loss: {}'.format(e, loss, v_loss))\n",
    "\n",
    "\n",
    "    # early stopping\n",
    "    if len(val_loss) > 2 and val_loss[-1] > val_loss[-2]:\n",
    "        stop += 1\n",
    "    if stop >= 30:\n",
    "        print(\"Early Stopped at Epoch {}\".format(e))\n",
    "        break\n"
   ]
  },
  {
   "cell_type": "code",
   "execution_count": 11,
   "id": "fa25daee",
   "metadata": {},
   "outputs": [
    {
     "name": "stdout",
     "output_type": "stream",
     "text": [
      "AUC: 0.5159550254172576\n"
     ]
    }
   ],
   "source": [
    "# testing AUC\n",
    "with torch.no_grad():\n",
    "    pos_score = pred(test_pos_g, h)\n",
    "    neg_score = pred(test_neg_g, h)\n",
    "    print('AUC:', compute_auc(pos_score, neg_score))"
   ]
  },
  {
   "cell_type": "markdown",
   "id": "9fbdf7c9",
   "metadata": {},
   "source": [
    "### Result Plotting"
   ]
  },
  {
   "cell_type": "code",
   "execution_count": 12,
   "id": "dbe7e9cd",
   "metadata": {},
   "outputs": [
    {
     "data": {
      "text/plain": [
       "[<matplotlib.lines.Line2D at 0x7fc481e419d0>]"
      ]
     },
     "execution_count": 12,
     "metadata": {},
     "output_type": "execute_result"
    },
    {
     "data": {
      "image/png": "[encoded data removed]",
      "text/plain": [
       "<Figure size 640x480 with 1 Axes>"
      ]
     },
     "metadata": {},
     "output_type": "display_data"
    }
   ],
   "source": [
    "\n",
    "plt.plot(train_loss[10:])\n",
    "plt.plot(val_loss[10:])"
   ]
  },
  {
   "cell_type": "code",
   "execution_count": 13,
   "id": "85db07e4",
   "metadata": {},
   "outputs": [
    {
     "data": {
      "text/plain": [
       "[<matplotlib.lines.Line2D at 0x7fc48222e5b0>]"
      ]
     },
     "execution_count": 13,
     "metadata": {},
     "output_type": "execute_result"
    },
    {
     "data": {
      "image/png": "[encoded data removed]",
      "text/plain": [
       "<Figure size 640x480 with 1 Axes>"
      ]
     },
     "metadata": {},
     "output_type": "display_data"
    }
   ],
   "source": [
    "plt.plot(train_AUC)\n",
    "plt.plot(val_AUC)"
   ]
  },
  {
   "cell_type": "code",
   "execution_count": null,
   "id": "c6f53aba",
   "metadata": {},
   "outputs": [],
   "source": []
  }
 ],
 "metadata": {
  "kernelspec": {
   "display_name": "Python 3.9.13 ('COMP4222')",
   "language": "python",
   "name": "python3"
  },
  "language_info": {
   "codemirror_mode": {
    "name": "ipython",
    "version": 3
   },
   "file_extension": ".py",
   "mimetype": "text/x-python",
   "name": "python",
   "nbconvert_exporter": "python",
   "pygments_lexer": "ipython3",
   "version": "3.9.13"
  },
  "vscode": {
   "interpreter": {
    "hash": "c881615305ce00ef11df2207c1e4d98fd44a969ba8c8ae9fdc782eb770ed699f"
   }
  }
 },
 "nbformat": 4,
 "nbformat_minor": 5
}
