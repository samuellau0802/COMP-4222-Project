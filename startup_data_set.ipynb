{
 "cells": [
  {
   "cell_type": "markdown",
   "id": "fc55a03b",
   "metadata": {},
   "source": [
    "# Startup Data class"
   ]
  },
  {
   "cell_type": "code",
   "execution_count": 1,
   "id": "399fa0ba",
   "metadata": {},
   "outputs": [],
   "source": [
    "import dgl\n",
    "from dgl.data import DGLDataset\n",
    "import torch\n",
    "import os\n",
    "import pandas as pd\n",
    "import numpy as np\n",
    "import dgl\n",
    "device = torch.device('cpu')"
   ]
  },
  {
   "cell_type": "code",
   "execution_count": 58,
   "id": "88937c8a",
   "metadata": {},
   "outputs": [],
   "source": [
    "class COMP4222Dataset(DGLDataset):\n",
    "    def __init__(self):\n",
    "        super().__init__(name='comp-4222')\n",
    "\n",
    "    def process(self):\n",
    "        self.df_startups = pd.read_csv('./data/startups_formatted.csv')\n",
    "        self.df_investors = pd.read_csv('./data/investors_formatted.csv')\n",
    "        self.df_investments = pd.read_csv('./data/funding_round_formatted.csv')\n",
    "       \n",
    "        # drop unlinked node\n",
    "        self.df_startups = self.df_startups.drop(i for i in self.df_startups.id.values.tolist() if i not in self.df_investments.funded_object_id.values.tolist())\n",
    "        self.df_startups = self.df_startups.reset_index()\n",
    "        \n",
    "        dictionary = dict(zip(np.unique(df_investments.funded_object_id.values),df_startups.index.values))\n",
    "        self.df_investments['investor_object_id'] = self.df_investments['investor_object_id'] + len(self.df_startups)\n",
    "        self.df_investments[\"funded_object_id\"] = self.df_investments[\"funded_object_id\"].replace(dictionary)\n",
    "        \n",
    "        self.df_investments = self.df_investments.groupby(['investor_object_id','funded_object_id']).sum()\n",
    "        self.df_investments = self.df_investments.reset_index()\n",
    "        self.investments_edge = len(self.df_investments)\n",
    "        \n",
    "        self.startup_node = len(self.df_investments)\n",
    "        self.investor_node = len(self.df_investors)\n",
    "        \n",
    "        self.graph = dgl.graph((torch.tensor(self.df_investments.funded_object_id.values.tolist()), \n",
    "                                torch.tensor(self.df_investments.investor_object_id.values.tolist())))\n",
    "\n",
    "        \n",
    "\n",
    "    \n",
    "        \n",
    "        \n",
    "        self.graph.ndata['feat'] = torch.concat((torch.tensor(self.df_startups.iloc[:, 3:].to_numpy()), \n",
    "                                                 torch.tensor(np.pad(self.df_investors.iloc[:, 2:].to_numpy(), \n",
    "                                                                     [(0,0),(0,120)], \n",
    "                                                                     mode='constant', constant_values=0))))\n",
    "        # 0 for startup, 1 for investor\n",
    "        self.graph.ndata['label'] = torch.concat((torch.zeros(len(self.df_startups)), \n",
    "                                                  torch.ones(len(self.df_investors))))\n",
    "\n",
    "        edge_feature = [i for i in self.df_investments.columns if i not in [\"funding_round_id\", \"funded_object_id\", \"investor_object_id\"]]\n",
    "        self.graph.edata['feat'] = torch.tensor(self.df_investments[edge_feature].to_numpy())\n",
    "  \n",
    "\n",
    "    def __getitem__(self, i):\n",
    "        return self.graph\n",
    "\n",
    "    def __len__(self):\n",
    "        return 1\n",
    "\n",
    "dataset = COMP4222Dataset()\n",
    "g = dataset[0]\n",
    "graph = g"
   ]
  },
  {
   "cell_type": "code",
   "execution_count": 91,
   "id": "fb6108ff",
   "metadata": {},
   "outputs": [
    {
     "name": "stdout",
     "output_type": "stream",
     "text": [
      "45621\n",
      "45621\n",
      "tensor(25445)\n"
     ]
    },
    {
     "data": {
      "text/plain": [
       "Graph(num_nodes=25446, num_edges=45621,\n",
       "      ndata_schemes={'feat': Scheme(shape=(221,), dtype=torch.float64), 'label': Scheme(shape=(), dtype=torch.float32)}\n",
       "      edata_schemes={'feat': Scheme(shape=(26,), dtype=torch.float64)})"
      ]
     },
     "execution_count": 91,
     "metadata": {},
     "output_type": "execute_result"
    }
   ],
   "source": [
    "u,v = g.edges()\n",
    "print(g.num_edges())\n",
    "print(len(u))\n",
    "print(torch.max(v))\n",
    "g"
   ]
  },
  {
   "cell_type": "code",
   "execution_count": 93,
   "id": "c0309bd9",
   "metadata": {},
   "outputs": [],
   "source": [
    "import scipy.sparse as sp\n",
    "\n",
    "u, v = graph.edges()\n",
    "# give id for all edges then permutation\n",
    "eids = np.arange(graph.number_of_edges())\n",
    "eids = np.random.permutation(eids)\n",
    "\n",
    "# use 10% as test set\n",
    "test_size = int(len(eids) * 0.1)\n",
    "train_size = graph.number_of_edges() - test_size\n",
    "\n",
    "test_pos_u, test_pos_v = u[eids[:test_size]], v[eids[:test_size]]\n",
    "train_pos_u, train_pos_v = u[eids[test_size:]], v[eids[test_size:]]\n",
    "\n",
    "# Find all negative edges and split them for training and testing\n",
    "\n",
    "#use sparse matrix to save memory\n",
    "# ,shape = (torch.max(v)+1,torch.max(v)+1)\n",
    "adj = sp.coo_matrix((np.ones(len(u)), (u.numpy(), v.numpy())))\n",
    "adj_neg = 1 - adj.todense() - np.eye(torch.max(u)+1,torch.max(v)+1)\n",
    "neg_u, neg_v = np.where(adj_neg != 0) # negative edge, we don't have edge\n",
    "\n",
    "neg_eids = np.random.choice(len(neg_u), graph.number_of_edges())\n",
    "test_neg_u, test_neg_v = neg_u[neg_eids[:test_size]], neg_v[neg_eids[:test_size]]\n",
    "train_neg_u, train_neg_v = neg_u[neg_eids[test_size:]], neg_v[neg_eids[test_size:]]"
   ]
  }
 ],
 "metadata": {
  "kernelspec": {
   "display_name": "Python 3 (ipykernel)",
   "language": "python",
   "name": "python3"
  },
  "language_info": {
   "codemirror_mode": {
    "name": "ipython",
    "version": 3
   },
   "file_extension": ".py",
   "mimetype": "text/x-python",
   "name": "python",
   "nbconvert_exporter": "python",
   "pygments_lexer": "ipython3",
   "version": "3.9.10"
  }
 },
 "nbformat": 4,
 "nbformat_minor": 5
}
