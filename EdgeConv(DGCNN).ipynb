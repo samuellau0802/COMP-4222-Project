{
 "cells": [
  {
   "cell_type": "markdown",
   "id": "7cafb1fa",
   "metadata": {},
   "source": [
    "# EdgeConv"
   ]
  },
  {
   "cell_type": "markdown",
   "id": "8a2438f6",
   "metadata": {},
   "source": [
    "```\n",
    "@misc{wang2018dynamic,\n",
    "  added-at = {2018-02-10T13:42:21.000+0100},\n",
    "  author = {Wang, Yue and Sun, Yongbin and Liu, Ziwei and Sarma, Sanjay E. and Bronstein, Michael M. and Solomon, Justin M.},\n",
    "  biburl = {https://www.bibsonomy.org/bibtex/2583c051f50803a30a60cb50532fc9619/jk_itwm},\n",
    "  description = {1801.07829.pdf},\n",
    "  interhash = {ff46d0c7d6e76b2bb7c42139db38cf75},\n",
    "  intrahash = {583c051f50803a30a60cb50532fc9619},\n",
    "  keywords = {CNN graph point_cloud},\n",
    "  note = {cite arxiv:1801.07829},\n",
    "  timestamp = {2018-02-10T13:42:21.000+0100},\n",
    "  title = {Dynamic Graph CNN for Learning on Point Clouds},\n",
    "  url = {http://arxiv.org/abs/1801.07829},\n",
    "  year = 2018\n",
    "}\n",
    "\n",
    "```"
   ]
  },
  {
   "cell_type": "code",
   "execution_count": 1,
   "id": "d0cd285f",
   "metadata": {},
   "outputs": [],
   "source": [
    "import dgl\n",
    "from dgl.data import DGLDataset\n",
    "import torch\n",
    "import os\n",
    "import pandas as pd\n",
    "import numpy as np\n",
    "import torch\n",
    "import itertools\n",
    "import numpy as np\n",
    "import scipy.sparse as sp\n",
    "import dgl.nn as dglnn\n",
    "import torch.nn as nn\n",
    "import torch.nn.functional as F\n",
    "import dgl.function as fn\n",
    "from dgl.nn import EdgeConv\n",
    "from utils.startup_data_set import *\n",
    "from utils.PredictorClasses import *\n",
    "from utils.CustomMetrics import *\n",
    "from utils.CustomUtilities import *\n",
    "import matplotlib.pyplot as plt\n",
    "device = torch.device('cuda' if torch.cuda.is_available() else 'cpu')"
   ]
  },
  {
   "cell_type": "markdown",
   "id": "0b9915dd",
   "metadata": {},
   "source": [
    "## Load Dataset"
   ]
  },
  {
   "cell_type": "code",
   "execution_count": 2,
   "id": "e24b33d8",
   "metadata": {},
   "outputs": [],
   "source": [
    "graph = COMP4222Dataset()\n",
    "g = graph[0].to(device)"
   ]
  },
  {
   "cell_type": "markdown",
   "id": "e092029e",
   "metadata": {},
   "source": [
    "## Generate Postitve Graph and Negative Graph with Spliting"
   ]
  },
  {
   "cell_type": "code",
   "execution_count": 3,
   "id": "92175e9d",
   "metadata": {},
   "outputs": [],
   "source": [
    "train_g, train_pos_g, val_pos_g, test_pos_g, *_ = generate_pos_graph(g)"
   ]
  },
  {
   "cell_type": "code",
   "execution_count": 4,
   "id": "f46f6fb0",
   "metadata": {},
   "outputs": [],
   "source": [
    "train_neg_g, val_neg_g, test_neg_g = generate_neg_graph(g)"
   ]
  },
  {
   "cell_type": "code",
   "execution_count": 5,
   "id": "9e7b9973",
   "metadata": {},
   "outputs": [],
   "source": [
    "train_g, train_pos_g, val_pos_g, test_pos_g = train_g.to(device), train_pos_g.to(device), val_pos_g, test_pos_g.to(device)\n",
    "train_neg_g, val_neg_g, test_neg_g = train_neg_g.to(device), val_neg_g.to(device), test_neg_g.to(device)\n",
    "num_nodes = g.num_nodes\n",
    "num_edges = g.num_edges"
   ]
  },
  {
   "cell_type": "markdown",
   "id": "c9aaf5ec",
   "metadata": {},
   "source": [
    "## Model Training"
   ]
  },
  {
   "cell_type": "markdown",
   "id": "dbf3ad39",
   "metadata": {},
   "source": [
    "### Model Setup"
   ]
  },
  {
   "cell_type": "code",
   "execution_count": 6,
   "id": "fa49cbd4",
   "metadata": {},
   "outputs": [],
   "source": [
    "class DGCNN_Model(nn.Module):\n",
    "    def __init__(self,\n",
    "                 in_feat,\n",
    "                 hidden_feat,\n",
    "                 num_hiddern_layers,\n",
    "                 out_feat):\n",
    "        super(DGCNN_Model, self).__init__()\n",
    "\n",
    "        self.layers = nn.ModuleList()\n",
    "        # input layer\n",
    "        self.layers.append(EdgeConv(in_feat, hidden_feat))\n",
    "        # hidden layers\n",
    "        for i in range(num_hiddern_layers - 1):\n",
    "            self.layers.append(EdgeConv(hidden_feat, hidden_feat))\n",
    "        # output layer\n",
    "        self.layers.append(EdgeConv(hidden_feat, out_feat))\n",
    "        \n",
    "    def forward(self, g, features):\n",
    "        h = features.float()\n",
    "        for layer in self.layers:\n",
    "            h = layer(g, h).float()\n",
    "        return h"
   ]
  },
  {
   "cell_type": "code",
   "execution_count": 7,
   "id": "24665b9a",
   "metadata": {
    "scrolled": true
   },
   "outputs": [],
   "source": [
    "dgcnn_model = DGCNN_Model(train_g.ndata[\"feat\"].shape[1],32,2,16).to(device)\n",
    "class MLPPredictor(nn.Module):\n",
    "    def __init__(self, h_feats):\n",
    "        super().__init__()\n",
    "        self.W1 = nn.Linear(2*h_feats , h_feats).to(torch.float32)\n",
    "        self.W2 = nn.Linear(h_feats, 1).to(torch.float32)\n",
    "\n",
    "    # concat the source and destination node, use mlp to predict the score\n",
    "    def apply_edges(self, edges):\n",
    "        h = torch.cat([edges.src['h'], edges.dst['h']], 1).to(torch.float32)\n",
    "        return {'score': self.W2(F.relu(self.W1(h))).squeeze(1)}\n",
    "\n",
    "    def forward(self, g, h):\n",
    "        with g.local_scope():\n",
    "            g.ndata['h'] = h.to(torch.float32)\n",
    "            g.apply_edges(self.apply_edges)\n",
    "            return g.edata['score']\n",
    "\n",
    "\n",
    "pred = MLPPredictor(16).to(device)\n",
    "early_stopping = 10\n"
   ]
  },
  {
   "cell_type": "markdown",
   "id": "e4160acb",
   "metadata": {},
   "source": [
    "### Training Loop"
   ]
  },
  {
   "cell_type": "code",
   "execution_count": 8,
   "id": "854e41fc",
   "metadata": {},
   "outputs": [
    {
     "name": "stdout",
     "output_type": "stream",
     "text": [
      "Epoch: 0 \t Train loss: 0.695 \t Val loss: 0.694 \t Train AUC: 0.343 \t Val AUC: 0.416\n",
      "Epoch: 10 \t Train loss: 0.682 \t Val loss: 0.682 \t Train AUC: 0.953 \t Val AUC: 0.927\n",
      "Epoch: 20 \t Train loss: 0.65 \t Val loss: 0.652 \t Train AUC: 0.953 \t Val AUC: 0.935\n",
      "Epoch: 30 \t Train loss: 0.579 \t Val loss: 0.585 \t Train AUC: 0.952 \t Val AUC: 0.936\n",
      "Epoch: 40 \t Train loss: 0.477 \t Val loss: 0.494 \t Train AUC: 0.951 \t Val AUC: 0.935\n",
      "Epoch: 50 \t Train loss: 0.386 \t Val loss: 0.42 \t Train AUC: 0.95 \t Val AUC: 0.935\n",
      "Epoch: 60 \t Train loss: 0.303 \t Val loss: 0.358 \t Train AUC: 0.951 \t Val AUC: 0.936\n",
      "Epoch: 70 \t Train loss: 0.275 \t Val loss: 0.379 \t Train AUC: 0.953 \t Val AUC: 0.937\n",
      "Early Stopped at Epoch 72\n"
     ]
    }
   ],
   "source": [
    "import itertools\n",
    "\n",
    "train_loss, val_loss = [], []\n",
    "train_AUC, val_AUC = [], []\n",
    "stop = 0\n",
    "ep = 100\n",
    "optimizer = torch.optim.Adam(itertools.chain(dgcnn_model.parameters(), pred.parameters()))\n",
    "\n",
    "for e in range(ep):\n",
    "    # forward\n",
    "    h =  dgcnn_model(train_g, train_g.ndata['feat'].to(torch.float32))\n",
    "    h = h.flatten(1)\n",
    "    pos_score = pred(train_pos_g,h)\n",
    "    neg_score = pred(train_neg_g,h)\n",
    "    \n",
    "    loss = compute_loss(pos_score, neg_score)\n",
    "    train_loss.append(loss.item())\n",
    "    train_AUC.append(compute_auc(pos_score, neg_score))\n",
    "\n",
    "    # backward\n",
    "    optimizer.zero_grad()\n",
    "    loss.backward()\n",
    "    optimizer.step()\n",
    "\n",
    "    # validation\n",
    "    v_pos_score = pred(val_pos_g, h)\n",
    "    v_neg_score = pred(val_neg_g, h)\n",
    "    v_loss = compute_loss(v_pos_score, v_neg_score)\n",
    "    val_loss.append(v_loss.item())\n",
    "    val_AUC.append(compute_auc(v_pos_score, v_neg_score))\n",
    "\n",
    "    #verbose\n",
    "    if e % 10 == 0:\n",
    "        print('Epoch: {} \\t Train loss: {} \\t Val loss: {} \\t Train AUC: {} \\t Val AUC: {}'.format(e, round(loss.item(), 3), round(v_loss.item(), 3), round(train_AUC[-1],3), round(val_AUC[-1], 3)))\n",
    "\n",
    "\n",
    "    # early stopping\n",
    "    if e > 10:\n",
    "        if v_loss.item() > sum(val_loss[-5:])/5:\n",
    "            stop += 1\n",
    "        else: \n",
    "            stop = 0\n",
    "        if stop >= early_stopping:\n",
    "            print(\"Early Stopped at Epoch {}\".format(e))\n",
    "            break"
   ]
  },
  {
   "cell_type": "code",
   "execution_count": 9,
   "id": "b24c61ea",
   "metadata": {},
   "outputs": [
    {
     "name": "stdout",
     "output_type": "stream",
     "text": [
      "AUC: 0.937219738914053\n"
     ]
    }
   ],
   "source": [
    "with torch.no_grad():\n",
    "    pos_score = pred(test_pos_g, h)\n",
    "    neg_score = pred(test_neg_g, h)\n",
    "    print('AUC:', compute_auc(pos_score, neg_score))"
   ]
  },
  {
   "cell_type": "markdown",
   "id": "c401bad2",
   "metadata": {},
   "source": [
    "### Result Plotting"
   ]
  },
  {
   "cell_type": "code",
   "execution_count": 10,
   "id": "83983bfd",
   "metadata": {},
   "outputs": [
    {
     "data": {
      "text/plain": [
       "Text(0, 0.5, 'Loss')"
      ]
     },
     "execution_count": 10,
     "metadata": {},
     "output_type": "execute_result"
    },
    {
     "data": {
      "image/png": "[encoded data removed]",
      "text/plain": [
       "<Figure size 640x480 with 1 Axes>"
      ]
     },
     "metadata": {},
     "output_type": "display_data"
    }
   ],
   "source": [
    "fig = plt.figure()\n",
    "plt.plot(train_loss[10:], label='training loss')\n",
    "plt.plot(val_loss[10:], label = 'validation loss')\n",
    "fig.suptitle('DGCNN Loss Plot')\n",
    "plt.xlabel('Epoch')\n",
    "plt.ylabel('Loss')"
   ]
  },
  {
   "cell_type": "code",
   "execution_count": 11,
   "id": "4dfe0530",
   "metadata": {},
   "outputs": [
    {
     "data": {
      "text/plain": [
       "Text(0, 0.5, 'AUC')"
      ]
     },
     "execution_count": 11,
     "metadata": {},
     "output_type": "execute_result"
    },
    {
     "data": {
      "image/png": "[encoded data removed]",
      "text/plain": [
       "<Figure size 640x480 with 1 Axes>"
      ]
     },
     "metadata": {},
     "output_type": "display_data"
    }
   ],
   "source": [
    "fig = plt.figure()\n",
    "plt.plot(train_AUC, label='training AUC')\n",
    "plt.plot(val_AUC, label = 'validation AUC')\n",
    "fig.suptitle('Chebyshev spectral GCN AUC Plot')\n",
    "plt.xlabel('Epoch')\n",
    "plt.ylabel('AUC')"
   ]
  }
 ],
 "metadata": {
  "kernelspec": {
   "display_name": "Python 3",
   "language": "python",
   "name": "python3"
  },
  "language_info": {
   "codemirror_mode": {
    "name": "ipython",
    "version": 3
   },
   "file_extension": ".py",
   "mimetype": "text/x-python",
   "name": "python",
   "nbconvert_exporter": "python",
   "pygments_lexer": "ipython3",
   "version": "3.8.6 (tags/v3.8.6:db45529, Sep 23 2020, 15:52:53) [MSC v.1927 64 bit (AMD64)]"
  },
  "vscode": {
   "interpreter": {
    "hash": "f5262e34a01947465ee9d7ffe8fc0b9b893f1c6858650d79127a26c717a716dd"
   }
  }
 },
 "nbformat": 4,
 "nbformat_minor": 5
}
