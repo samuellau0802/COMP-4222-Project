{
 "cells": [
  {
   "cell_type": "code",
   "execution_count": 1,
   "id": "eef4235b",
   "metadata": {},
   "outputs": [
    {
     "name": "stdout",
     "output_type": "stream",
     "text": [
      "cpu\n"
     ]
    }
   ],
   "source": [
    "import dgl\n",
    "from dgl.data import DGLDataset\n",
    "import torch\n",
    "import os\n",
    "import pandas as pd\n",
    "import numpy as np\n",
    "import dgl\n",
    "import torch\n",
    "import itertools\n",
    "import numpy as np\n",
    "import scipy.sparse as sp\n",
    "import dgl.nn as dglnn\n",
    "import torch.nn as nn\n",
    "import torch.nn.functional as F\n",
    "import dgl.function as fn\n",
    "from sklearn.metrics import roc_auc_score\n",
    "device = torch.device('cpu')\n",
    "print(device)"
   ]
  },
  {
   "cell_type": "code",
   "execution_count": 10,
   "id": "f8ceb2eb",
   "metadata": {},
   "outputs": [
    {
     "name": "stdout",
     "output_type": "stream",
     "text": [
      "Graph(num_nodes={'investor': 7594, 'startup': 21485},\n",
      "      num_edges={('investor', 'raise', 'startup'): 60983, ('startup', 'israised', 'investor'): 60983},\n",
      "      metagraph=[('investor', 'startup', 'raise'), ('startup', 'investor', 'israised')])\n"
     ]
    }
   ],
   "source": [
    "class COMP4222Dataset(DGLDataset):\n",
    "    def __init__(self):\n",
    "        super().__init__(name='comp-4222')\n",
    "        self.df_startups = pd.read_csv('./data/startups_formatted.csv')\n",
    "        self.df_investors = pd.read_csv('./data/investors_formatted.csv')\n",
    "        self.df_investments = pd.read_csv('./data/funding_round_formatted.csv')\n",
    "        self.startup_node = len(self.df_startups)\n",
    "        self.investor_node = len(self.df_investors)\n",
    "        self.investments_edge = len(self.df_investments)\n",
    "\n",
    "    def process(self):\n",
    "\n",
    "        self.df_startups = pd.read_csv('./data/startups_formatted.csv')\n",
    "        self.df_investors = pd.read_csv('./data/investors_formatted.csv')\n",
    "        self.df_investments = pd.read_csv('./data/funding_round_formatted.csv')\n",
    "        self.startup_node = len(self.df_startups)\n",
    "        self.investor_node = len(self.df_investors)\n",
    "        self.investments_edge = len(self.df_investments)\n",
    "\n",
    "        data_dict = {\n",
    "            (\"investor\", \"raise\", \"startup\"): (torch.tensor(self.df_investments.investor_object_id.values.tolist()), torch.tensor(self.df_investments.funded_object_id.values.tolist())),\n",
    "            (\"startup\", \"israised\", \"investor\"): (torch.tensor(self.df_investments.funded_object_id.values.tolist()), torch.tensor(self.df_investments.investor_object_id.values.tolist()))\n",
    "            }     \n",
    "        self.graph = dgl.heterograph(data_dict)\n",
    "        \n",
    "        edge_feature = [i for i in self.df_investments.columns if i not in [\"funding_round_id\", \"funded_object_id\", \"investor_object_id\"]]\n",
    "\n",
    "        self.graph.nodes['investor'].data['feat'] = torch.tensor(np.pad(self.df_investors.iloc[:, 2:].to_numpy(), [(0,0),(0,120)], mode='constant', constant_values=0))\n",
    "        self.graph.nodes['startup'].data['feat'] = torch.tensor(self.df_startups.iloc[:, 2:].to_numpy())\n",
    "        self.graph.edges['raise'].data['feat'] = torch.tensor(self.df_investments[edge_feature].to_numpy())\n",
    "        self.graph.edges['israised'].data['feat'] = torch.tensor(self.df_investments[edge_feature].to_numpy())\n",
    "\n",
    "\n",
    "\n",
    "\n",
    "    def __getitem__(self, i):\n",
    "        return self.graph\n",
    "\n",
    "    def __len__(self):\n",
    "        return 1\n",
    "\n",
    "dataset = COMP4222Dataset()\n",
    "graph = dataset[0]\n",
    "\n",
    "print(graph)"
   ]
  },
  {
   "cell_type": "code",
   "execution_count": 12,
   "id": "171f3f4d",
   "metadata": {},
   "outputs": [],
   "source": [
    "class RGCN(nn.Module):\n",
    "    def __init__(self, in_feats, hid_feats, out_feats, rel_names):\n",
    "        super().__init__()\n",
    "\n",
    "        self.conv1 = dglnn.HeteroGraphConv({\n",
    "            rel: dglnn.GraphConv(in_feats, hid_feats)\n",
    "            for rel in rel_names}\n",
    "            ,aggregate='sum')\n",
    "        self.conv2 = dglnn.HeteroGraphConv({\n",
    "            rel: dglnn.GraphConv(hid_feats, out_feats)\n",
    "            for rel in rel_names}, aggregate='sum')\n",
    "    def message_func(edges):\n",
    "        return {'m': F.relu(self.W_msg(th.cat([edges.src['h'], edges.data['h']], 0)))}\n",
    "    def forward(self, graph, inputs):\n",
    "        # inputs are features of nodes\n",
    "        with g.local_scope():\n",
    "            h = self.conv1(graph, inputs)\n",
    "            h = {k: F.relu(v) for k, v in h.items()}\n",
    "            h = self.conv2(graph, h)\n",
    "        return h\n",
    "\n",
    "class HeteroDotProductPredictor(nn.Module):\n",
    "    def forward(self, graph, h, etype):\n",
    "        # h contains the node representations for each node type computed from\n",
    "        # the GNN defined in the previous section (Section 5.1).\n",
    "        with graph.local_scope():\n",
    "            graph.ndata['h'] = h\n",
    "            graph.apply_edges(fn.u_dot_v('h', 'h', 'score'), etype=etype)\n",
    "            return graph.edges[etype].data['score']\n",
    "\n",
    "\n",
    "def construct_negative_graph(graph, k, etype):\n",
    "    utype, _, vtype = etype\n",
    "    src, dst = graph.edges(etype=etype)\n",
    "    neg_src = src.repeat_interleave(k)\n",
    "    neg_dst = torch.randint(0, graph.num_nodes(vtype), (len(src) * k,))\n",
    "    return dgl.heterograph(\n",
    "        {etype: (neg_src, neg_dst)},\n",
    "        num_nodes_dict={ntype: graph.num_nodes(ntype) for ntype in graph.ntypes})\n",
    "\n",
    "class Model(nn.Module):\n",
    "    def __init__(self, in_features, hidden_features, out_features, rel_names):\n",
    "        super().__init__()\n",
    "        self.sage = RGCN(in_features, hidden_features, out_features, rel_names)\n",
    "        self.pred = HeteroDotProductPredictor()\n",
    "    def forward(self, g, neg_g, x, etype):\n",
    "        h = self.sage(g, x)\n",
    "        return self.pred(g, h, etype), self.pred(neg_g, h, etype)\n",
    "\n",
    "def compute_loss(pos_score, neg_score):\n",
    "    # Margin loss\n",
    "    n_edges = pos_score.shape[0]\n",
    "    return (1 - pos_score + neg_score.view(n_edges, -1)).clamp(min=0).mean()\n",
    "  \n",
    "def compute_auc(pos_score, neg_score):\n",
    "    scores = torch.cat([pos_score, neg_score]).detach().numpy()\n",
    "    labels = torch.cat(\n",
    "        [torch.ones(pos_score.shape[0]), torch.zeros(neg_score.shape[0])]).numpy()\n",
    "    return roc_auc_score(labels, scores)"
   ]
  },
  {
   "cell_type": "code",
   "execution_count": 4,
   "id": "5a2f2da3",
   "metadata": {},
   "outputs": [
    {
     "data": {
      "text/plain": [
       "(tensor([13832, 13832, 16402,  ...,  2868, 19442,  7179]),\n",
       " tensor([   0, 2241, 3887,  ..., 6297, 1875, 2317]))"
      ]
     },
     "execution_count": 4,
     "metadata": {},
     "output_type": "execute_result"
    }
   ],
   "source": [
    "graph = COMP4222Dataset()[0]\n",
    "graph.edges(etype=('startup', 'israised', 'investor'))"
   ]
  },
  {
   "cell_type": "code",
   "execution_count": 8,
   "id": "5ce225f9",
   "metadata": {},
   "outputs": [
    {
     "name": "stdout",
     "output_type": "stream",
     "text": [
      "epoch:  0, loss: 1.000016, auc:0.473668 \n",
      "epoch:  5, loss: 0.994850, auc:0.712508 \n",
      "epoch: 10, loss: 0.983599, auc:0.765705 \n",
      "epoch: 15, loss: 0.964864, auc:0.787621 \n",
      "epoch: 20, loss: 0.936221, auc:0.800731 \n",
      "epoch: 25, loss: 0.895072, auc:0.809990 \n",
      "epoch: 30, loss: 0.840024, auc:0.816009 \n",
      "epoch: 35, loss: 0.770826, auc:0.821177 \n",
      "epoch: 40, loss: 0.693689, auc:0.825770 \n",
      "epoch: 45, loss: 0.620002, auc:0.828342 \n",
      "epoch: 50, loss: 0.553994, auc:0.831597 \n",
      "epoch: 55, loss: 0.501721, auc:0.832870 \n",
      "epoch: 60, loss: 0.461781, auc:0.834489 \n",
      "epoch: 65, loss: 0.435270, auc:0.834825 \n",
      "epoch: 70, loss: 0.416396, auc:0.835700 \n",
      "epoch: 75, loss: 0.405865, auc:0.836372 \n",
      "epoch: 80, loss: 0.397375, auc:0.836888 \n",
      "epoch: 85, loss: 0.391261, auc:0.837956 \n",
      "epoch: 90, loss: 0.389722, auc:0.837937 \n",
      "epoch: 95, loss: 0.387516, auc:0.838343 \n"
     ]
    }
   ],
   "source": [
    "k = 5\n",
    "model = Model(221, 20, 1, graph.etypes).to(device)\n",
    "investor_feats = graph.nodes['investor'].data['feat']\n",
    "startup_feats = graph.nodes['startup'].data['feat']\n",
    "node_features = {'investor': investor_feats.float(), 'startup': startup_feats.float()}\n",
    "opt = torch.optim.Adam(model.parameters())\n",
    "for epoch in range(100):\n",
    "    negative_graph = construct_negative_graph(graph, k, ('startup', 'israised', 'investor'))\n",
    "    pos_score, neg_score = model(graph, negative_graph, node_features, ('startup', 'israised', 'investor'))\n",
    "    loss = compute_loss(pos_score, neg_score)\n",
    "    auc = compute_auc(pos_score, neg_score)\n",
    "    opt.zero_grad()\n",
    "    loss.backward()\n",
    "    opt.step()\n",
    "    if(epoch % 5 == 0):\n",
    "        print(\"epoch:%3d, loss: %3f, auc:%3f \"%(epoch, loss.item(), auc))"
   ]
  },
  {
   "cell_type": "code",
   "execution_count": null,
   "id": "d0ffa4da",
   "metadata": {},
   "outputs": [],
   "source": []
  }
 ],
 "metadata": {
  "kernelspec": {
   "display_name": "Python 3 (ipykernel)",
   "language": "python",
   "name": "python3"
  },
  "language_info": {
   "codemirror_mode": {
    "name": "ipython",
    "version": 3
   },
   "file_extension": ".py",
   "mimetype": "text/x-python",
   "name": "python",
   "nbconvert_exporter": "python",
   "pygments_lexer": "ipython3",
   "version": "3.9.10"
  }
 },
 "nbformat": 4,
 "nbformat_minor": 5
}
