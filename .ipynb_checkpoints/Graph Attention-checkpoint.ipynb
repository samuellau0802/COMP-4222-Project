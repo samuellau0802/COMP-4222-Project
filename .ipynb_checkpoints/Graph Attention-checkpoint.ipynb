{
 "cells": [
  {
   "cell_type": "markdown",
   "id": "d1c633df",
   "metadata": {},
   "source": [
    "# GAT Implementation"
   ]
  },
  {
   "cell_type": "markdown",
   "id": "85b1584a",
   "metadata": {},
   "source": [
    "```\n",
    "@article{\n",
    "  velickovic2018graph,\n",
    "  title=\"{Graph Attention Networks}\",\n",
    "  author={Veli{\\v{c}}kovi{\\'{c}}, Petar and Cucurull, Guillem and Casanova, Arantxa and Romero, Adriana and Li{\\`{o}}, Pietro and Bengio, Yoshua},\n",
    "  journal={International Conference on Learning Representations},\n",
    "  year={2018},\n",
    "  url={https://openreview.net/forum?id=rJXMpikCZ},\n",
    "  note={accepted as poster},\n",
    "}\n",
    "```"
   ]
  },
  {
   "cell_type": "markdown",
   "id": "d86c48cb",
   "metadata": {},
   "source": [
    "## Import Library"
   ]
  },
  {
   "cell_type": "code",
   "execution_count": 1,
   "id": "eef4235b",
   "metadata": {},
   "outputs": [],
   "source": [
    "import dgl\n",
    "import torch\n",
    "import itertools\n",
    "import torch.nn as nn\n",
    "import torch.nn.functional as F\n",
    "from dgl.nn.pytorch import conv as dgl_conv\n",
    "from utils.startup_data_set import COMP4222Dataset_hetero\n",
    "from utils.PredictorClasses import *\n",
    "from utils.CustomMetrics import *\n",
    "from sklearn.metrics import roc_auc_score\n",
    "import matplotlib.pyplot as plt\n",
    "device = torch.device('cuda' if torch.cuda.is_available() else 'cpu')"
   ]
  },
  {
   "cell_type": "markdown",
   "id": "b5147a43",
   "metadata": {},
   "source": [
    "### Hypermeters"
   ]
  },
  {
   "cell_type": "code",
   "execution_count": 2,
   "id": "13e5bde2",
   "metadata": {},
   "outputs": [],
   "source": [
    "val_ratio = 0.1\n",
    "test_ratio = 0.1\n",
    "\n",
    "n_hidden = 256\n",
    "feat_drop = 0.2\n",
    "att_drop = 0.2\n",
    "negative_slope = 0.2\n",
    "heads = [2, 2, 2]\n",
    "residual = True\n",
    "\n",
    "lr = 0.01\n",
    "early_stopping = 10\n",
    "ep = 100"
   ]
  },
  {
   "cell_type": "markdown",
   "id": "1e6446e8",
   "metadata": {},
   "source": [
    "## Load Dataset"
   ]
  },
  {
   "cell_type": "code",
   "execution_count": 3,
   "id": "7d7f543a",
   "metadata": {},
   "outputs": [],
   "source": [
    "import numpy as np\n",
    "np.random.seed(0)"
   ]
  },
  {
   "cell_type": "code",
   "execution_count": 4,
   "id": "f8ceb2eb",
   "metadata": {},
   "outputs": [
    {
     "name": "stdout",
     "output_type": "stream",
     "text": [
      "7594\n"
     ]
    },
    {
     "data": {
      "text/plain": [
       "Graph(num_nodes=25446, num_edges=45621,\n",
       "      ndata_schemes={'feat': Scheme(shape=(221,), dtype=torch.float64), '_ID': Scheme(shape=(), dtype=torch.int64), '_TYPE': Scheme(shape=(), dtype=torch.int64)}\n",
       "      edata_schemes={'feat': Scheme(shape=(23,), dtype=torch.float64), '_ID': Scheme(shape=(), dtype=torch.int64), '_TYPE': Scheme(shape=(), dtype=torch.int64)})"
      ]
     },
     "execution_count": 4,
     "metadata": {},
     "output_type": "execute_result"
    }
   ],
   "source": [
    "graph = COMP4222Dataset_hetero()[0]\n",
    "graph = dgl.to_homogeneous(graph,ndata=['feat'],edata=['feat'])\n",
    "graph"
   ]
  },
  {
   "cell_type": "code",
   "execution_count": 5,
   "id": "0f1eec65",
   "metadata": {},
   "outputs": [
    {
     "data": {
      "text/plain": [
       "221"
      ]
     },
     "execution_count": 5,
     "metadata": {},
     "output_type": "execute_result"
    }
   ],
   "source": [
    "in_feats = graph.ndata['feat'].shape[1]\n",
    "in_feats"
   ]
  },
  {
   "cell_type": "markdown",
   "id": "7e76e323",
   "metadata": {},
   "source": [
    "## Generate Postitve Graph and Negative Graph with Spliting"
   ]
  },
  {
   "cell_type": "code",
   "execution_count": 6,
   "id": "3b21ea8e",
   "metadata": {},
   "outputs": [
    {
     "data": {
      "text/plain": [
       "Graph(num_nodes=25446, num_edges=61943,\n",
       "      ndata_schemes={'feat': Scheme(shape=(221,), dtype=torch.float64), '_ID': Scheme(shape=(), dtype=torch.int64), '_TYPE': Scheme(shape=(), dtype=torch.int64)}\n",
       "      edata_schemes={'feat': Scheme(shape=(23,), dtype=torch.float64), '_ID': Scheme(shape=(), dtype=torch.int64), '_TYPE': Scheme(shape=(), dtype=torch.int64)})"
      ]
     },
     "execution_count": 6,
     "metadata": {},
     "output_type": "execute_result"
    }
   ],
   "source": [
    "from utils.CustomUtilities import generate_neg_graph, generate_pos_graph\n",
    "train_g, train_pos_g, val_pos_g, test_pos_g = \\\n",
    "    generate_pos_graph(graph, val_ratio, test_ratio)\n",
    "\n",
    "train_g"
   ]
  },
  {
   "cell_type": "code",
   "execution_count": 7,
   "id": "8dfe9889",
   "metadata": {},
   "outputs": [
    {
     "data": {
      "text/plain": [
       "Graph(num_nodes=25446, num_edges=36497,\n",
       "      ndata_schemes={}\n",
       "      edata_schemes={})"
      ]
     },
     "execution_count": 7,
     "metadata": {},
     "output_type": "execute_result"
    }
   ],
   "source": [
    "train_neg_g, val_neg_g, test_neg_g = \\\n",
    "    generate_neg_graph(graph, val_ratio, test_ratio)\n",
    "\n",
    "train_neg_g"
   ]
  },
  {
   "cell_type": "markdown",
   "id": "e38657b8",
   "metadata": {},
   "source": [
    "## Model Training"
   ]
  },
  {
   "cell_type": "markdown",
   "id": "c3a4f954",
   "metadata": {},
   "source": [
    "### Model Setup"
   ]
  },
  {
   "cell_type": "code",
   "execution_count": 8,
   "id": "171f3f4d",
   "metadata": {},
   "outputs": [],
   "source": [
    "class GATModel(nn.Module):\n",
    "    def __init__(self, in_size, hid_size, out_size, heads):\n",
    "        super().__init__()\n",
    "        self.gat_layers = nn.ModuleList()\n",
    "        # three-layer GAT\n",
    "        self.gat_layers.append(dgl_conv.GATConv(in_size, hid_size, heads[0], activation=F.elu))\n",
    "        self.gat_layers.append(dgl_conv.GATConv(hid_size*heads[0], hid_size, heads[1], feat_drop=feat_drop, attn_drop=att_drop, residual=residual, activation=F.elu))\n",
    "        self.gat_layers.append(dgl_conv.GATConv(hid_size*heads[1], out_size, heads[2], feat_drop=feat_drop, attn_drop=att_drop, residual=residual, activation=None))\n",
    "\n",
    "    def forward(self, g, inputs):\n",
    "        h = inputs\n",
    "        for i, layer in enumerate(self.gat_layers):\n",
    "            h = layer(g, h)\n",
    "            if i == 2:  # last layer \n",
    "                h = h.mean(1)\n",
    "            else:       # other layer(s)\n",
    "                h = h.flatten(1)\n",
    "        return h"
   ]
  },
  {
   "cell_type": "code",
   "execution_count": 9,
   "id": "5ce225f9",
   "metadata": {},
   "outputs": [],
   "source": [
    "gat_model = GATModel(\n",
    "    in_feats, \n",
    "    n_hidden, \n",
    "    2,\n",
    "    heads\n",
    "    ).to(device)\n",
    "\n",
    "pred = MLPPredictor(2).to(device)"
   ]
  },
  {
   "cell_type": "markdown",
   "id": "88ceeab3",
   "metadata": {},
   "source": [
    "### Training Loop"
   ]
  },
  {
   "cell_type": "code",
   "execution_count": 10,
   "id": "c945ab1f",
   "metadata": {},
   "outputs": [
    {
     "name": "stdout",
     "output_type": "stream",
     "text": [
      "Epoch: 0 \t Train loss: 0.718 \t Val loss: 0.717 \t Train AUC: 0.497 \t Val AUC: 0.499\n",
      "Epoch: 10 \t Train loss: 0.708 \t Val loss: 0.708 \t Train AUC: 0.5 \t Val AUC: 0.5\n",
      "Epoch: 20 \t Train loss: 0.701 \t Val loss: 0.701 \t Train AUC: 0.5 \t Val AUC: 0.5\n",
      "Epoch: 30 \t Train loss: 0.697 \t Val loss: 0.697 \t Train AUC: 0.5 \t Val AUC: 0.5\n",
      "Epoch: 40 \t Train loss: 0.694 \t Val loss: 0.694 \t Train AUC: 0.5 \t Val AUC: 0.5\n",
      "Epoch: 50 \t Train loss: 0.693 \t Val loss: 0.693 \t Train AUC: 0.5 \t Val AUC: 0.5\n",
      "Epoch: 60 \t Train loss: 0.693 \t Val loss: 0.693 \t Train AUC: 0.5 \t Val AUC: 0.5\n",
      "Epoch: 70 \t Train loss: 0.693 \t Val loss: 0.693 \t Train AUC: 0.5 \t Val AUC: 0.5\n",
      "Epoch: 80 \t Train loss: 0.693 \t Val loss: 0.693 \t Train AUC: 0.5 \t Val AUC: 0.5\n",
      "Early Stopped at Epoch 82\n"
     ]
    }
   ],
   "source": [
    "import itertools\n",
    "\n",
    "train_loss, val_loss = [], []\n",
    "train_AUC, val_AUC = [], []\n",
    "stop = 0\n",
    "\n",
    "optimizer = torch.optim.Adam(itertools.chain(gat_model.parameters(), pred.parameters()), lr=lr)\n",
    "\n",
    "for e in range(ep):\n",
    "    # forward\n",
    "    h = gat_model(train_g, train_g.ndata['feat'].float()).to(device)\n",
    "    pos_score = pred(train_pos_g.to(device), h.to(device))\n",
    "    neg_score = pred(train_neg_g.to(device), h.to(device))\n",
    "    loss = compute_loss(pos_score, neg_score)\n",
    "    train_loss.append(loss.item())\n",
    "    train_AUC.append(compute_auc(pos_score, neg_score))\n",
    "\n",
    "    # backward\n",
    "    optimizer.zero_grad()\n",
    "    loss.backward()\n",
    "    optimizer.step()\n",
    "\n",
    "    # validation\n",
    "    v_pos_score = pred(val_pos_g.to(device), h)\n",
    "    v_neg_score = pred(val_neg_g.to(device), h)\n",
    "    v_loss = compute_loss(v_pos_score, v_neg_score)\n",
    "    val_loss.append(v_loss.item())\n",
    "    val_AUC.append(compute_auc(v_pos_score, v_neg_score))\n",
    "\n",
    "    #verbose\n",
    "    if e % 10 == 0:\n",
    "        print('Epoch: {} \\t Train loss: {} \\t Val loss: {} \\t Train AUC: {} \\t Val AUC: {}'.format(e, round(loss.item(), 3), round(v_loss.item(), 3), round(train_AUC[-1],3), round(val_AUC[-1], 3)))\n",
    "\n",
    "\n",
    "    # early stopping\n",
    "    if e > 10:\n",
    "        if v_loss.item() > sum(val_loss[-5:])/5:\n",
    "            stop += 1\n",
    "        else: \n",
    "            stop = 0\n",
    "        if stop >= early_stopping:\n",
    "            print(\"Early Stopped at Epoch {}\".format(e))\n",
    "            break"
   ]
  },
  {
   "cell_type": "code",
   "execution_count": 11,
   "id": "fa25daee",
   "metadata": {},
   "outputs": [
    {
     "name": "stdout",
     "output_type": "stream",
     "text": [
      "AUC: 0.5\n"
     ]
    }
   ],
   "source": [
    "# testing AUC\n",
    "with torch.no_grad():\n",
    "    pos_score = pred(test_pos_g.to(device), h.to(device))\n",
    "    neg_score = pred(test_neg_g.to(device), h.to(device))\n",
    "    print('AUC:', compute_auc(pos_score, neg_score))"
   ]
  },
  {
   "cell_type": "markdown",
   "id": "9fbdf7c9",
   "metadata": {},
   "source": [
    "### Result Plotting"
   ]
  },
  {
   "cell_type": "code",
   "execution_count": 12,
   "id": "dbe7e9cd",
   "metadata": {},
   "outputs": [
    {
     "data": {
      "text/plain": [
       "Text(0, 0.5, 'Loss')"
      ]
     },
     "execution_count": 12,
     "metadata": {},
     "output_type": "execute_result"
    },
    {
     "data": {
      "image/png": "[encoded data removed]",
      "text/plain": [
       "<Figure size 640x480 with 1 Axes>"
      ]
     },
     "metadata": {},
     "output_type": "display_data"
    }
   ],
   "source": [
    "fig = plt.figure()\n",
    "plt.plot(train_loss[10:], label='training loss')\n",
    "plt.plot(val_loss[10:], label = 'validation loss')\n",
    "fig.suptitle('GAT Loss Plot')\n",
    "plt.xlabel('Epoch')\n",
    "plt.ylabel('Loss')"
   ]
  },
  {
   "cell_type": "code",
   "execution_count": 13,
   "id": "85db07e4",
   "metadata": {},
   "outputs": [
    {
     "data": {
      "text/plain": [
       "[<matplotlib.lines.Line2D at 0x166ee05e130>]"
      ]
     },
     "execution_count": 13,
     "metadata": {},
     "output_type": "execute_result"
    },
    {
     "data": {
      "image/png": "[encoded data removed]",
      "text/plain": [
       "<Figure size 640x480 with 1 Axes>"
      ]
     },
     "metadata": {},
     "output_type": "display_data"
    }
   ],
   "source": [
    "fig = plt.figure()\n",
    "plt.plot(train_AUC, label='training AUC')\n",
    "plt.plot(val_AUC, label = 'validation AUC')\n",
    "fig.suptitle('GAT AUC Plot')\n",
    "plt.xlabel('Epoch')\n",
    "plt.ylabel('AUC')\n",
    "\n",
    "plt.plot(train_AUC)\n",
    "plt.plot(val_AUC)"
   ]
  }
 ],
 "metadata": {
  "kernelspec": {
   "display_name": "Python 3 (ipykernel)",
   "language": "python",
   "name": "python3"
  },
  "language_info": {
   "codemirror_mode": {
    "name": "ipython",
    "version": 3
   },
   "file_extension": ".py",
   "mimetype": "text/x-python",
   "name": "python",
   "nbconvert_exporter": "python",
   "pygments_lexer": "ipython3",
   "version": "3.9.10"
  },
  "vscode": {
   "interpreter": {
    "hash": "eda238182c1de36151cdce09aa997c6697b1a1e480bed704816dfcebedb6bbfe"
   }
  }
 },
 "nbformat": 4,
 "nbformat_minor": 5
}
