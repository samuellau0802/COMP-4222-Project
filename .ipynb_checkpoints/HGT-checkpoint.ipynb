{
 "cells": [
  {
   "cell_type": "code",
   "execution_count": 11,
   "id": "d0cd285f",
   "metadata": {},
   "outputs": [],
   "source": [
    "import dgl\n",
    "from dgl.data import DGLDataset\n",
    "import torch\n",
    "import os\n",
    "import pandas as pd\n",
    "import numpy as np\n",
    "import torch\n",
    "import itertools\n",
    "import numpy as np\n",
    "import scipy.sparse as sp\n",
    "import dgl.nn as dglnn\n",
    "import torch.nn as nn\n",
    "import torch.nn.functional as F\n",
    "import dgl.function as fn\n",
    "from dgl.nn.pytorch import HGTConv\n",
    "from to_dataset import COMP4222Dataset\n",
    "from PredictorClasses import *\n",
    "from CustomMetrics import *\n",
    "from CustomUtilities import *"
   ]
  },
  {
   "cell_type": "code",
   "execution_count": 52,
   "id": "e24b33d8",
   "metadata": {},
   "outputs": [
    {
     "name": "stdout",
     "output_type": "stream",
     "text": [
      "Graph(num_nodes={'investor': 7594, 'startup': 21485},\n",
      "      num_edges={('investor', 'raise', 'startup'): 60983},\n",
      "      metagraph=[('investor', 'startup', 'raise')])\n"
     ]
    }
   ],
   "source": [
    "graph = COMP4222Dataset()\n",
    "g = graph[0]"
   ]
  },
  {
   "cell_type": "code",
   "execution_count": 13,
   "id": "29f928f4",
   "metadata": {},
   "outputs": [
    {
     "name": "stdout",
     "output_type": "stream",
     "text": [
      "torch.Size([7594, 101])\n"
     ]
    }
   ],
   "source": [
    "g.edges[\"raise\"].data[\"feat\"].shape\n",
    "print(g.nodes[\"investor\"].data[\"feat\"].shape)"
   ]
  },
  {
   "cell_type": "code",
   "execution_count": 14,
   "id": "aedefd80",
   "metadata": {},
   "outputs": [],
   "source": [
    "neg_g = construct_negative_hetero_graph(g,1,(\"investor\",\"raise\",\"startup\"))"
   ]
  },
  {
   "cell_type": "code",
   "execution_count": 15,
   "id": "b575d7d3",
   "metadata": {},
   "outputs": [],
   "source": [
    "investor_feats = g.nodes['investor'].data['feat']\n",
    "startup_feats = g.nodes['startup'].data['feat']\n",
    "node_features = {'investor': investor_feats, \n",
    "                 'startup': startup_feats}"
   ]
  },
  {
   "cell_type": "code",
   "execution_count": 16,
   "id": "65dc13f5",
   "metadata": {},
   "outputs": [],
   "source": [
    "train_g, test_g, valid_g = generate_train_test_valid_hetero_graph(g)\n"
   ]
  },
  {
   "cell_type": "code",
   "execution_count": 78,
   "id": "a9a00014",
   "metadata": {},
   "outputs": [],
   "source": [
    "class Model(nn.Module):\n",
    "    def __init__(self, \n",
    "                 in_features_size,\n",
    "                 head_size,\n",
    "                 num_heads,\n",
    "                 num_ntypes,\n",
    "                 num_etypes,\n",
    "                 dropout=0.2,\n",
    "                 use_norm=False):\n",
    "        super().__init__()\n",
    "        \n",
    "        self.conv = HGTConv(in_features_size, head_size, num_heads, num_ntypes,num_etypes,dropout,use_norm)\n",
    "        self.pred = HeteroDotProductPredictor()\n",
    "    def forward(self, g, neg_g, x, ntype, etype):\n",
    "        h = self.conv(g, x, ntype, etype)\n",
    "        return self.pred(g, h, etype), self.pred(neg_g, h, etype)"
   ]
  },
  {
   "cell_type": "code",
   "execution_count": 84,
   "id": "0dbdac71",
   "metadata": {},
   "outputs": [],
   "source": [
    "class HeteroDotProductPredictor(nn.Module):\n",
    "    def forward(self, graph, h, etype):\n",
    "        # h contains the node representations for each node type computed from\n",
    "        # the GNN defined in the previous section (Section 5.1).\n",
    "        with graph.local_scope():\n",
    "            graph.ndata['h'] = h\n",
    "            graph.apply_edges(fn.u_dot_v('h', 'h', 'score'), etype=etype)\n",
    "            return graph.edges[etype].data['score']"
   ]
  },
  {
   "cell_type": "code",
   "execution_count": 92,
   "id": "d98215f8",
   "metadata": {},
   "outputs": [
    {
     "ename": "DGLError",
     "evalue": "Node type \"investor\" does not exist.",
     "output_type": "error",
     "traceback": [
      "\u001b[1;31m---------------------------------------------------------------------------\u001b[0m",
      "\u001b[1;31mDGLError\u001b[0m                                  Traceback (most recent call last)",
      "Cell \u001b[1;32mIn [92], line 9\u001b[0m\n\u001b[0;32m      7\u001b[0m num_etypes \u001b[38;5;241m=\u001b[39m \u001b[38;5;28mint\u001b[39m(\u001b[38;5;28mlen\u001b[39m(train_g\u001b[38;5;241m.\u001b[39mntypes))\n\u001b[0;32m      8\u001b[0m num_ntypes \u001b[38;5;241m=\u001b[39m \u001b[38;5;28mint\u001b[39m(\u001b[38;5;28mlen\u001b[39m(train_g\u001b[38;5;241m.\u001b[39metypes))\n\u001b[1;32m----> 9\u001b[0m in_features_size \u001b[38;5;241m=\u001b[39m \u001b[43mtrain_g\u001b[49m\u001b[38;5;241;43m.\u001b[39;49m\u001b[43mnodes\u001b[49m\u001b[43m[\u001b[49m\u001b[38;5;124;43m\"\u001b[39;49m\u001b[38;5;124;43minvestor\u001b[39;49m\u001b[38;5;124;43m\"\u001b[39;49m\u001b[43m]\u001b[49m\u001b[38;5;241m.\u001b[39mdata[\u001b[38;5;124m\"\u001b[39m\u001b[38;5;124mfeat\u001b[39m\u001b[38;5;124m\"\u001b[39m]\u001b[38;5;241m.\u001b[39mshape[\u001b[38;5;241m1\u001b[39m]\n\u001b[0;32m     10\u001b[0m num_heads \u001b[38;5;241m=\u001b[39m \u001b[38;5;241m5\u001b[39m\n\u001b[0;32m     11\u001b[0m head_size \u001b[38;5;241m=\u001b[39m in_features_size\u001b[38;5;241m/\u001b[39m\u001b[38;5;241m/\u001b[39mnum_heads\n",
      "File \u001b[1;32mD:\\Dennis\\ust\\year3_fall_sem\\COMP4222\\gnn_ws\\lib\\site-packages\\dgl\\view.py:39\u001b[0m, in \u001b[0;36mHeteroNodeView.__getitem__\u001b[1;34m(self, key)\u001b[0m\n\u001b[0;32m     37\u001b[0m     nodes \u001b[38;5;241m=\u001b[39m key\n\u001b[0;32m     38\u001b[0m     ntype \u001b[38;5;241m=\u001b[39m \u001b[38;5;28;01mNone\u001b[39;00m\n\u001b[1;32m---> 39\u001b[0m ntid \u001b[38;5;241m=\u001b[39m \u001b[38;5;28;43mself\u001b[39;49m\u001b[38;5;241;43m.\u001b[39;49m\u001b[43m_typeid_getter\u001b[49m\u001b[43m(\u001b[49m\u001b[43mntype\u001b[49m\u001b[43m)\u001b[49m\n\u001b[0;32m     40\u001b[0m \u001b[38;5;28;01mreturn\u001b[39;00m NodeSpace(\n\u001b[0;32m     41\u001b[0m     data\u001b[38;5;241m=\u001b[39mHeteroNodeDataView(\n\u001b[0;32m     42\u001b[0m         \u001b[38;5;28mself\u001b[39m\u001b[38;5;241m.\u001b[39m_graph, ntype, ntid, nodes))\n",
      "File \u001b[1;32mD:\\Dennis\\ust\\year3_fall_sem\\COMP4222\\gnn_ws\\lib\\site-packages\\dgl\\heterograph.py:1189\u001b[0m, in \u001b[0;36mDGLHeteroGraph.get_ntype_id\u001b[1;34m(self, ntype)\u001b[0m\n\u001b[0;32m   1187\u001b[0m ntid \u001b[38;5;241m=\u001b[39m \u001b[38;5;28mself\u001b[39m\u001b[38;5;241m.\u001b[39m_srctypes_invmap\u001b[38;5;241m.\u001b[39mget(ntype, \u001b[38;5;28mself\u001b[39m\u001b[38;5;241m.\u001b[39m_dsttypes_invmap\u001b[38;5;241m.\u001b[39mget(ntype, \u001b[38;5;28;01mNone\u001b[39;00m))\n\u001b[0;32m   1188\u001b[0m \u001b[38;5;28;01mif\u001b[39;00m ntid \u001b[38;5;129;01mis\u001b[39;00m \u001b[38;5;28;01mNone\u001b[39;00m:\n\u001b[1;32m-> 1189\u001b[0m     \u001b[38;5;28;01mraise\u001b[39;00m DGLError(\u001b[38;5;124m'\u001b[39m\u001b[38;5;124mNode type \u001b[39m\u001b[38;5;124m\"\u001b[39m\u001b[38;5;132;01m{}\u001b[39;00m\u001b[38;5;124m\"\u001b[39m\u001b[38;5;124m does not exist.\u001b[39m\u001b[38;5;124m'\u001b[39m\u001b[38;5;241m.\u001b[39mformat(ntype))\n\u001b[0;32m   1190\u001b[0m \u001b[38;5;28;01mreturn\u001b[39;00m ntid\n",
      "\u001b[1;31mDGLError\u001b[0m: Node type \"investor\" does not exist."
     ]
    }
   ],
   "source": [
    "def compute_loss(pos_score, neg_score):\n",
    "    # Margin loss\n",
    "    n_edges = pos_score.shape[0]\n",
    "    return (1 - pos_score + neg_score.view(n_edges, -1)).clamp(min=0).mean()\n",
    "train_g = dgl.to_homogeneous(train_g)\n",
    "k = 5\n",
    "num_etypes = int(len(train_g.ntypes))\n",
    "num_ntypes = int(len(train_g.etypes))\n",
    "in_features_size = train_g.nodes[\"investor\"].data[\"feat\"].shape[1]\n",
    "num_heads = 5\n",
    "head_size = in_features_size//num_heads\n",
    "\n",
    "model = Model(in_features_size, \n",
    "              head_size, \n",
    "              num_heads, \n",
    "              int(len(train_g.ntypes)),\n",
    "              int(len(train_g.etypes)))\n",
    "\n",
    "investor_feats = g.nodes['investor'].data['feat']\n",
    "startup_feats = g.nodes['startup'].data['feat']\n",
    "node_features = {'investor': investor_feats, 'startup': startup_feats}\n",
    "\n",
    "\n",
    "etype = torch.tensor([i % num_etypes for i in range(train_g.num_edges())])\n",
    "ntype = torch.tensor([i % num_ntypes for i in range(train_g.num_nodes())])\n",
    "\n",
    "print(etype.shape)\n",
    "print(ntype.shape)\n",
    "opt = torch.optim.Adam(model.parameters())\n",
    "for epoch in range(10):\n",
    "    negative_graph = construct_negative_hetero_graph(train_g, k, (\"investor\",\"raise\",\"startup\"))\n",
    "    \n",
    "    pos_score, neg_score = model(train_g, negative_graph, train_g.nodes[\"investor\"].data[\"feat\"],etype,ntype )\n",
    "    \n",
    "    loss = compute_loss(pos_score, neg_score)\n",
    "    opt.zero_grad()\n",
    "    loss.backward()\n",
    "    opt.step()\n",
    "    print(loss.item())"
   ]
  },
  {
   "cell_type": "code",
   "execution_count": null,
   "id": "4f6fd57c",
   "metadata": {},
   "outputs": [],
   "source": []
  }
 ],
 "metadata": {
  "kernelspec": {
   "display_name": "gnn_ws",
   "language": "python",
   "name": "gnn_ws"
  },
  "language_info": {
   "codemirror_mode": {
    "name": "ipython",
    "version": 3
   },
   "file_extension": ".py",
   "mimetype": "text/x-python",
   "name": "python",
   "nbconvert_exporter": "python",
   "pygments_lexer": "ipython3",
   "version": "3.9.10"
  }
 },
 "nbformat": 4,
 "nbformat_minor": 5
}
