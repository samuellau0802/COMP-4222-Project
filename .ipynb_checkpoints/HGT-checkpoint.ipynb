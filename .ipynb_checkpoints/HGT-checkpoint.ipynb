{
 "cells": [
  {
   "cell_type": "markdown",
   "id": "46d8ce2f",
   "metadata": {},
   "source": [
    "# HGT Implementation"
   ]
  },
  {
   "cell_type": "markdown",
   "id": "638cf89b",
   "metadata": {},
   "source": [
    "```\n",
    "@misc{hu2020heterogeneous,\n",
    "  added-at = {2020-08-27T23:30:32.000+0200},\n",
    "  author = {Hu, Ziniu and Dong, Yuxiao and Wang, Kuansan and Sun, Yizhou},\n",
    "  biburl = {https://www.bibsonomy.org/bibtex/20c4c17852fb0490cdd9d4299bac7e04e/yihong-liu},\n",
    "  description = {Heterogeneous Graph Transformer},\n",
    "  interhash = {a898c0dc2305e22504e4213ec94b3040},\n",
    "  intrahash = {0c4c17852fb0490cdd9d4299bac7e04e},\n",
    "  keywords = {#dl #embedding #ml},\n",
    "  note = {cite arxiv:2003.01332Comment: Published on WWW 2020},\n",
    "  timestamp = {2020-08-27T23:30:32.000+0200},\n",
    "  title = {Heterogeneous Graph Transformer},\n",
    "  url = {http://arxiv.org/abs/2003.01332},\n",
    "  year = 2020\n",
    "}\n",
    "```"
   ]
  },
  {
   "cell_type": "markdown",
   "id": "c1d1a161",
   "metadata": {},
   "source": [
    "## Import Library"
   ]
  },
  {
   "cell_type": "code",
   "execution_count": 1,
   "id": "d0cd285f",
   "metadata": {},
   "outputs": [],
   "source": [
    "import dgl\n",
    "from dgl.data import DGLDataset\n",
    "import torch\n",
    "import os\n",
    "import pandas as pd\n",
    "import numpy as np\n",
    "import torch\n",
    "import itertools\n",
    "import numpy as np\n",
    "import scipy.sparse as sp\n",
    "import dgl.nn as dglnn\n",
    "import torch.nn as nn\n",
    "import torch.nn.functional as F\n",
    "import dgl.function as fn\n",
    "from dgl.nn import HGTConv\n",
    "from utils.startup_data_set import *\n",
    "from utils.PredictorClasses import *\n",
    "from utils.CustomMetrics import *\n",
    "from utils.CustomUtilities import *\n",
    "import matplotlib.pyplot as plt\n",
    "device = torch.device('cuda' if torch.cuda.is_available() else 'cpu')"
   ]
  },
  {
   "cell_type": "markdown",
   "id": "8fa05f1b",
   "metadata": {},
   "source": [
    "## Load Dataset"
   ]
  },
  {
   "cell_type": "code",
   "execution_count": 2,
   "id": "e24b33d8",
   "metadata": {},
   "outputs": [],
   "source": [
    "graph = COMP4222Dataset()\n",
    "g = graph[0].to(device)"
   ]
  },
  {
   "cell_type": "markdown",
   "id": "6a82a8d3",
   "metadata": {},
   "source": [
    "## Generate Postitve Graph and Negative Graph with Spliting"
   ]
  },
  {
   "cell_type": "code",
   "execution_count": 3,
   "id": "070d72bd",
   "metadata": {},
   "outputs": [],
   "source": [
    "train_g, train_pos_g, val_pos_g, test_pos_g = generate_pos_graph(g)"
   ]
  },
  {
   "cell_type": "code",
   "execution_count": 4,
   "id": "a6a08a9a",
   "metadata": {},
   "outputs": [],
   "source": [
    "train_neg_g, val_neg_g, test_neg_g = generate_neg_graph(g)"
   ]
  },
  {
   "cell_type": "code",
   "execution_count": 5,
   "id": "9e7b9973",
   "metadata": {},
   "outputs": [],
   "source": [
    "train_g, train_pos_g, val_pos_g, test_pos_g = train_g.to(device), train_pos_g.to(device), val_pos_g, test_pos_g.to(device)\n",
    "train_neg_g, val_neg_g, test_neg_g = train_neg_g.to(device), val_neg_g.to(device), test_neg_g.to(device)\n",
    "num_nodes = g.num_nodes\n",
    "num_edges = g.num_edges"
   ]
  },
  {
   "cell_type": "markdown",
   "id": "41116087",
   "metadata": {},
   "source": [
    "## Hyperparameters"
   ]
  },
  {
   "cell_type": "code",
   "execution_count": 6,
   "id": "2248c8d4",
   "metadata": {},
   "outputs": [],
   "source": [
    "in_size  = train_g.ndata[\"feat\"].shape[1]\n",
    "head_size  = 16\n",
    "num_ntypes  = 2\n",
    "num_etypes  = 1\n",
    "dropout  = 0.2\n",
    "use_norm  = False\n",
    "num_heads = 3"
   ]
  },
  {
   "cell_type": "markdown",
   "id": "f13be8b1",
   "metadata": {},
   "source": [
    "## Model Training"
   ]
  },
  {
   "cell_type": "markdown",
   "id": "08171150",
   "metadata": {},
   "source": [
    "### Model Setup"
   ]
  },
  {
   "cell_type": "code",
   "execution_count": 13,
   "id": "3b8bb0bb",
   "metadata": {},
   "outputs": [],
   "source": [
    "hgt_model = HGTConv(in_size  = in_size,\n",
    "                                head_size  =  head_size,\n",
    "                                num_heads  = num_heads,\n",
    "                                num_ntypes  = num_ntypes,\n",
    "                                num_etypes  = num_etypes,\n",
    "                                dropout = dropout,\n",
    "                                use_norm = use_norm ).to(device)"
   ]
  },
  {
   "cell_type": "code",
   "execution_count": 14,
   "id": "24665b9a",
   "metadata": {
    "scrolled": true
   },
   "outputs": [],
   "source": [
    "class MLPPredictor(nn.Module):\n",
    "    def __init__(self, h_feats):\n",
    "        super().__init__()\n",
    "        self.W1 = nn.Linear(2*h_feats , h_feats).to(torch.float32)\n",
    "        self.W2 = nn.Linear(h_feats, 1).to(torch.float32)\n",
    "\n",
    "    # concat the source and destination node, use mlp to predict the score\n",
    "    def apply_edges(self, edges):\n",
    "        h = torch.cat([edges.src['h'], edges.dst['h']], 1).to(torch.float32)\n",
    "\n",
    "        return {'score': self.W2(F.relu(self.W1(h))).squeeze(1)}\n",
    "\n",
    "    def forward(self, g, h):\n",
    "        with g.local_scope():\n",
    "            g.ndata['h'] = h.to(torch.float32)\n",
    "            g.apply_edges(self.apply_edges)\n",
    "            return g.edata['score']\n",
    "\n",
    "\n",
    "pred = MLPPredictor(48).to(device)\n",
    "early_stopping = 10\n"
   ]
  },
  {
   "cell_type": "markdown",
   "id": "3d97b3a2",
   "metadata": {},
   "source": [
    "### Training Loop"
   ]
  },
  {
   "cell_type": "code",
   "execution_count": 15,
   "id": "854e41fc",
   "metadata": {},
   "outputs": [
    {
     "name": "stdout",
     "output_type": "stream",
     "text": [
      "Epoch: 0 \t Train loss: 0.694 \t Val loss: 0.694 \t Train AUC: 0.601 \t Val AUC: 0.651\n",
      "Epoch: 10 \t Train loss: 0.685 \t Val loss: 0.684 \t Train AUC: 0.909 \t Val AUC: 0.904\n",
      "Epoch: 20 \t Train loss: 0.653 \t Val loss: 0.652 \t Train AUC: 0.933 \t Val AUC: 0.923\n",
      "Epoch: 30 \t Train loss: 0.552 \t Val loss: 0.55 \t Train AUC: 0.945 \t Val AUC: 0.932\n",
      "Epoch: 40 \t Train loss: 0.356 \t Val loss: 0.37 \t Train AUC: 0.948 \t Val AUC: 0.935\n",
      "Epoch: 50 \t Train loss: 0.27 \t Val loss: 0.343 \t Train AUC: 0.95 \t Val AUC: 0.935\n",
      "Early Stopped at Epoch 57\n"
     ]
    }
   ],
   "source": [
    "import itertools\n",
    "\n",
    "train_loss, val_loss = [], []\n",
    "train_AUC, val_AUC = [], []\n",
    "stop = 0\n",
    "ep = 101\n",
    "optimizer = torch.optim.Adam(itertools.chain(hgt_model.parameters(), pred.parameters()))\n",
    "etype = torch.tensor([i % 1 for i in range(train_g.num_edges())]).to(device)\n",
    "ntype = train_g.ndata[\"label\"].to(torch.long)\n",
    "for e in range(ep):\n",
    "    # forward\n",
    "    h = hgt_model(train_g, train_g.ndata['feat'].to(torch.float32),ntype ,etype).to(device)\n",
    "    pos_score = pred(train_pos_g.to(device),h.to(device))\n",
    "    neg_score = pred(train_neg_g.to(device),h.to(device))\n",
    "    # update \n",
    "    \n",
    "    loss = compute_loss(pos_score, neg_score)\n",
    "    train_loss.append(loss.item())\n",
    "    train_AUC.append(compute_auc(pos_score, neg_score))\n",
    "\n",
    "    # backward\n",
    "    optimizer.zero_grad()\n",
    "    loss.backward()\n",
    "    optimizer.step()\n",
    "\n",
    "    # validation\n",
    "    v_pos_score = pred(val_pos_g, h)\n",
    "    v_neg_score = pred(val_neg_g, h)\n",
    "    v_loss = compute_loss(v_pos_score, v_neg_score)\n",
    "    val_loss.append(v_loss.item())\n",
    "    val_AUC.append(compute_auc(v_pos_score, v_neg_score))\n",
    "\n",
    "    #verbose\n",
    "    if e % 10 == 0:\n",
    "        print('Epoch: {} \\t Train loss: {} \\t Val loss: {} \\t Train AUC: {} \\t Val AUC: {}'.format(e, round(loss.item(), 3), round(v_loss.item(), 3), round(train_AUC[-1],3), round(val_AUC[-1], 3)))\n",
    "\n",
    "\n",
    "    # early stopping\n",
    "    if e > 10:\n",
    "        if v_loss.item() > sum(val_loss[-5:])/5:\n",
    "            stop += 1\n",
    "        else: \n",
    "            stop = 0\n",
    "        if stop >= early_stopping:\n",
    "            print(\"Early Stopped at Epoch {}\".format(e))\n",
    "            break\n"
   ]
  },
  {
   "cell_type": "code",
   "execution_count": 16,
   "id": "569c7dae",
   "metadata": {},
   "outputs": [
    {
     "name": "stdout",
     "output_type": "stream",
     "text": [
      "AUC: 0.9297052438025194\n"
     ]
    }
   ],
   "source": [
    "# testing AUC\n",
    "with torch.no_grad():\n",
    "    pos_score = pred(test_pos_g, h)\n",
    "    neg_score = pred(test_neg_g, h)\n",
    "    print('AUC:', compute_auc(pos_score, neg_score))"
   ]
  },
  {
   "cell_type": "markdown",
   "id": "7f55c9cf",
   "metadata": {},
   "source": [
    "### Result Plotting"
   ]
  },
  {
   "cell_type": "code",
   "execution_count": 17,
   "id": "9192211b",
   "metadata": {},
   "outputs": [
    {
     "data": {
      "text/plain": [
       "Text(0, 0.5, 'Loss')"
      ]
     },
     "execution_count": 17,
     "metadata": {},
     "output_type": "execute_result"
    },
    {
     "data": {
      "image/png": "[encoded data removed]",
      "text/plain": [
       "<Figure size 640x480 with 1 Axes>"
      ]
     },
     "metadata": {},
     "output_type": "display_data"
    }
   ],
   "source": [
    "fig = plt.figure()\n",
    "plt.plot(train_loss[20:], label='training loss')\n",
    "plt.plot(val_loss[20:], label = 'validation loss')\n",
    "fig.suptitle('HGT Loss Plot')\n",
    "plt.xlabel('Epoch')\n",
    "plt.ylabel('Loss')"
   ]
  },
  {
   "cell_type": "code",
   "execution_count": 18,
   "id": "9ad561c5",
   "metadata": {},
   "outputs": [
    {
     "data": {
      "text/plain": [
       "Text(0, 0.5, 'AUC')"
      ]
     },
     "execution_count": 18,
     "metadata": {},
     "output_type": "execute_result"
    },
    {
     "data": {
      "image/png": "[encoded data removed]",
      "text/plain": [
       "<Figure size 640x480 with 1 Axes>"
      ]
     },
     "metadata": {},
     "output_type": "display_data"
    }
   ],
   "source": [
    "fig = plt.figure()\n",
    "plt.plot(train_AUC, label='training AUC')\n",
    "plt.plot(val_AUC, label = 'validation AUC')\n",
    "fig.suptitle('HGT AUC Plot')\n",
    "plt.xlabel('Epoch')\n",
    "plt.ylabel('AUC')"
   ]
  }
 ],
 "metadata": {
  "kernelspec": {
   "display_name": "gnn_ws",
   "language": "python",
   "name": "gnn_ws"
  },
  "language_info": {
   "codemirror_mode": {
    "name": "ipython",
    "version": 3
   },
   "file_extension": ".py",
   "mimetype": "text/x-python",
   "name": "python",
   "nbconvert_exporter": "python",
   "pygments_lexer": "ipython3",
   "version": "3.9.10"
  }
 },
 "nbformat": 4,
 "nbformat_minor": 5
}
