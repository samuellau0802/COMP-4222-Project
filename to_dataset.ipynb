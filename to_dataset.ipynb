{
 "cells": [
  {
   "cell_type": "code",
   "execution_count": 1,
   "metadata": {},
   "outputs": [],
   "source": [
    "import dgl\n",
    "from dgl.data import DGLDataset\n",
    "import torch\n",
    "import os\n",
    "import pandas as pd"
   ]
  },
  {
   "cell_type": "code",
   "execution_count": 2,
   "metadata": {},
   "outputs": [
    {
     "name": "stdout",
     "output_type": "stream",
     "text": [
      "Graph(num_nodes={'investor': 7594, 'startup': 21485},\n",
      "      num_edges={('investor', 'raise', 'startup'): 60983},\n",
      "      metagraph=[('investor', 'startup', 'raise')])\n"
     ]
    }
   ],
   "source": [
    "class COMP4222Dataset(DGLDataset):\n",
    "    def __init__(self):\n",
    "        super().__init__(name='comp-4222')\n",
    "\n",
    "    def process(self):\n",
    "        df_startups = pd.read_csv('startups_formatted.csv')\n",
    "        df_investors = pd.read_csv('investors_formatted.csv')\n",
    "        df_investments = pd.read_csv('funding_round_formatted.csv')\n",
    "\n",
    "        data_dict = {\n",
    "            (\"investor\", \"raise\", \"startup\"): (torch.tensor(df_investments.investor_object_id.values.tolist()), torch.tensor(df_investments.funded_object_id.values.tolist()))\n",
    "            }     \n",
    "        self.graph = dgl.heterograph(data_dict)\n",
    "        \n",
    "        edge_feature = [i for i in df_investments.columns if i not in [\"funding_round_id\", \"funded_object_id\", \"investor_object_id\"]]\n",
    "\n",
    "        self.graph.nodes['investor'].data['feat'] = torch.tensor(df_investors.iloc[:, 2:].to_numpy())\n",
    "        self.graph.nodes['startup'].data['feat'] = torch.tensor(df_startups.iloc[:, 2:].to_numpy())\n",
    "\n",
    "        self.graph.edges['raise'].data['feat'] = torch.tensor(df_investments[edge_feature].to_numpy())\n",
    "\n",
    "    def __getitem__(self, i):\n",
    "        return self.graph\n",
    "\n",
    "    def __len__(self):\n",
    "        return 1\n",
    "\n",
    "dataset = COMP4222Dataset()\n",
    "graph = dataset[0]\n",
    "\n",
    "print(graph)"
   ]
  },
  {
   "cell_type": "code",
   "execution_count": 3,
   "metadata": {},
   "outputs": [
    {
     "name": "stdout",
     "output_type": "stream",
     "text": [
      "Startup Node Size:  torch.Size([21485, 221])\n",
      "Investor Node Size:  torch.Size([7594, 101])\n",
      "Edge Size:  torch.Size([60983, 23])\n"
     ]
    }
   ],
   "source": [
    "print(f\"Startup Node Size:  {graph.nodes['startup'].data['feat'].shape}\")\n",
    "print(f\"Investor Node Size:  {graph.nodes['investor'].data['feat'].shape}\")\n",
    "print(f\"Edge Size:  {graph.edges['raise'].data['feat'].shape}\")"
   ]
  },
  {
   "cell_type": "code",
   "execution_count": 4,
   "metadata": {},
   "outputs": [],
   "source": [
    "import dgl\n",
    "import torch\n",
    "import torch.nn as nn\n",
    "import torch.nn.functional as F\n",
    "import itertools\n",
    "import numpy as np\n",
    "import scipy.sparse as sp"
   ]
  },
  {
   "cell_type": "code",
   "execution_count": null,
   "metadata": {},
   "outputs": [],
   "source": []
  }
 ],
 "metadata": {
  "kernelspec": {
   "display_name": "Python 3.9.13 ('COMP4222')",
   "language": "python",
   "name": "python3"
  },
  "language_info": {
   "codemirror_mode": {
    "name": "ipython",
    "version": 3
   },
   "file_extension": ".py",
   "mimetype": "text/x-python",
   "name": "python",
   "nbconvert_exporter": "python",
   "pygments_lexer": "ipython3",
   "version": "3.9.13"
  },
  "orig_nbformat": 4,
  "vscode": {
   "interpreter": {
    "hash": "c881615305ce00ef11df2207c1e4d98fd44a969ba8c8ae9fdc782eb770ed699f"
   }
  }
 },
 "nbformat": 4,
 "nbformat_minor": 2
}
