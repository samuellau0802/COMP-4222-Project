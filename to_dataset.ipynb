{
 "cells": [
  {
   "cell_type": "code",
   "execution_count": 1,
   "metadata": {},
   "outputs": [
    {
     "name": "stdout",
     "output_type": "stream",
     "text": [
      "Setting the default backend to \"pytorch\". You can change it in the ~/.dgl/config.json file or export the DGLBACKEND environment variable.  Valid options are: pytorch, mxnet, tensorflow (all lowercase)\n"
     ]
    },
    {
     "name": "stderr",
     "output_type": "stream",
     "text": [
      "DGL backend not selected or invalid.  Assuming PyTorch for now.\n"
     ]
    }
   ],
   "source": [
    "import dgl\n",
    "from dgl.data import DGLDataset\n",
    "import torch\n",
    "import os\n",
    "import pandas as pd"
   ]
  },
  {
   "cell_type": "code",
   "execution_count": 102,
   "metadata": {},
   "outputs": [
    {
     "name": "stdout",
     "output_type": "stream",
     "text": [
      "Graph(num_nodes={'investor': 7594, 'startup': 21485},\n",
      "      num_edges={('investor', 'raise', 'startup'): 60983},\n",
      "      metagraph=[('investor', 'startup', 'raise')])\n"
     ]
    }
   ],
   "source": [
    "class COMP4222Dataset(DGLDataset):\n",
    "    def __init__(self):\n",
    "        super().__init__(name='comp-4222')\n",
    "\n",
    "    def process(self):\n",
    "        df_startups = pd.read_csv('startups_formatted.csv')\n",
    "        df_investors = pd.read_csv('investors_formatted.csv')\n",
    "        df_investments = pd.read_csv('funding_round_formatted.csv')\n",
    "\n",
    "        data_dict = {\n",
    "            (\"investor\", \"raise\", \"startup\"): (torch.tensor(df_investments.investor_object_id.values.tolist()), torch.tensor(df_investments.funded_object_id.values.tolist()))\n",
    "            }     \n",
    "        self.graph = dgl.heterograph(data_dict)\n",
    "        \n",
    "        edge_feature = [i for i in df_investments.columns if i not in [\"funding_round_id\", \"funded_object_id\", \"investor_object_id\"]]\n",
    "\n",
    "        graph.nodes['investor'].data['features'] = torch.tensor(df_investors.iloc[:, 2:].to_numpy())\n",
    "        graph.nodes['startup'].data['features'] = torch.tensor(df_startups.iloc[:, 2:].to_numpy())\n",
    "\n",
    "        graph.edges['raise'].data['features'] = torch.tensor(df_investments[edge_feature].to_numpy())\n",
    "\n",
    "    def __getitem__(self, i):\n",
    "        return self.graph\n",
    "\n",
    "    def __len__(self):\n",
    "        return 1\n",
    "\n",
    "dataset = COMP4222Dataset()\n",
    "graph = dataset[0]\n",
    "\n",
    "print(graph)"
   ]
  },
  {
   "cell_type": "code",
   "execution_count": null,
   "metadata": {},
   "outputs": [],
   "source": []
  }
 ],
 "metadata": {
  "kernelspec": {
   "display_name": "Python 3.9.13 ('COMP4222')",
   "language": "python",
   "name": "python3"
  },
  "language_info": {
   "codemirror_mode": {
    "name": "ipython",
    "version": 3
   },
   "file_extension": ".py",
   "mimetype": "text/x-python",
   "name": "python",
   "nbconvert_exporter": "python",
   "pygments_lexer": "ipython3",
   "version": "3.9.13"
  },
  "orig_nbformat": 4,
  "vscode": {
   "interpreter": {
    "hash": "eda238182c1de36151cdce09aa997c6697b1a1e480bed704816dfcebedb6bbfe"
   }
  }
 },
 "nbformat": 4,
 "nbformat_minor": 2
}
