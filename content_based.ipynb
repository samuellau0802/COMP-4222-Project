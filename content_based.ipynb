{
 "cells": [
  {
   "cell_type": "code",
   "execution_count": 1,
   "metadata": {},
   "outputs": [],
   "source": []
  },
  {
   "cell_type": "code",
   "execution_count": 2,
   "metadata": {},
   "outputs": [],
   "source": [
    "import pandas as pd\n",
    "\n",
    "df_startups = pd.read_csv('./data/startups_formatted.csv')\n",
    "df_investors = pd.read_csv('./data/investors_formatted.csv')\n",
    "df_investments = pd.read_csv('./data/funding_round_formatted.csv')"
   ]
  },
  {
   "cell_type": "code",
   "execution_count": 3,
   "metadata": {},
   "outputs": [],
   "source": [
    "df_investments[\"X\"] = [\"X\"] * len(df_investments)"
   ]
  },
  {
   "cell_type": "code",
   "execution_count": 4,
   "metadata": {},
   "outputs": [],
   "source": [
    "import numpy as np\n"
   ]
  },
  {
   "cell_type": "code",
   "execution_count": 5,
   "metadata": {},
   "outputs": [],
   "source": [
    "# Starup-Investor Matrix \n",
    "startup_investor_matrix = df_investments.pivot_table(index='funded_object_id', columns='investor_object_id',\n",
    "               values='X', aggfunc='count', fill_value=0)\n"
   ]
  },
  {
   "cell_type": "code",
   "execution_count": 6,
   "metadata": {},
   "outputs": [],
   "source": [
    "\n",
    "# Startup feature Matrix\n",
    "P = df_startups.loc[startup_investor_matrix.index].iloc[:, 2:].values\n",
    "# Investor feature Matrix\n",
    "Q = np.pad(df_investors.iloc[:, 2:].to_numpy(), [(0,0),(0,120)])\n",
    "\n",
    "startup_investor_matrix = startup_investor_matrix.values"
   ]
  },
  {
   "cell_type": "code",
   "execution_count": 7,
   "metadata": {},
   "outputs": [],
   "source": [
    "K = 221"
   ]
  },
  {
   "cell_type": "code",
   "execution_count": 8,
   "metadata": {},
   "outputs": [
    {
     "data": {
      "text/plain": [
       "((17852, 7594), (17852, 221), (7594, 221))"
      ]
     },
     "execution_count": 8,
     "metadata": {},
     "output_type": "execute_result"
    }
   ],
   "source": [
    "startup_investor_matrix.shape, P.shape, Q.shape"
   ]
  },
  {
   "cell_type": "code",
   "execution_count": 9,
   "metadata": {},
   "outputs": [],
   "source": [
    " from sklearn.metrics import roc_auc_score"
   ]
  },
  {
   "cell_type": "code",
   "execution_count": null,
   "metadata": {},
   "outputs": [],
   "source": []
  }
 ],
 "metadata": {
  "kernelspec": {
   "display_name": "Python 3.8.6 64-bit",
   "language": "python",
   "name": "python3"
  },
  "language_info": {
   "codemirror_mode": {
    "name": "ipython",
    "version": 3
   },
   "file_extension": ".py",
   "mimetype": "text/x-python",
   "name": "python",
   "nbconvert_exporter": "python",
   "pygments_lexer": "ipython3",
   "version": "3.8.6"
  },
  "orig_nbformat": 4,
  "vscode": {
   "interpreter": {
    "hash": "f5262e34a01947465ee9d7ffe8fc0b9b893f1c6858650d79127a26c717a716dd"
   }
  }
 },
 "nbformat": 4,
 "nbformat_minor": 2
}
