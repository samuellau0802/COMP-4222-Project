{
 "cells": [
  {
   "cell_type": "code",
   "execution_count": 4,
   "id": "736c809d",
   "metadata": {},
   "outputs": [],
   "source": [
    "import torch\n",
    "import torch.nn.functional as F\n",
    "from sklearn.metrics import roc_auc_score,average_precision_score,f1_score,log_loss,ndcg_score\n",
    "def compute_loss(pos_score, neg_score):\n",
    "    scores = torch.cat([pos_score, neg_score])\n",
    "    labels = torch.cat([torch.ones(pos_score.shape[0]), torch.zeros(neg_score.shape[0])])\n",
    "    return F.binary_cross_entropy_with_logits(scores, labels)\n",
    "\n",
    "def compute_auc(pos_score, neg_score):\n",
    "    scores = torch.cat([pos_score, neg_score]).numpy()\n",
    "    labels = torch.cat(\n",
    "        [torch.ones(pos_score.shape[0]), torch.zeros(neg_score.shape[0])]).numpy()\n",
    "    return roc_auc_score(labels, scores)\n",
    "\n",
    "def compute_acc(pred, label):\n",
    "    res = []\n",
    "    for value in pred:\n",
    "        if value >= 0.5:\n",
    "            res.append(1)\n",
    "        else:\n",
    "            res.append(0)\n",
    "    return accuracy_score(y_pred=res, y_true=label)\n",
    "\n",
    "def compute_\n",
    "\n",
    "def compute_f1_score(pred, label):\n",
    "    res = []\n",
    "    for value in pred:\n",
    "        if value >= 0.5:\n",
    "            res.append(1)\n",
    "        else:\n",
    "            res.append(0)\n",
    "    return f1_score(y_pred=res, y_true=label)\n",
    "\n",
    "\n",
    "def compute_logloss(pred, label):\n",
    "    res = log_loss(y_true=label, y_pred=pred, eps=1e-7, normalize=True)\n",
    "    return res\n",
    "\n"
   ]
  }
 ],
 "metadata": {
  "kernelspec": {
   "display_name": "Python 3 (ipykernel)",
   "language": "python",
   "name": "python3"
  },
  "language_info": {
   "codemirror_mode": {
    "name": "ipython",
    "version": 3
   },
   "file_extension": ".py",
   "mimetype": "text/x-python",
   "name": "python",
   "nbconvert_exporter": "python",
   "pygments_lexer": "ipython3",
   "version": "3.9.10"
  }
 },
 "nbformat": 4,
 "nbformat_minor": 5
}
