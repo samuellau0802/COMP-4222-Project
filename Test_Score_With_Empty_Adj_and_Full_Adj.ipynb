{
 "cells": [
  {
   "cell_type": "code",
   "execution_count": 1,
   "id": "b7030341",
   "metadata": {},
   "outputs": [],
   "source": [
    "import dgl\n",
    "from dgl.data import DGLDataset\n",
    "import torch\n",
    "import os\n",
    "import pandas as pd\n",
    "import numpy as np\n",
    "import torch\n",
    "import itertools\n",
    "import numpy as np\n",
    "import scipy.sparse as sp\n",
    "import dgl.nn as dglnn\n",
    "import torch.nn as nn\n",
    "import torch.nn.functional as F\n",
    "import dgl.function as fn\n",
    "from dgl.nn import HGTConv\n",
    "from utils.startup_data_set import *\n",
    "from utils.PredictorClasses import *\n",
    "from utils.CustomMetrics import *\n",
    "from utils.CustomUtilities import *\n",
    "import matplotlib.pyplot as plt\n",
    "device = torch.device('cuda' if torch.cuda.is_available() else 'cpu')"
   ]
  },
  {
   "cell_type": "code",
   "execution_count": 2,
   "id": "3874ed40",
   "metadata": {},
   "outputs": [],
   "source": [
    "graph = COMP4222Dataset()\n",
    "g = graph[0].to(device)"
   ]
  },
  {
   "cell_type": "code",
   "execution_count": 3,
   "id": "1fd6b414",
   "metadata": {},
   "outputs": [],
   "source": [
    "train_g, train_pos_g, val_pos_g, test_pos_g = generate_pos_graph(g)"
   ]
  },
  {
   "cell_type": "code",
   "execution_count": 4,
   "id": "ece8da57",
   "metadata": {},
   "outputs": [],
   "source": [
    "train_neg_g, val_neg_g, test_neg_g = generate_neg_graph(g)"
   ]
  },
  {
   "cell_type": "code",
   "execution_count": 6,
   "id": "5ce3c9c4",
   "metadata": {},
   "outputs": [
    {
     "data": {
      "text/plain": [
       "Graph(num_nodes=25446, num_edges=4562,\n",
       "      ndata_schemes={}\n",
       "      edata_schemes={})"
      ]
     },
     "execution_count": 6,
     "metadata": {},
     "output_type": "execute_result"
    }
   ],
   "source": [
    "test_pos_g"
   ]
  },
  {
   "cell_type": "code",
   "execution_count": null,
   "id": "5d7308f6",
   "metadata": {},
   "outputs": [],
   "source": [
    "# Full adj"
   ]
  },
  {
   "cell_type": "code",
   "execution_count": null,
   "id": "f81f178d",
   "metadata": {},
   "outputs": [],
   "source": [
    "with torch.no_grad():\n",
    "    pos_score = pred(test_pos_g, h)\n",
    "    neg_score = pred(test_neg_g, h)\n",
    "    print('AUC:', compute_auc(pos_score, neg_score))"
   ]
  }
 ],
 "metadata": {
  "kernelspec": {
   "display_name": "Python 3 (ipykernel)",
   "language": "python",
   "name": "python3"
  },
  "language_info": {
   "codemirror_mode": {
    "name": "ipython",
    "version": 3
   },
   "file_extension": ".py",
   "mimetype": "text/x-python",
   "name": "python",
   "nbconvert_exporter": "python",
   "pygments_lexer": "ipython3",
   "version": "3.9.10"
  }
 },
 "nbformat": 4,
 "nbformat_minor": 5
}
