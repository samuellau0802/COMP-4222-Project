{
  "cells": [
    {
      "cell_type": "markdown",
      "id": "d86c48cb",
      "metadata": {
        "id": "d86c48cb"
      },
      "source": [
        "## Import Library"
      ]
    },
    {
      "cell_type": "code",
      "execution_count": null,
      "id": "eef4235b",
      "metadata": {
        "colab": {
          "base_uri": "https://localhost:8080/"
        },
        "id": "eef4235b",
        "outputId": "8ae5d48b-a3a2-480b-b6fc-6246acc49452"
      },
      "outputs": [
        {
          "name": "stderr",
          "output_type": "stream",
          "text": [
            "DGL backend not selected or invalid.  Assuming PyTorch for now.\n"
          ]
        },
        {
          "name": "stdout",
          "output_type": "stream",
          "text": [
            "Setting the default backend to \"pytorch\". You can change it in the ~/.dgl/config.json file or export the DGLBACKEND environment variable.  Valid options are: pytorch, mxnet, tensorflow (all lowercase)\n"
          ]
        }
      ],
      "source": [
        "import dgl\n",
        "import torch\n",
        "import itertools\n",
        "import torch.nn as nn\n",
        "import torch.nn.functional as F\n",
        "from dgl.nn.pytorch import conv as dgl_conv\n",
        "from startup_data_set import COMP4222Dataset_hetero\n",
        "from PredictorClasses import *\n",
        "from CustomMetrics import *\n",
        "from sklearn.metrics import roc_auc_score\n",
        "import matplotlib.pyplot as plt\n",
        "device = torch.device('cuda' if torch.cuda.is_available() else 'cpu')"
      ]
    },
    {
      "cell_type": "markdown",
      "id": "b5147a43",
      "metadata": {
        "id": "b5147a43"
      },
      "source": [
        "### Hypermeters"
      ]
    },
    {
      "cell_type": "code",
      "execution_count": null,
      "id": "13e5bde2",
      "metadata": {
        "id": "13e5bde2"
      },
      "outputs": [],
      "source": [
        "val_ratio = 0.1\n",
        "test_ratio = 0.1\n",
        "\n",
        "# Hyperparameters\n",
        "n_hidden = 32\n",
        "output_dim = 16\n",
        "\n",
        "early_stopping = 5\n",
        "ep = 800"
      ]
    },
    {
      "cell_type": "markdown",
      "id": "1e6446e8",
      "metadata": {
        "id": "1e6446e8"
      },
      "source": [
        "## Load Dataset"
      ]
    },
    {
      "cell_type": "code",
      "execution_count": null,
      "id": "f8ceb2eb",
      "metadata": {
        "colab": {
          "base_uri": "https://localhost:8080/"
        },
        "id": "f8ceb2eb",
        "outputId": "68bd8ee4-2af3-4d59-96fd-424af660f5b9"
      },
      "outputs": [
        {
          "data": {
            "text/plain": [
              "Graph(num_nodes=25446, num_edges=45621,\n",
              "      ndata_schemes={'feat': Scheme(shape=(221,), dtype=torch.float64), '_ID': Scheme(shape=(), dtype=torch.int64), '_TYPE': Scheme(shape=(), dtype=torch.int64)}\n",
              "      edata_schemes={'feat': Scheme(shape=(23,), dtype=torch.float64), '_ID': Scheme(shape=(), dtype=torch.int64), '_TYPE': Scheme(shape=(), dtype=torch.int64)})"
            ]
          },
          "execution_count": 8,
          "metadata": {},
          "output_type": "execute_result"
        }
      ],
      "source": [
        "graph = COMP4222Dataset_hetero()[0]\n",
        "graph = dgl.to_homogeneous(graph,ndata=['feat'],edata=['feat'])\n",
        "graph"
      ]
    },
    {
      "cell_type": "code",
      "execution_count": null,
      "id": "b7e82188",
      "metadata": {
        "colab": {
          "base_uri": "https://localhost:8080/"
        },
        "id": "b7e82188",
        "outputId": "5caebb33-76e8-4207-9a6a-4c6c6968baad"
      },
      "outputs": [
        {
          "data": {
            "text/plain": [
              "221"
            ]
          },
          "execution_count": 9,
          "metadata": {},
          "output_type": "execute_result"
        }
      ],
      "source": [
        "in_feats = graph.ndata['feat'].shape[1]\n",
        "in_feats"
      ]
    },
    {
      "cell_type": "markdown",
      "id": "7e76e323",
      "metadata": {
        "id": "7e76e323"
      },
      "source": [
        "## Generate Postitve Graph and Negative Graph with Spliting"
      ]
    },
    {
      "cell_type": "code",
      "execution_count": null,
      "id": "3b21ea8e",
      "metadata": {
        "colab": {
          "base_uri": "https://localhost:8080/"
        },
        "id": "3b21ea8e",
        "outputId": "94bed0eb-bd65-4d06-dd06-20f31a05617e"
      },
      "outputs": [
        {
          "data": {
            "text/plain": [
              "Graph(num_nodes=25446, num_edges=61943,\n",
              "      ndata_schemes={'feat': Scheme(shape=(221,), dtype=torch.float64), '_ID': Scheme(shape=(), dtype=torch.int64), '_TYPE': Scheme(shape=(), dtype=torch.int64)}\n",
              "      edata_schemes={'feat': Scheme(shape=(23,), dtype=torch.float64), '_ID': Scheme(shape=(), dtype=torch.int64), '_TYPE': Scheme(shape=(), dtype=torch.int64)})"
            ]
          },
          "execution_count": 10,
          "metadata": {},
          "output_type": "execute_result"
        }
      ],
      "source": [
        "from CustomUtilities import generate_neg_graph, generate_pos_graph\n",
        "train_g, train_pos_g, val_pos_g, test_pos_g = \\\n",
        "    generate_pos_graph(graph, val_ratio, test_ratio)\n",
        "\n",
        "train_g"
      ]
    },
    {
      "cell_type": "code",
      "execution_count": null,
      "id": "8dfe9889",
      "metadata": {
        "colab": {
          "base_uri": "https://localhost:8080/"
        },
        "id": "8dfe9889",
        "outputId": "fa097060-48c8-4f7f-ef43-82ebb432455f"
      },
      "outputs": [
        {
          "data": {
            "text/plain": [
              "Graph(num_nodes=25446, num_edges=36497,\n",
              "      ndata_schemes={}\n",
              "      edata_schemes={})"
            ]
          },
          "execution_count": 11,
          "metadata": {},
          "output_type": "execute_result"
        }
      ],
      "source": [
        "train_neg_g, val_neg_g, test_neg_g = \\\n",
        "    generate_neg_graph(graph, val_ratio, test_ratio)\n",
        "\n",
        "train_neg_g"
      ]
    },
    {
      "cell_type": "markdown",
      "id": "e38657b8",
      "metadata": {
        "id": "e38657b8"
      },
      "source": [
        "## Model Training"
      ]
    },
    {
      "cell_type": "markdown",
      "id": "c3a4f954",
      "metadata": {
        "id": "c3a4f954"
      },
      "source": [
        "### Model Setup"
      ]
    },
    {
      "cell_type": "code",
      "execution_count": null,
      "id": "171f3f4d",
      "metadata": {
        "id": "171f3f4d"
      },
      "outputs": [],
      "source": [
        "from dgl.nn.pytorch import GraphConv\n",
        "\n",
        "\n",
        "class VGAEModel(nn.Module):\n",
        "    def __init__(self, in_dim, hidden1_dim, hidden2_dim):\n",
        "        super(VGAEModel, self).__init__()\n",
        "        self.in_dim = in_dim\n",
        "        self.hidden1_dim = hidden1_dim\n",
        "        self.hidden2_dim = hidden2_dim\n",
        "\n",
        "        layers = [\n",
        "            GraphConv(\n",
        "                self.in_dim,\n",
        "                self.hidden1_dim,\n",
        "                activation=F.relu,\n",
        "                allow_zero_in_degree=True,\n",
        "            ),\n",
        "            GraphConv(\n",
        "                self.hidden1_dim,\n",
        "                self.hidden2_dim,\n",
        "                activation=lambda x: x,\n",
        "                allow_zero_in_degree=True,\n",
        "            ),\n",
        "            GraphConv(\n",
        "                self.hidden1_dim,\n",
        "                self.hidden2_dim,\n",
        "                activation=lambda x: x,\n",
        "                allow_zero_in_degree=True,\n",
        "            ),\n",
        "        ]\n",
        "        self.layers = nn.ModuleList(layers)\n",
        "\n",
        "    def encoder(self, g, features):\n",
        "        h = self.layers[0](g, features)\n",
        "        self.mean = self.layers[1](g, h)\n",
        "        self.log_std = self.layers[2](g, h)\n",
        "        gaussian_noise = torch.randn(features.size(0), self.hidden2_dim).to(\n",
        "            device\n",
        "        )\n",
        "        sampled_z = self.mean + gaussian_noise * torch.exp(self.log_std).to(\n",
        "            device\n",
        "        )\n",
        "        return sampled_z\n",
        "\n",
        "    def decoder(self, z):\n",
        "        adj_rec = nn.ReLU()(torch.matmul(z, z.t()))\n",
        "        return adj_rec\n",
        "\n",
        "    def forward(self, g, features):\n",
        "        z = self.encoder(g, features)\n",
        "        adj_rec = self.decoder(z)\n",
        "        return adj_rec"
      ]
    },
    {
      "cell_type": "code",
      "execution_count": null,
      "id": "5ce225f9",
      "metadata": {
        "id": "5ce225f9"
      },
      "outputs": [],
      "source": [
        "vgae_model = VGAEModel(\n",
        "    in_feats,\n",
        "    n_hidden,\n",
        "    output_dim\n",
        ")\n",
        "\n",
        "pred = DotPredictor()"
      ]
    },
    {
      "cell_type": "code",
      "execution_count": null,
      "id": "aaf5ef5f",
      "metadata": {
        "id": "aaf5ef5f"
      },
      "outputs": [],
      "source": [
        "vgae_model = vgae_model.to(device)\n",
        "pred = pred.to(device)"
      ]
    },
    {
      "cell_type": "code",
      "execution_count": null,
      "id": "Dn9-qjcQUCqx",
      "metadata": {
        "id": "Dn9-qjcQUCqx"
      },
      "outputs": [],
      "source": [
        "train_g = train_g.to(device)\n",
        "train_g.ndata['feat'] = train_g.ndata['feat'].float().to(device)\n",
        "train_pos_g = train_pos_g.to(device)\n",
        "train_neg_g = train_neg_g.to(device)"
      ]
    },
    {
      "cell_type": "markdown",
      "id": "88ceeab3",
      "metadata": {
        "id": "88ceeab3"
      },
      "source": [
        "### Training Loop"
      ]
    },
    {
      "cell_type": "code",
      "execution_count": null,
      "id": "c945ab1f",
      "metadata": {
        "colab": {
          "base_uri": "https://localhost:8080/"
        },
        "id": "c945ab1f",
        "outputId": "e0966adf-2e68-4345-d22a-8bd468b73a3b"
      },
      "outputs": [
        {
          "name": "stdout",
          "output_type": "stream",
          "text": [
            "Epoch: 0 \t Train loss: 33123.766 \t Val loss: 33219.457 \t Train AUC: 0.503 \t Val AUC: 0.504\n",
            "Epoch: 1 \t Train loss: 20347.723 \t Val loss: 20548.342 \t Train AUC: 0.503 \t Val AUC: 0.497\n",
            "Epoch: 2 \t Train loss: 8098.607 \t Val loss: 8140.381 \t Train AUC: 0.527 \t Val AUC: 0.514\n",
            "Epoch: 3 \t Train loss: 3566.182 \t Val loss: 3519.181 \t Train AUC: 0.537 \t Val AUC: 0.535\n",
            "Epoch: 4 \t Train loss: 1930.746 \t Val loss: 1926.229 \t Train AUC: 0.519 \t Val AUC: 0.53\n",
            "Epoch: 5 \t Train loss: 968.919 \t Val loss: 954.042 \t Train AUC: 0.51 \t Val AUC: 0.538\n",
            "Epoch: 6 \t Train loss: 626.731 \t Val loss: 630.318 \t Train AUC: 0.505 \t Val AUC: 0.531\n",
            "Epoch: 7 \t Train loss: 599.521 \t Val loss: 590.305 \t Train AUC: 0.484 \t Val AUC: 0.529\n",
            "Epoch: 8 \t Train loss: 394.234 \t Val loss: 392.505 \t Train AUC: 0.486 \t Val AUC: 0.53\n",
            "Epoch: 9 \t Train loss: 296.613 \t Val loss: 288.698 \t Train AUC: 0.466 \t Val AUC: 0.511\n",
            "Epoch: 10 \t Train loss: 531.264 \t Val loss: 521.627 \t Train AUC: 0.424 \t Val AUC: 0.462\n",
            "Epoch: 11 \t Train loss: 296.609 \t Val loss: 297.209 \t Train AUC: 0.441 \t Val AUC: 0.474\n",
            "Epoch: 12 \t Train loss: 148.715 \t Val loss: 147.705 \t Train AUC: 0.519 \t Val AUC: 0.556\n",
            "Epoch: 13 \t Train loss: 194.03 \t Val loss: 195.557 \t Train AUC: 0.496 \t Val AUC: 0.525\n",
            "Epoch: 14 \t Train loss: 226.072 \t Val loss: 226.543 \t Train AUC: 0.48 \t Val AUC: 0.522\n",
            "Epoch: 15 \t Train loss: 199.213 \t Val loss: 198.853 \t Train AUC: 0.467 \t Val AUC: 0.505\n",
            "Epoch: 16 \t Train loss: 140.089 \t Val loss: 137.977 \t Train AUC: 0.433 \t Val AUC: 0.479\n",
            "Epoch: 17 \t Train loss: 110.453 \t Val loss: 108.759 \t Train AUC: 0.406 \t Val AUC: 0.442\n",
            "Epoch: 18 \t Train loss: 122.856 \t Val loss: 119.921 \t Train AUC: 0.425 \t Val AUC: 0.463\n",
            "Epoch: 19 \t Train loss: 95.39 \t Val loss: 94.757 \t Train AUC: 0.418 \t Val AUC: 0.454\n",
            "Epoch: 20 \t Train loss: 62.477 \t Val loss: 61.371 \t Train AUC: 0.441 \t Val AUC: 0.49\n",
            "Epoch: 21 \t Train loss: 61.857 \t Val loss: 61.412 \t Train AUC: 0.437 \t Val AUC: 0.466\n",
            "Epoch: 22 \t Train loss: 79.75 \t Val loss: 79.387 \t Train AUC: 0.42 \t Val AUC: 0.464\n",
            "Epoch: 23 \t Train loss: 77.153 \t Val loss: 76.803 \t Train AUC: 0.428 \t Val AUC: 0.458\n",
            "Epoch: 24 \t Train loss: 51.382 \t Val loss: 50.242 \t Train AUC: 0.45 \t Val AUC: 0.487\n",
            "Epoch: 25 \t Train loss: 31.267 \t Val loss: 30.757 \t Train AUC: 0.46 \t Val AUC: 0.477\n",
            "Epoch: 26 \t Train loss: 27.433 \t Val loss: 26.064 \t Train AUC: 0.418 \t Val AUC: 0.436\n",
            "Epoch: 27 \t Train loss: 31.51 \t Val loss: 30.338 \t Train AUC: 0.417 \t Val AUC: 0.436\n",
            "Epoch: 28 \t Train loss: 33.061 \t Val loss: 32.068 \t Train AUC: 0.397 \t Val AUC: 0.417\n",
            "Epoch: 29 \t Train loss: 29.92 \t Val loss: 29.289 \t Train AUC: 0.42 \t Val AUC: 0.443\n",
            "Epoch: 30 \t Train loss: 25.934 \t Val loss: 25.295 \t Train AUC: 0.423 \t Val AUC: 0.442\n",
            "Epoch: 31 \t Train loss: 26.298 \t Val loss: 25.434 \t Train AUC: 0.424 \t Val AUC: 0.447\n",
            "Epoch: 32 \t Train loss: 27.832 \t Val loss: 27.074 \t Train AUC: 0.425 \t Val AUC: 0.445\n",
            "Epoch: 33 \t Train loss: 25.165 \t Val loss: 24.912 \t Train AUC: 0.454 \t Val AUC: 0.471\n",
            "Epoch: 34 \t Train loss: 18.115 \t Val loss: 17.57 \t Train AUC: 0.464 \t Val AUC: 0.489\n",
            "Epoch: 35 \t Train loss: 13.543 \t Val loss: 12.673 \t Train AUC: 0.481 \t Val AUC: 0.498\n",
            "Epoch: 36 \t Train loss: 10.789 \t Val loss: 10.141 \t Train AUC: 0.481 \t Val AUC: 0.516\n",
            "Epoch: 37 \t Train loss: 10.323 \t Val loss: 9.895 \t Train AUC: 0.467 \t Val AUC: 0.503\n",
            "Epoch: 38 \t Train loss: 11.313 \t Val loss: 10.748 \t Train AUC: 0.474 \t Val AUC: 0.514\n",
            "Epoch: 39 \t Train loss: 13.159 \t Val loss: 12.232 \t Train AUC: 0.469 \t Val AUC: 0.504\n",
            "Epoch: 40 \t Train loss: 13.982 \t Val loss: 13.024 \t Train AUC: 0.465 \t Val AUC: 0.487\n",
            "Epoch: 41 \t Train loss: 14.174 \t Val loss: 13.875 \t Train AUC: 0.458 \t Val AUC: 0.48\n",
            "Epoch: 42 \t Train loss: 13.822 \t Val loss: 12.869 \t Train AUC: 0.446 \t Val AUC: 0.469\n",
            "Epoch: 43 \t Train loss: 12.432 \t Val loss: 12.18 \t Train AUC: 0.45 \t Val AUC: 0.469\n",
            "Epoch: 44 \t Train loss: 11.342 \t Val loss: 10.483 \t Train AUC: 0.478 \t Val AUC: 0.504\n",
            "Epoch: 45 \t Train loss: 9.706 \t Val loss: 9.218 \t Train AUC: 0.495 \t Val AUC: 0.525\n",
            "Epoch: 46 \t Train loss: 8.542 \t Val loss: 8.159 \t Train AUC: 0.502 \t Val AUC: 0.548\n",
            "Epoch: 47 \t Train loss: 7.926 \t Val loss: 7.326 \t Train AUC: 0.517 \t Val AUC: 0.572\n",
            "Epoch: 48 \t Train loss: 7.202 \t Val loss: 7.131 \t Train AUC: 0.495 \t Val AUC: 0.551\n",
            "Epoch: 49 \t Train loss: 7.111 \t Val loss: 6.634 \t Train AUC: 0.5 \t Val AUC: 0.561\n",
            "Epoch: 50 \t Train loss: 6.946 \t Val loss: 6.927 \t Train AUC: 0.497 \t Val AUC: 0.559\n",
            "Epoch: 51 \t Train loss: 6.685 \t Val loss: 6.727 \t Train AUC: 0.502 \t Val AUC: 0.562\n",
            "Epoch: 52 \t Train loss: 7.184 \t Val loss: 6.444 \t Train AUC: 0.527 \t Val AUC: 0.586\n",
            "Epoch: 53 \t Train loss: 6.232 \t Val loss: 6.314 \t Train AUC: 0.498 \t Val AUC: 0.558\n",
            "Epoch: 54 \t Train loss: 6.528 \t Val loss: 6.197 \t Train AUC: 0.514 \t Val AUC: 0.566\n",
            "Epoch: 55 \t Train loss: 6.237 \t Val loss: 6.018 \t Train AUC: 0.506 \t Val AUC: 0.553\n",
            "Epoch: 56 \t Train loss: 6.168 \t Val loss: 5.652 \t Train AUC: 0.511 \t Val AUC: 0.555\n",
            "Epoch: 57 \t Train loss: 6.2 \t Val loss: 5.696 \t Train AUC: 0.509 \t Val AUC: 0.558\n",
            "Epoch: 58 \t Train loss: 6.151 \t Val loss: 5.866 \t Train AUC: 0.521 \t Val AUC: 0.568\n",
            "Epoch: 59 \t Train loss: 5.593 \t Val loss: 5.468 \t Train AUC: 0.518 \t Val AUC: 0.56\n",
            "Epoch: 60 \t Train loss: 5.782 \t Val loss: 5.271 \t Train AUC: 0.516 \t Val AUC: 0.558\n",
            "Epoch: 61 \t Train loss: 5.517 \t Val loss: 5.118 \t Train AUC: 0.512 \t Val AUC: 0.552\n",
            "Epoch: 62 \t Train loss: 5.497 \t Val loss: 5.083 \t Train AUC: 0.507 \t Val AUC: 0.555\n",
            "Epoch: 63 \t Train loss: 5.281 \t Val loss: 4.719 \t Train AUC: 0.51 \t Val AUC: 0.557\n",
            "Epoch: 64 \t Train loss: 5.221 \t Val loss: 4.939 \t Train AUC: 0.512 \t Val AUC: 0.559\n",
            "Epoch: 65 \t Train loss: 4.653 \t Val loss: 4.535 \t Train AUC: 0.514 \t Val AUC: 0.562\n",
            "Epoch: 66 \t Train loss: 4.604 \t Val loss: 4.066 \t Train AUC: 0.507 \t Val AUC: 0.556\n",
            "Epoch: 67 \t Train loss: 4.335 \t Val loss: 3.875 \t Train AUC: 0.514 \t Val AUC: 0.562\n",
            "Epoch: 68 \t Train loss: 4.27 \t Val loss: 3.856 \t Train AUC: 0.523 \t Val AUC: 0.575\n",
            "Epoch: 69 \t Train loss: 3.999 \t Val loss: 3.935 \t Train AUC: 0.511 \t Val AUC: 0.554\n",
            "Epoch: 70 \t Train loss: 3.991 \t Val loss: 3.706 \t Train AUC: 0.526 \t Val AUC: 0.574\n",
            "Epoch: 71 \t Train loss: 4.02 \t Val loss: 3.754 \t Train AUC: 0.516 \t Val AUC: 0.568\n",
            "Epoch: 72 \t Train loss: 3.96 \t Val loss: 3.596 \t Train AUC: 0.516 \t Val AUC: 0.572\n",
            "Epoch: 73 \t Train loss: 3.877 \t Val loss: 3.402 \t Train AUC: 0.528 \t Val AUC: 0.583\n",
            "Epoch: 74 \t Train loss: 3.799 \t Val loss: 3.444 \t Train AUC: 0.535 \t Val AUC: 0.59\n",
            "Epoch: 75 \t Train loss: 3.703 \t Val loss: 3.761 \t Train AUC: 0.535 \t Val AUC: 0.59\n",
            "Epoch: 76 \t Train loss: 3.729 \t Val loss: 3.806 \t Train AUC: 0.543 \t Val AUC: 0.605\n",
            "Epoch: 77 \t Train loss: 3.349 \t Val loss: 3.22 \t Train AUC: 0.521 \t Val AUC: 0.576\n",
            "Epoch: 78 \t Train loss: 3.476 \t Val loss: 3.2 \t Train AUC: 0.534 \t Val AUC: 0.592\n",
            "Epoch: 79 \t Train loss: 3.359 \t Val loss: 3.173 \t Train AUC: 0.53 \t Val AUC: 0.588\n",
            "Epoch: 80 \t Train loss: 3.391 \t Val loss: 3.048 \t Train AUC: 0.536 \t Val AUC: 0.588\n",
            "Epoch: 81 \t Train loss: 3.271 \t Val loss: 3.053 \t Train AUC: 0.527 \t Val AUC: 0.581\n",
            "Epoch: 82 \t Train loss: 3.166 \t Val loss: 2.97 \t Train AUC: 0.534 \t Val AUC: 0.589\n",
            "Epoch: 83 \t Train loss: 3.135 \t Val loss: 3.11 \t Train AUC: 0.54 \t Val AUC: 0.6\n",
            "Epoch: 84 \t Train loss: 3.105 \t Val loss: 2.855 \t Train AUC: 0.541 \t Val AUC: 0.596\n",
            "Epoch: 85 \t Train loss: 3.055 \t Val loss: 3.044 \t Train AUC: 0.532 \t Val AUC: 0.589\n",
            "Epoch: 86 \t Train loss: 3.063 \t Val loss: 2.935 \t Train AUC: 0.53 \t Val AUC: 0.583\n",
            "Epoch: 87 \t Train loss: 2.91 \t Val loss: 2.818 \t Train AUC: 0.528 \t Val AUC: 0.584\n",
            "Epoch: 88 \t Train loss: 2.928 \t Val loss: 2.946 \t Train AUC: 0.541 \t Val AUC: 0.594\n",
            "Epoch: 89 \t Train loss: 2.961 \t Val loss: 2.888 \t Train AUC: 0.538 \t Val AUC: 0.594\n",
            "Epoch: 90 \t Train loss: 2.754 \t Val loss: 2.448 \t Train AUC: 0.531 \t Val AUC: 0.586\n",
            "Epoch: 91 \t Train loss: 2.734 \t Val loss: 2.586 \t Train AUC: 0.548 \t Val AUC: 0.603\n",
            "Epoch: 92 \t Train loss: 2.759 \t Val loss: 2.627 \t Train AUC: 0.535 \t Val AUC: 0.585\n",
            "Epoch: 93 \t Train loss: 2.796 \t Val loss: 2.716 \t Train AUC: 0.55 \t Val AUC: 0.605\n",
            "Epoch: 94 \t Train loss: 2.74 \t Val loss: 2.673 \t Train AUC: 0.544 \t Val AUC: 0.603\n",
            "Epoch: 95 \t Train loss: 2.633 \t Val loss: 2.461 \t Train AUC: 0.545 \t Val AUC: 0.596\n",
            "Epoch: 96 \t Train loss: 2.619 \t Val loss: 2.458 \t Train AUC: 0.546 \t Val AUC: 0.598\n",
            "Epoch: 97 \t Train loss: 2.673 \t Val loss: 2.311 \t Train AUC: 0.551 \t Val AUC: 0.606\n",
            "Epoch: 98 \t Train loss: 2.471 \t Val loss: 2.196 \t Train AUC: 0.534 \t Val AUC: 0.589\n",
            "Epoch: 99 \t Train loss: 2.477 \t Val loss: 2.316 \t Train AUC: 0.536 \t Val AUC: 0.586\n",
            "Epoch: 100 \t Train loss: 2.496 \t Val loss: 2.326 \t Train AUC: 0.53 \t Val AUC: 0.585\n",
            "Epoch: 101 \t Train loss: 2.49 \t Val loss: 2.256 \t Train AUC: 0.555 \t Val AUC: 0.613\n",
            "Epoch: 102 \t Train loss: 2.414 \t Val loss: 2.302 \t Train AUC: 0.543 \t Val AUC: 0.605\n",
            "Epoch: 103 \t Train loss: 2.339 \t Val loss: 2.138 \t Train AUC: 0.55 \t Val AUC: 0.604\n",
            "Epoch: 104 \t Train loss: 2.288 \t Val loss: 2.209 \t Train AUC: 0.539 \t Val AUC: 0.597\n",
            "Epoch: 105 \t Train loss: 2.392 \t Val loss: 2.101 \t Train AUC: 0.549 \t Val AUC: 0.608\n",
            "Epoch: 106 \t Train loss: 2.345 \t Val loss: 2.311 \t Train AUC: 0.552 \t Val AUC: 0.606\n",
            "Epoch: 107 \t Train loss: 2.294 \t Val loss: 2.255 \t Train AUC: 0.548 \t Val AUC: 0.605\n",
            "Epoch: 108 \t Train loss: 2.375 \t Val loss: 2.319 \t Train AUC: 0.558 \t Val AUC: 0.614\n",
            "Epoch: 109 \t Train loss: 2.207 \t Val loss: 2.059 \t Train AUC: 0.55 \t Val AUC: 0.606\n",
            "Epoch: 110 \t Train loss: 2.203 \t Val loss: 1.969 \t Train AUC: 0.541 \t Val AUC: 0.6\n",
            "Epoch: 111 \t Train loss: 2.208 \t Val loss: 2.169 \t Train AUC: 0.56 \t Val AUC: 0.619\n",
            "Epoch: 112 \t Train loss: 2.094 \t Val loss: 2.091 \t Train AUC: 0.555 \t Val AUC: 0.612\n",
            "Epoch: 113 \t Train loss: 2.135 \t Val loss: 2.044 \t Train AUC: 0.543 \t Val AUC: 0.594\n",
            "Epoch: 114 \t Train loss: 2.094 \t Val loss: 2.089 \t Train AUC: 0.552 \t Val AUC: 0.606\n",
            "Epoch: 115 \t Train loss: 2.106 \t Val loss: 1.939 \t Train AUC: 0.558 \t Val AUC: 0.61\n",
            "Epoch: 116 \t Train loss: 2.069 \t Val loss: 2.002 \t Train AUC: 0.543 \t Val AUC: 0.596\n",
            "Epoch: 117 \t Train loss: 1.992 \t Val loss: 1.99 \t Train AUC: 0.544 \t Val AUC: 0.598\n",
            "Epoch: 118 \t Train loss: 2.016 \t Val loss: 1.993 \t Train AUC: 0.554 \t Val AUC: 0.61\n",
            "Epoch: 119 \t Train loss: 2.024 \t Val loss: 1.893 \t Train AUC: 0.551 \t Val AUC: 0.605\n",
            "Epoch: 120 \t Train loss: 1.928 \t Val loss: 1.835 \t Train AUC: 0.543 \t Val AUC: 0.601\n",
            "Epoch: 121 \t Train loss: 1.905 \t Val loss: 1.798 \t Train AUC: 0.563 \t Val AUC: 0.615\n",
            "Epoch: 122 \t Train loss: 1.896 \t Val loss: 1.786 \t Train AUC: 0.547 \t Val AUC: 0.603\n",
            "Epoch: 123 \t Train loss: 1.903 \t Val loss: 1.767 \t Train AUC: 0.565 \t Val AUC: 0.625\n",
            "Epoch: 124 \t Train loss: 1.98 \t Val loss: 1.757 \t Train AUC: 0.557 \t Val AUC: 0.617\n",
            "Epoch: 125 \t Train loss: 1.897 \t Val loss: 1.702 \t Train AUC: 0.568 \t Val AUC: 0.623\n",
            "Epoch: 126 \t Train loss: 1.888 \t Val loss: 1.75 \t Train AUC: 0.546 \t Val AUC: 0.605\n",
            "Epoch: 127 \t Train loss: 1.824 \t Val loss: 1.769 \t Train AUC: 0.558 \t Val AUC: 0.613\n",
            "Epoch: 128 \t Train loss: 1.827 \t Val loss: 1.738 \t Train AUC: 0.565 \t Val AUC: 0.621\n",
            "Epoch: 129 \t Train loss: 1.809 \t Val loss: 1.654 \t Train AUC: 0.562 \t Val AUC: 0.62\n",
            "Epoch: 130 \t Train loss: 1.767 \t Val loss: 1.722 \t Train AUC: 0.56 \t Val AUC: 0.613\n",
            "Epoch: 131 \t Train loss: 1.778 \t Val loss: 1.682 \t Train AUC: 0.565 \t Val AUC: 0.622\n",
            "Epoch: 132 \t Train loss: 1.814 \t Val loss: 1.696 \t Train AUC: 0.558 \t Val AUC: 0.616\n",
            "Epoch: 133 \t Train loss: 1.75 \t Val loss: 1.67 \t Train AUC: 0.555 \t Val AUC: 0.614\n",
            "Epoch: 134 \t Train loss: 1.724 \t Val loss: 1.749 \t Train AUC: 0.569 \t Val AUC: 0.618\n",
            "Epoch: 135 \t Train loss: 1.725 \t Val loss: 1.733 \t Train AUC: 0.564 \t Val AUC: 0.619\n",
            "Epoch: 136 \t Train loss: 1.676 \t Val loss: 1.681 \t Train AUC: 0.564 \t Val AUC: 0.611\n",
            "Epoch: 137 \t Train loss: 1.663 \t Val loss: 1.555 \t Train AUC: 0.562 \t Val AUC: 0.615\n",
            "Epoch: 138 \t Train loss: 1.702 \t Val loss: 1.576 \t Train AUC: 0.571 \t Val AUC: 0.626\n",
            "Epoch: 139 \t Train loss: 1.68 \t Val loss: 1.558 \t Train AUC: 0.564 \t Val AUC: 0.62\n",
            "Epoch: 140 \t Train loss: 1.592 \t Val loss: 1.535 \t Train AUC: 0.573 \t Val AUC: 0.628\n",
            "Epoch: 141 \t Train loss: 1.647 \t Val loss: 1.542 \t Train AUC: 0.566 \t Val AUC: 0.619\n",
            "Epoch: 142 \t Train loss: 1.639 \t Val loss: 1.562 \t Train AUC: 0.566 \t Val AUC: 0.619\n",
            "Epoch: 143 \t Train loss: 1.549 \t Val loss: 1.437 \t Train AUC: 0.571 \t Val AUC: 0.626\n",
            "Epoch: 144 \t Train loss: 1.538 \t Val loss: 1.431 \t Train AUC: 0.567 \t Val AUC: 0.617\n",
            "Epoch: 145 \t Train loss: 1.549 \t Val loss: 1.478 \t Train AUC: 0.56 \t Val AUC: 0.617\n",
            "Epoch: 146 \t Train loss: 1.559 \t Val loss: 1.465 \t Train AUC: 0.564 \t Val AUC: 0.617\n",
            "Epoch: 147 \t Train loss: 1.523 \t Val loss: 1.415 \t Train AUC: 0.57 \t Val AUC: 0.628\n",
            "Epoch: 148 \t Train loss: 1.534 \t Val loss: 1.544 \t Train AUC: 0.556 \t Val AUC: 0.609\n",
            "Epoch: 149 \t Train loss: 1.511 \t Val loss: 1.432 \t Train AUC: 0.571 \t Val AUC: 0.627\n",
            "Epoch: 150 \t Train loss: 1.505 \t Val loss: 1.435 \t Train AUC: 0.576 \t Val AUC: 0.631\n",
            "Epoch: 151 \t Train loss: 1.499 \t Val loss: 1.389 \t Train AUC: 0.562 \t Val AUC: 0.618\n",
            "Epoch: 152 \t Train loss: 1.476 \t Val loss: 1.362 \t Train AUC: 0.57 \t Val AUC: 0.631\n",
            "Epoch: 153 \t Train loss: 1.476 \t Val loss: 1.431 \t Train AUC: 0.582 \t Val AUC: 0.641\n",
            "Epoch: 154 \t Train loss: 1.461 \t Val loss: 1.407 \t Train AUC: 0.573 \t Val AUC: 0.63\n",
            "Epoch: 155 \t Train loss: 1.41 \t Val loss: 1.403 \t Train AUC: 0.578 \t Val AUC: 0.628\n",
            "Epoch: 156 \t Train loss: 1.456 \t Val loss: 1.356 \t Train AUC: 0.572 \t Val AUC: 0.625\n",
            "Epoch: 157 \t Train loss: 1.45 \t Val loss: 1.369 \t Train AUC: 0.579 \t Val AUC: 0.639\n",
            "Epoch: 158 \t Train loss: 1.394 \t Val loss: 1.316 \t Train AUC: 0.581 \t Val AUC: 0.631\n",
            "Epoch: 159 \t Train loss: 1.414 \t Val loss: 1.345 \t Train AUC: 0.579 \t Val AUC: 0.63\n",
            "Epoch: 160 \t Train loss: 1.415 \t Val loss: 1.336 \t Train AUC: 0.578 \t Val AUC: 0.637\n",
            "Epoch: 161 \t Train loss: 1.388 \t Val loss: 1.35 \t Train AUC: 0.571 \t Val AUC: 0.626\n",
            "Epoch: 162 \t Train loss: 1.368 \t Val loss: 1.288 \t Train AUC: 0.574 \t Val AUC: 0.632\n",
            "Epoch: 163 \t Train loss: 1.373 \t Val loss: 1.289 \t Train AUC: 0.584 \t Val AUC: 0.641\n",
            "Epoch: 164 \t Train loss: 1.372 \t Val loss: 1.317 \t Train AUC: 0.576 \t Val AUC: 0.633\n",
            "Epoch: 165 \t Train loss: 1.336 \t Val loss: 1.264 \t Train AUC: 0.572 \t Val AUC: 0.627\n",
            "Epoch: 166 \t Train loss: 1.323 \t Val loss: 1.297 \t Train AUC: 0.578 \t Val AUC: 0.628\n",
            "Epoch: 167 \t Train loss: 1.339 \t Val loss: 1.242 \t Train AUC: 0.587 \t Val AUC: 0.643\n",
            "Epoch: 168 \t Train loss: 1.315 \t Val loss: 1.211 \t Train AUC: 0.588 \t Val AUC: 0.644\n",
            "Epoch: 169 \t Train loss: 1.308 \t Val loss: 1.237 \t Train AUC: 0.571 \t Val AUC: 0.625\n",
            "Epoch: 170 \t Train loss: 1.294 \t Val loss: 1.218 \t Train AUC: 0.572 \t Val AUC: 0.63\n",
            "Epoch: 171 \t Train loss: 1.287 \t Val loss: 1.231 \t Train AUC: 0.583 \t Val AUC: 0.634\n",
            "Epoch: 172 \t Train loss: 1.3 \t Val loss: 1.276 \t Train AUC: 0.58 \t Val AUC: 0.637\n",
            "Epoch: 173 \t Train loss: 1.271 \t Val loss: 1.205 \t Train AUC: 0.581 \t Val AUC: 0.629\n",
            "Epoch: 174 \t Train loss: 1.287 \t Val loss: 1.234 \t Train AUC: 0.573 \t Val AUC: 0.629\n",
            "Epoch: 175 \t Train loss: 1.25 \t Val loss: 1.179 \t Train AUC: 0.589 \t Val AUC: 0.647\n",
            "Epoch: 176 \t Train loss: 1.23 \t Val loss: 1.184 \t Train AUC: 0.585 \t Val AUC: 0.639\n",
            "Epoch: 177 \t Train loss: 1.252 \t Val loss: 1.173 \t Train AUC: 0.587 \t Val AUC: 0.643\n",
            "Epoch: 178 \t Train loss: 1.227 \t Val loss: 1.173 \t Train AUC: 0.589 \t Val AUC: 0.648\n",
            "Epoch: 179 \t Train loss: 1.226 \t Val loss: 1.18 \t Train AUC: 0.59 \t Val AUC: 0.643\n",
            "Epoch: 180 \t Train loss: 1.256 \t Val loss: 1.193 \t Train AUC: 0.573 \t Val AUC: 0.637\n",
            "Epoch: 181 \t Train loss: 1.22 \t Val loss: 1.16 \t Train AUC: 0.589 \t Val AUC: 0.645\n",
            "Epoch: 182 \t Train loss: 1.185 \t Val loss: 1.119 \t Train AUC: 0.595 \t Val AUC: 0.651\n",
            "Epoch: 183 \t Train loss: 1.228 \t Val loss: 1.166 \t Train AUC: 0.576 \t Val AUC: 0.636\n",
            "Epoch: 184 \t Train loss: 1.177 \t Val loss: 1.151 \t Train AUC: 0.592 \t Val AUC: 0.649\n",
            "Epoch: 185 \t Train loss: 1.211 \t Val loss: 1.122 \t Train AUC: 0.589 \t Val AUC: 0.648\n",
            "Epoch: 186 \t Train loss: 1.183 \t Val loss: 1.131 \t Train AUC: 0.589 \t Val AUC: 0.651\n",
            "Epoch: 187 \t Train loss: 1.178 \t Val loss: 1.119 \t Train AUC: 0.588 \t Val AUC: 0.649\n",
            "Epoch: 188 \t Train loss: 1.171 \t Val loss: 1.124 \t Train AUC: 0.591 \t Val AUC: 0.645\n",
            "Epoch: 189 \t Train loss: 1.177 \t Val loss: 1.09 \t Train AUC: 0.585 \t Val AUC: 0.643\n",
            "Epoch: 190 \t Train loss: 1.167 \t Val loss: 1.108 \t Train AUC: 0.594 \t Val AUC: 0.651\n",
            "Epoch: 191 \t Train loss: 1.184 \t Val loss: 1.123 \t Train AUC: 0.59 \t Val AUC: 0.648\n",
            "Epoch: 192 \t Train loss: 1.169 \t Val loss: 1.082 \t Train AUC: 0.594 \t Val AUC: 0.652\n",
            "Epoch: 193 \t Train loss: 1.143 \t Val loss: 1.121 \t Train AUC: 0.592 \t Val AUC: 0.648\n",
            "Epoch: 194 \t Train loss: 1.124 \t Val loss: 1.083 \t Train AUC: 0.591 \t Val AUC: 0.647\n",
            "Epoch: 195 \t Train loss: 1.124 \t Val loss: 1.096 \t Train AUC: 0.594 \t Val AUC: 0.651\n",
            "Epoch: 196 \t Train loss: 1.14 \t Val loss: 1.09 \t Train AUC: 0.585 \t Val AUC: 0.641\n",
            "Epoch: 197 \t Train loss: 1.134 \t Val loss: 1.062 \t Train AUC: 0.595 \t Val AUC: 0.649\n",
            "Epoch: 198 \t Train loss: 1.109 \t Val loss: 1.043 \t Train AUC: 0.595 \t Val AUC: 0.653\n",
            "Epoch: 199 \t Train loss: 1.116 \t Val loss: 1.056 \t Train AUC: 0.594 \t Val AUC: 0.651\n",
            "Epoch: 200 \t Train loss: 1.091 \t Val loss: 1.043 \t Train AUC: 0.592 \t Val AUC: 0.654\n",
            "Epoch: 201 \t Train loss: 1.101 \t Val loss: 1.049 \t Train AUC: 0.596 \t Val AUC: 0.651\n",
            "Epoch: 202 \t Train loss: 1.111 \t Val loss: 1.07 \t Train AUC: 0.596 \t Val AUC: 0.654\n",
            "Epoch: 203 \t Train loss: 1.105 \t Val loss: 1.057 \t Train AUC: 0.597 \t Val AUC: 0.656\n",
            "Epoch: 204 \t Train loss: 1.1 \t Val loss: 1.067 \t Train AUC: 0.597 \t Val AUC: 0.65\n",
            "Epoch: 205 \t Train loss: 1.093 \t Val loss: 1.046 \t Train AUC: 0.598 \t Val AUC: 0.655\n",
            "Epoch: 206 \t Train loss: 1.085 \t Val loss: 1.025 \t Train AUC: 0.591 \t Val AUC: 0.649\n",
            "Epoch: 207 \t Train loss: 1.08 \t Val loss: 1.059 \t Train AUC: 0.594 \t Val AUC: 0.654\n",
            "Epoch: 208 \t Train loss: 1.07 \t Val loss: 1.007 \t Train AUC: 0.607 \t Val AUC: 0.668\n",
            "Epoch: 209 \t Train loss: 1.066 \t Val loss: 1.035 \t Train AUC: 0.601 \t Val AUC: 0.655\n",
            "Epoch: 210 \t Train loss: 1.045 \t Val loss: 1.009 \t Train AUC: 0.601 \t Val AUC: 0.659\n",
            "Epoch: 211 \t Train loss: 1.056 \t Val loss: 0.991 \t Train AUC: 0.609 \t Val AUC: 0.664\n",
            "Epoch: 212 \t Train loss: 1.063 \t Val loss: 1.046 \t Train AUC: 0.605 \t Val AUC: 0.657\n",
            "Epoch: 213 \t Train loss: 1.042 \t Val loss: 1.01 \t Train AUC: 0.6 \t Val AUC: 0.654\n",
            "Epoch: 214 \t Train loss: 1.047 \t Val loss: 1.047 \t Train AUC: 0.603 \t Val AUC: 0.656\n",
            "Epoch: 215 \t Train loss: 1.051 \t Val loss: 1.013 \t Train AUC: 0.604 \t Val AUC: 0.661\n",
            "Epoch: 216 \t Train loss: 1.043 \t Val loss: 1.001 \t Train AUC: 0.605 \t Val AUC: 0.662\n",
            "Epoch: 217 \t Train loss: 1.048 \t Val loss: 1.009 \t Train AUC: 0.601 \t Val AUC: 0.656\n",
            "Epoch: 218 \t Train loss: 1.033 \t Val loss: 0.983 \t Train AUC: 0.604 \t Val AUC: 0.659\n",
            "Epoch: 219 \t Train loss: 1.028 \t Val loss: 0.983 \t Train AUC: 0.613 \t Val AUC: 0.669\n",
            "Epoch: 220 \t Train loss: 1.031 \t Val loss: 0.972 \t Train AUC: 0.606 \t Val AUC: 0.663\n",
            "Epoch: 221 \t Train loss: 1.023 \t Val loss: 0.959 \t Train AUC: 0.606 \t Val AUC: 0.665\n",
            "Epoch: 222 \t Train loss: 1.027 \t Val loss: 0.939 \t Train AUC: 0.609 \t Val AUC: 0.67\n",
            "Epoch: 223 \t Train loss: 1.011 \t Val loss: 0.965 \t Train AUC: 0.611 \t Val AUC: 0.669\n",
            "Epoch: 224 \t Train loss: 1.011 \t Val loss: 0.977 \t Train AUC: 0.607 \t Val AUC: 0.663\n",
            "Epoch: 225 \t Train loss: 1.002 \t Val loss: 0.985 \t Train AUC: 0.608 \t Val AUC: 0.66\n",
            "Epoch: 226 \t Train loss: 0.995 \t Val loss: 0.926 \t Train AUC: 0.612 \t Val AUC: 0.669\n",
            "Epoch: 227 \t Train loss: 1.005 \t Val loss: 0.943 \t Train AUC: 0.608 \t Val AUC: 0.66\n",
            "Epoch: 228 \t Train loss: 0.982 \t Val loss: 0.942 \t Train AUC: 0.615 \t Val AUC: 0.672\n",
            "Epoch: 229 \t Train loss: 1.004 \t Val loss: 0.945 \t Train AUC: 0.612 \t Val AUC: 0.668\n",
            "Epoch: 230 \t Train loss: 0.971 \t Val loss: 0.921 \t Train AUC: 0.617 \t Val AUC: 0.67\n",
            "Epoch: 231 \t Train loss: 1.01 \t Val loss: 0.944 \t Train AUC: 0.606 \t Val AUC: 0.665\n",
            "Epoch: 232 \t Train loss: 0.983 \t Val loss: 0.925 \t Train AUC: 0.614 \t Val AUC: 0.672\n",
            "Epoch: 233 \t Train loss: 0.989 \t Val loss: 0.926 \t Train AUC: 0.613 \t Val AUC: 0.67\n",
            "Epoch: 234 \t Train loss: 0.971 \t Val loss: 0.939 \t Train AUC: 0.613 \t Val AUC: 0.667\n",
            "Epoch: 235 \t Train loss: 0.975 \t Val loss: 0.938 \t Train AUC: 0.619 \t Val AUC: 0.678\n",
            "Epoch: 236 \t Train loss: 0.981 \t Val loss: 0.926 \t Train AUC: 0.616 \t Val AUC: 0.667\n",
            "Epoch: 237 \t Train loss: 0.959 \t Val loss: 0.909 \t Train AUC: 0.621 \t Val AUC: 0.678\n",
            "Epoch: 238 \t Train loss: 0.975 \t Val loss: 0.935 \t Train AUC: 0.618 \t Val AUC: 0.669\n",
            "Epoch: 239 \t Train loss: 0.969 \t Val loss: 0.918 \t Train AUC: 0.623 \t Val AUC: 0.683\n",
            "Epoch: 240 \t Train loss: 0.954 \t Val loss: 0.927 \t Train AUC: 0.623 \t Val AUC: 0.678\n",
            "Epoch: 241 \t Train loss: 0.958 \t Val loss: 0.902 \t Train AUC: 0.614 \t Val AUC: 0.669\n",
            "Epoch: 242 \t Train loss: 0.955 \t Val loss: 0.902 \t Train AUC: 0.629 \t Val AUC: 0.684\n",
            "Epoch: 243 \t Train loss: 0.938 \t Val loss: 0.907 \t Train AUC: 0.624 \t Val AUC: 0.68\n",
            "Epoch: 244 \t Train loss: 0.952 \t Val loss: 0.92 \t Train AUC: 0.616 \t Val AUC: 0.674\n",
            "Epoch: 245 \t Train loss: 0.938 \t Val loss: 0.902 \t Train AUC: 0.615 \t Val AUC: 0.672\n",
            "Epoch: 246 \t Train loss: 0.932 \t Val loss: 0.915 \t Train AUC: 0.628 \t Val AUC: 0.681\n",
            "Epoch: 247 \t Train loss: 0.936 \t Val loss: 0.908 \t Train AUC: 0.625 \t Val AUC: 0.677\n",
            "Epoch: 248 \t Train loss: 0.942 \t Val loss: 0.916 \t Train AUC: 0.623 \t Val AUC: 0.675\n",
            "Epoch: 249 \t Train loss: 0.943 \t Val loss: 0.915 \t Train AUC: 0.62 \t Val AUC: 0.672\n",
            "Epoch: 250 \t Train loss: 0.931 \t Val loss: 0.885 \t Train AUC: 0.624 \t Val AUC: 0.678\n",
            "Epoch: 251 \t Train loss: 0.928 \t Val loss: 0.886 \t Train AUC: 0.617 \t Val AUC: 0.674\n",
            "Epoch: 252 \t Train loss: 0.943 \t Val loss: 0.9 \t Train AUC: 0.618 \t Val AUC: 0.667\n",
            "Epoch: 253 \t Train loss: 0.936 \t Val loss: 0.904 \t Train AUC: 0.628 \t Val AUC: 0.681\n",
            "Epoch: 254 \t Train loss: 0.926 \t Val loss: 0.886 \t Train AUC: 0.625 \t Val AUC: 0.676\n",
            "Epoch: 255 \t Train loss: 0.922 \t Val loss: 0.886 \t Train AUC: 0.629 \t Val AUC: 0.683\n",
            "Epoch: 256 \t Train loss: 0.93 \t Val loss: 0.88 \t Train AUC: 0.62 \t Val AUC: 0.672\n",
            "Epoch: 257 \t Train loss: 0.925 \t Val loss: 0.887 \t Train AUC: 0.622 \t Val AUC: 0.676\n",
            "Epoch: 258 \t Train loss: 0.902 \t Val loss: 0.873 \t Train AUC: 0.629 \t Val AUC: 0.682\n",
            "Epoch: 259 \t Train loss: 0.914 \t Val loss: 0.874 \t Train AUC: 0.628 \t Val AUC: 0.681\n",
            "Epoch: 260 \t Train loss: 0.917 \t Val loss: 0.884 \t Train AUC: 0.624 \t Val AUC: 0.676\n",
            "Epoch: 261 \t Train loss: 0.913 \t Val loss: 0.866 \t Train AUC: 0.64 \t Val AUC: 0.694\n",
            "Epoch: 262 \t Train loss: 0.913 \t Val loss: 0.873 \t Train AUC: 0.631 \t Val AUC: 0.684\n",
            "Epoch: 263 \t Train loss: 0.898 \t Val loss: 0.865 \t Train AUC: 0.642 \t Val AUC: 0.694\n",
            "Epoch: 264 \t Train loss: 0.898 \t Val loss: 0.845 \t Train AUC: 0.627 \t Val AUC: 0.682\n",
            "Epoch: 265 \t Train loss: 0.9 \t Val loss: 0.858 \t Train AUC: 0.634 \t Val AUC: 0.686\n",
            "Epoch: 266 \t Train loss: 0.911 \t Val loss: 0.892 \t Train AUC: 0.623 \t Val AUC: 0.671\n",
            "Epoch: 267 \t Train loss: 0.901 \t Val loss: 0.877 \t Train AUC: 0.63 \t Val AUC: 0.683\n",
            "Epoch: 268 \t Train loss: 0.896 \t Val loss: 0.862 \t Train AUC: 0.623 \t Val AUC: 0.68\n",
            "Epoch: 269 \t Train loss: 0.879 \t Val loss: 0.845 \t Train AUC: 0.64 \t Val AUC: 0.698\n",
            "Epoch: 270 \t Train loss: 0.902 \t Val loss: 0.876 \t Train AUC: 0.632 \t Val AUC: 0.687\n",
            "Epoch: 271 \t Train loss: 0.883 \t Val loss: 0.852 \t Train AUC: 0.643 \t Val AUC: 0.69\n",
            "Epoch: 272 \t Train loss: 0.884 \t Val loss: 0.85 \t Train AUC: 0.635 \t Val AUC: 0.684\n",
            "Epoch: 273 \t Train loss: 0.881 \t Val loss: 0.826 \t Train AUC: 0.638 \t Val AUC: 0.692\n",
            "Epoch: 274 \t Train loss: 0.88 \t Val loss: 0.835 \t Train AUC: 0.64 \t Val AUC: 0.696\n",
            "Epoch: 275 \t Train loss: 0.885 \t Val loss: 0.845 \t Train AUC: 0.638 \t Val AUC: 0.693\n",
            "Epoch: 276 \t Train loss: 0.892 \t Val loss: 0.87 \t Train AUC: 0.629 \t Val AUC: 0.68\n",
            "Epoch: 277 \t Train loss: 0.866 \t Val loss: 0.822 \t Train AUC: 0.644 \t Val AUC: 0.697\n",
            "Epoch: 278 \t Train loss: 0.88 \t Val loss: 0.846 \t Train AUC: 0.641 \t Val AUC: 0.695\n",
            "Epoch: 279 \t Train loss: 0.882 \t Val loss: 0.85 \t Train AUC: 0.635 \t Val AUC: 0.69\n",
            "Epoch: 280 \t Train loss: 0.875 \t Val loss: 0.814 \t Train AUC: 0.636 \t Val AUC: 0.691\n",
            "Epoch: 281 \t Train loss: 0.866 \t Val loss: 0.842 \t Train AUC: 0.634 \t Val AUC: 0.688\n",
            "Epoch: 282 \t Train loss: 0.859 \t Val loss: 0.812 \t Train AUC: 0.641 \t Val AUC: 0.695\n",
            "Epoch: 283 \t Train loss: 0.867 \t Val loss: 0.842 \t Train AUC: 0.645 \t Val AUC: 0.693\n",
            "Epoch: 284 \t Train loss: 0.867 \t Val loss: 0.836 \t Train AUC: 0.641 \t Val AUC: 0.692\n",
            "Epoch: 285 \t Train loss: 0.872 \t Val loss: 0.837 \t Train AUC: 0.636 \t Val AUC: 0.685\n",
            "Epoch: 286 \t Train loss: 0.872 \t Val loss: 0.836 \t Train AUC: 0.646 \t Val AUC: 0.697\n",
            "Epoch: 287 \t Train loss: 0.861 \t Val loss: 0.833 \t Train AUC: 0.649 \t Val AUC: 0.706\n",
            "Epoch: 288 \t Train loss: 0.855 \t Val loss: 0.823 \t Train AUC: 0.642 \t Val AUC: 0.688\n",
            "Epoch: 289 \t Train loss: 0.849 \t Val loss: 0.811 \t Train AUC: 0.643 \t Val AUC: 0.699\n",
            "Epoch: 290 \t Train loss: 0.86 \t Val loss: 0.829 \t Train AUC: 0.648 \t Val AUC: 0.698\n",
            "Epoch: 291 \t Train loss: 0.858 \t Val loss: 0.812 \t Train AUC: 0.65 \t Val AUC: 0.708\n",
            "Epoch: 292 \t Train loss: 0.845 \t Val loss: 0.813 \t Train AUC: 0.639 \t Val AUC: 0.69\n",
            "Epoch: 293 \t Train loss: 0.853 \t Val loss: 0.826 \t Train AUC: 0.647 \t Val AUC: 0.701\n",
            "Epoch: 294 \t Train loss: 0.851 \t Val loss: 0.817 \t Train AUC: 0.643 \t Val AUC: 0.697\n",
            "Epoch: 295 \t Train loss: 0.851 \t Val loss: 0.823 \t Train AUC: 0.648 \t Val AUC: 0.698\n",
            "Epoch: 296 \t Train loss: 0.845 \t Val loss: 0.81 \t Train AUC: 0.648 \t Val AUC: 0.701\n",
            "Epoch: 297 \t Train loss: 0.842 \t Val loss: 0.805 \t Train AUC: 0.644 \t Val AUC: 0.7\n",
            "Epoch: 298 \t Train loss: 0.85 \t Val loss: 0.814 \t Train AUC: 0.645 \t Val AUC: 0.696\n",
            "Epoch: 299 \t Train loss: 0.848 \t Val loss: 0.83 \t Train AUC: 0.646 \t Val AUC: 0.698\n",
            "Epoch: 300 \t Train loss: 0.842 \t Val loss: 0.797 \t Train AUC: 0.655 \t Val AUC: 0.706\n",
            "Epoch: 301 \t Train loss: 0.853 \t Val loss: 0.818 \t Train AUC: 0.646 \t Val AUC: 0.698\n",
            "Epoch: 302 \t Train loss: 0.838 \t Val loss: 0.802 \t Train AUC: 0.649 \t Val AUC: 0.699\n",
            "Epoch: 303 \t Train loss: 0.848 \t Val loss: 0.823 \t Train AUC: 0.647 \t Val AUC: 0.697\n",
            "Epoch: 304 \t Train loss: 0.837 \t Val loss: 0.816 \t Train AUC: 0.651 \t Val AUC: 0.705\n",
            "Epoch: 305 \t Train loss: 0.848 \t Val loss: 0.821 \t Train AUC: 0.645 \t Val AUC: 0.697\n",
            "Epoch: 306 \t Train loss: 0.831 \t Val loss: 0.791 \t Train AUC: 0.651 \t Val AUC: 0.702\n",
            "Epoch: 307 \t Train loss: 0.834 \t Val loss: 0.807 \t Train AUC: 0.648 \t Val AUC: 0.702\n",
            "Epoch: 308 \t Train loss: 0.838 \t Val loss: 0.798 \t Train AUC: 0.653 \t Val AUC: 0.701\n",
            "Epoch: 309 \t Train loss: 0.828 \t Val loss: 0.793 \t Train AUC: 0.66 \t Val AUC: 0.71\n",
            "Epoch: 310 \t Train loss: 0.832 \t Val loss: 0.811 \t Train AUC: 0.657 \t Val AUC: 0.711\n",
            "Epoch: 311 \t Train loss: 0.837 \t Val loss: 0.809 \t Train AUC: 0.65 \t Val AUC: 0.7\n",
            "Epoch: 312 \t Train loss: 0.829 \t Val loss: 0.791 \t Train AUC: 0.655 \t Val AUC: 0.707\n",
            "Epoch: 313 \t Train loss: 0.833 \t Val loss: 0.802 \t Train AUC: 0.653 \t Val AUC: 0.708\n",
            "Epoch: 314 \t Train loss: 0.824 \t Val loss: 0.791 \t Train AUC: 0.653 \t Val AUC: 0.702\n",
            "Epoch: 315 \t Train loss: 0.824 \t Val loss: 0.8 \t Train AUC: 0.656 \t Val AUC: 0.702\n",
            "Epoch: 316 \t Train loss: 0.833 \t Val loss: 0.793 \t Train AUC: 0.652 \t Val AUC: 0.703\n",
            "Epoch: 317 \t Train loss: 0.825 \t Val loss: 0.787 \t Train AUC: 0.656 \t Val AUC: 0.707\n",
            "Epoch: 318 \t Train loss: 0.828 \t Val loss: 0.799 \t Train AUC: 0.65 \t Val AUC: 0.696\n",
            "Epoch: 319 \t Train loss: 0.822 \t Val loss: 0.797 \t Train AUC: 0.658 \t Val AUC: 0.709\n",
            "Epoch: 320 \t Train loss: 0.823 \t Val loss: 0.786 \t Train AUC: 0.656 \t Val AUC: 0.708\n",
            "Epoch: 321 \t Train loss: 0.817 \t Val loss: 0.788 \t Train AUC: 0.66 \t Val AUC: 0.708\n",
            "Epoch: 322 \t Train loss: 0.816 \t Val loss: 0.783 \t Train AUC: 0.658 \t Val AUC: 0.705\n",
            "Epoch: 323 \t Train loss: 0.828 \t Val loss: 0.782 \t Train AUC: 0.66 \t Val AUC: 0.712\n",
            "Epoch: 324 \t Train loss: 0.806 \t Val loss: 0.77 \t Train AUC: 0.667 \t Val AUC: 0.711\n",
            "Epoch: 325 \t Train loss: 0.814 \t Val loss: 0.784 \t Train AUC: 0.667 \t Val AUC: 0.715\n",
            "Epoch: 326 \t Train loss: 0.821 \t Val loss: 0.78 \t Train AUC: 0.663 \t Val AUC: 0.714\n",
            "Epoch: 327 \t Train loss: 0.816 \t Val loss: 0.791 \t Train AUC: 0.66 \t Val AUC: 0.708\n",
            "Epoch: 328 \t Train loss: 0.813 \t Val loss: 0.775 \t Train AUC: 0.667 \t Val AUC: 0.718\n",
            "Epoch: 329 \t Train loss: 0.825 \t Val loss: 0.796 \t Train AUC: 0.648 \t Val AUC: 0.698\n",
            "Epoch: 330 \t Train loss: 0.805 \t Val loss: 0.767 \t Train AUC: 0.668 \t Val AUC: 0.715\n",
            "Epoch: 331 \t Train loss: 0.814 \t Val loss: 0.769 \t Train AUC: 0.667 \t Val AUC: 0.716\n",
            "Epoch: 332 \t Train loss: 0.817 \t Val loss: 0.793 \t Train AUC: 0.659 \t Val AUC: 0.71\n",
            "Epoch: 333 \t Train loss: 0.806 \t Val loss: 0.774 \t Train AUC: 0.667 \t Val AUC: 0.719\n",
            "Epoch: 334 \t Train loss: 0.805 \t Val loss: 0.772 \t Train AUC: 0.668 \t Val AUC: 0.715\n",
            "Epoch: 335 \t Train loss: 0.814 \t Val loss: 0.768 \t Train AUC: 0.662 \t Val AUC: 0.713\n",
            "Epoch: 336 \t Train loss: 0.8 \t Val loss: 0.787 \t Train AUC: 0.671 \t Val AUC: 0.717\n",
            "Epoch: 337 \t Train loss: 0.812 \t Val loss: 0.78 \t Train AUC: 0.664 \t Val AUC: 0.71\n",
            "Epoch: 338 \t Train loss: 0.805 \t Val loss: 0.776 \t Train AUC: 0.671 \t Val AUC: 0.712\n",
            "Epoch: 339 \t Train loss: 0.801 \t Val loss: 0.772 \t Train AUC: 0.67 \t Val AUC: 0.717\n",
            "Epoch: 340 \t Train loss: 0.804 \t Val loss: 0.776 \t Train AUC: 0.662 \t Val AUC: 0.71\n",
            "Epoch: 341 \t Train loss: 0.789 \t Val loss: 0.754 \t Train AUC: 0.675 \t Val AUC: 0.724\n",
            "Epoch: 342 \t Train loss: 0.8 \t Val loss: 0.774 \t Train AUC: 0.662 \t Val AUC: 0.708\n",
            "Epoch: 343 \t Train loss: 0.803 \t Val loss: 0.763 \t Train AUC: 0.667 \t Val AUC: 0.714\n",
            "Epoch: 344 \t Train loss: 0.795 \t Val loss: 0.774 \t Train AUC: 0.664 \t Val AUC: 0.715\n",
            "Epoch: 345 \t Train loss: 0.799 \t Val loss: 0.761 \t Train AUC: 0.665 \t Val AUC: 0.713\n",
            "Epoch: 346 \t Train loss: 0.806 \t Val loss: 0.778 \t Train AUC: 0.665 \t Val AUC: 0.716\n",
            "Epoch: 347 \t Train loss: 0.79 \t Val loss: 0.767 \t Train AUC: 0.664 \t Val AUC: 0.712\n",
            "Epoch: 348 \t Train loss: 0.791 \t Val loss: 0.761 \t Train AUC: 0.672 \t Val AUC: 0.721\n",
            "Epoch: 349 \t Train loss: 0.798 \t Val loss: 0.771 \t Train AUC: 0.674 \t Val AUC: 0.72\n",
            "Epoch: 350 \t Train loss: 0.789 \t Val loss: 0.754 \t Train AUC: 0.67 \t Val AUC: 0.717\n",
            "Epoch: 351 \t Train loss: 0.787 \t Val loss: 0.757 \t Train AUC: 0.674 \t Val AUC: 0.718\n",
            "Epoch: 352 \t Train loss: 0.79 \t Val loss: 0.765 \t Train AUC: 0.67 \t Val AUC: 0.715\n",
            "Epoch: 353 \t Train loss: 0.784 \t Val loss: 0.754 \t Train AUC: 0.679 \t Val AUC: 0.725\n",
            "Epoch: 354 \t Train loss: 0.787 \t Val loss: 0.749 \t Train AUC: 0.68 \t Val AUC: 0.729\n",
            "Epoch: 355 \t Train loss: 0.794 \t Val loss: 0.767 \t Train AUC: 0.665 \t Val AUC: 0.715\n",
            "Epoch: 356 \t Train loss: 0.788 \t Val loss: 0.757 \t Train AUC: 0.676 \t Val AUC: 0.718\n",
            "Epoch: 357 \t Train loss: 0.788 \t Val loss: 0.762 \t Train AUC: 0.679 \t Val AUC: 0.723\n",
            "Epoch: 358 \t Train loss: 0.783 \t Val loss: 0.753 \t Train AUC: 0.676 \t Val AUC: 0.717\n",
            "Epoch: 359 \t Train loss: 0.786 \t Val loss: 0.751 \t Train AUC: 0.676 \t Val AUC: 0.722\n",
            "Epoch: 360 \t Train loss: 0.793 \t Val loss: 0.751 \t Train AUC: 0.672 \t Val AUC: 0.719\n",
            "Epoch: 361 \t Train loss: 0.78 \t Val loss: 0.751 \t Train AUC: 0.679 \t Val AUC: 0.725\n",
            "Epoch: 362 \t Train loss: 0.774 \t Val loss: 0.747 \t Train AUC: 0.684 \t Val AUC: 0.732\n",
            "Epoch: 363 \t Train loss: 0.787 \t Val loss: 0.754 \t Train AUC: 0.677 \t Val AUC: 0.723\n",
            "Epoch: 364 \t Train loss: 0.786 \t Val loss: 0.756 \t Train AUC: 0.679 \t Val AUC: 0.726\n",
            "Epoch: 365 \t Train loss: 0.781 \t Val loss: 0.756 \t Train AUC: 0.676 \t Val AUC: 0.721\n",
            "Epoch: 366 \t Train loss: 0.793 \t Val loss: 0.762 \t Train AUC: 0.675 \t Val AUC: 0.719\n",
            "Epoch: 367 \t Train loss: 0.786 \t Val loss: 0.748 \t Train AUC: 0.677 \t Val AUC: 0.729\n",
            "Epoch: 368 \t Train loss: 0.778 \t Val loss: 0.753 \t Train AUC: 0.68 \t Val AUC: 0.719\n",
            "Epoch: 369 \t Train loss: 0.774 \t Val loss: 0.743 \t Train AUC: 0.679 \t Val AUC: 0.723\n",
            "Epoch: 370 \t Train loss: 0.775 \t Val loss: 0.751 \t Train AUC: 0.684 \t Val AUC: 0.726\n",
            "Epoch: 371 \t Train loss: 0.78 \t Val loss: 0.752 \t Train AUC: 0.675 \t Val AUC: 0.725\n",
            "Epoch: 372 \t Train loss: 0.778 \t Val loss: 0.756 \t Train AUC: 0.685 \t Val AUC: 0.728\n",
            "Epoch: 373 \t Train loss: 0.783 \t Val loss: 0.75 \t Train AUC: 0.674 \t Val AUC: 0.72\n",
            "Epoch: 374 \t Train loss: 0.774 \t Val loss: 0.738 \t Train AUC: 0.679 \t Val AUC: 0.725\n",
            "Epoch: 375 \t Train loss: 0.78 \t Val loss: 0.756 \t Train AUC: 0.68 \t Val AUC: 0.727\n",
            "Epoch: 376 \t Train loss: 0.78 \t Val loss: 0.771 \t Train AUC: 0.677 \t Val AUC: 0.715\n",
            "Epoch: 377 \t Train loss: 0.763 \t Val loss: 0.74 \t Train AUC: 0.689 \t Val AUC: 0.732\n",
            "Epoch: 378 \t Train loss: 0.769 \t Val loss: 0.743 \t Train AUC: 0.685 \t Val AUC: 0.736\n",
            "Epoch: 379 \t Train loss: 0.78 \t Val loss: 0.742 \t Train AUC: 0.676 \t Val AUC: 0.722\n",
            "Epoch: 380 \t Train loss: 0.778 \t Val loss: 0.762 \t Train AUC: 0.68 \t Val AUC: 0.721\n",
            "Epoch: 381 \t Train loss: 0.768 \t Val loss: 0.742 \t Train AUC: 0.684 \t Val AUC: 0.729\n",
            "Epoch: 382 \t Train loss: 0.78 \t Val loss: 0.764 \t Train AUC: 0.682 \t Val AUC: 0.723\n",
            "Epoch: 383 \t Train loss: 0.776 \t Val loss: 0.749 \t Train AUC: 0.681 \t Val AUC: 0.728\n",
            "Epoch: 384 \t Train loss: 0.774 \t Val loss: 0.749 \t Train AUC: 0.683 \t Val AUC: 0.723\n",
            "Epoch: 385 \t Train loss: 0.776 \t Val loss: 0.752 \t Train AUC: 0.679 \t Val AUC: 0.722\n",
            "Epoch: 386 \t Train loss: 0.77 \t Val loss: 0.744 \t Train AUC: 0.683 \t Val AUC: 0.731\n",
            "Epoch: 387 \t Train loss: 0.766 \t Val loss: 0.732 \t Train AUC: 0.689 \t Val AUC: 0.735\n",
            "Epoch: 388 \t Train loss: 0.77 \t Val loss: 0.743 \t Train AUC: 0.688 \t Val AUC: 0.729\n",
            "Epoch: 389 \t Train loss: 0.772 \t Val loss: 0.736 \t Train AUC: 0.683 \t Val AUC: 0.731\n",
            "Epoch: 390 \t Train loss: 0.773 \t Val loss: 0.745 \t Train AUC: 0.686 \t Val AUC: 0.73\n",
            "Epoch: 391 \t Train loss: 0.774 \t Val loss: 0.749 \t Train AUC: 0.692 \t Val AUC: 0.731\n",
            "Epoch: 392 \t Train loss: 0.766 \t Val loss: 0.736 \t Train AUC: 0.68 \t Val AUC: 0.729\n",
            "Epoch: 393 \t Train loss: 0.762 \t Val loss: 0.738 \t Train AUC: 0.691 \t Val AUC: 0.731\n",
            "Epoch: 394 \t Train loss: 0.765 \t Val loss: 0.737 \t Train AUC: 0.683 \t Val AUC: 0.73\n",
            "Epoch: 395 \t Train loss: 0.763 \t Val loss: 0.745 \t Train AUC: 0.686 \t Val AUC: 0.732\n",
            "Epoch: 396 \t Train loss: 0.764 \t Val loss: 0.728 \t Train AUC: 0.687 \t Val AUC: 0.735\n",
            "Epoch: 397 \t Train loss: 0.764 \t Val loss: 0.733 \t Train AUC: 0.691 \t Val AUC: 0.732\n",
            "Epoch: 398 \t Train loss: 0.77 \t Val loss: 0.742 \t Train AUC: 0.684 \t Val AUC: 0.727\n",
            "Epoch: 399 \t Train loss: 0.758 \t Val loss: 0.726 \t Train AUC: 0.694 \t Val AUC: 0.739\n",
            "Epoch: 400 \t Train loss: 0.762 \t Val loss: 0.737 \t Train AUC: 0.688 \t Val AUC: 0.73\n",
            "Epoch: 401 \t Train loss: 0.761 \t Val loss: 0.724 \t Train AUC: 0.692 \t Val AUC: 0.737\n",
            "Epoch: 402 \t Train loss: 0.76 \t Val loss: 0.736 \t Train AUC: 0.689 \t Val AUC: 0.731\n",
            "Epoch: 403 \t Train loss: 0.761 \t Val loss: 0.735 \t Train AUC: 0.688 \t Val AUC: 0.73\n",
            "Epoch: 404 \t Train loss: 0.761 \t Val loss: 0.746 \t Train AUC: 0.692 \t Val AUC: 0.733\n",
            "Epoch: 405 \t Train loss: 0.758 \t Val loss: 0.722 \t Train AUC: 0.691 \t Val AUC: 0.739\n",
            "Epoch: 406 \t Train loss: 0.76 \t Val loss: 0.732 \t Train AUC: 0.693 \t Val AUC: 0.738\n",
            "Epoch: 407 \t Train loss: 0.764 \t Val loss: 0.747 \t Train AUC: 0.683 \t Val AUC: 0.728\n",
            "Epoch: 408 \t Train loss: 0.759 \t Val loss: 0.734 \t Train AUC: 0.691 \t Val AUC: 0.731\n",
            "Epoch: 409 \t Train loss: 0.762 \t Val loss: 0.73 \t Train AUC: 0.696 \t Val AUC: 0.735\n",
            "Epoch: 410 \t Train loss: 0.754 \t Val loss: 0.729 \t Train AUC: 0.687 \t Val AUC: 0.727\n",
            "Epoch: 411 \t Train loss: 0.752 \t Val loss: 0.733 \t Train AUC: 0.694 \t Val AUC: 0.734\n",
            "Epoch: 412 \t Train loss: 0.753 \t Val loss: 0.719 \t Train AUC: 0.694 \t Val AUC: 0.741\n",
            "Epoch: 413 \t Train loss: 0.758 \t Val loss: 0.729 \t Train AUC: 0.693 \t Val AUC: 0.731\n",
            "Epoch: 414 \t Train loss: 0.758 \t Val loss: 0.725 \t Train AUC: 0.692 \t Val AUC: 0.735\n",
            "Epoch: 415 \t Train loss: 0.75 \t Val loss: 0.722 \t Train AUC: 0.696 \t Val AUC: 0.74\n",
            "Epoch: 416 \t Train loss: 0.759 \t Val loss: 0.732 \t Train AUC: 0.691 \t Val AUC: 0.733\n",
            "Epoch: 417 \t Train loss: 0.756 \t Val loss: 0.737 \t Train AUC: 0.693 \t Val AUC: 0.73\n",
            "Epoch: 418 \t Train loss: 0.751 \t Val loss: 0.728 \t Train AUC: 0.697 \t Val AUC: 0.741\n",
            "Epoch: 419 \t Train loss: 0.754 \t Val loss: 0.719 \t Train AUC: 0.695 \t Val AUC: 0.74\n",
            "Epoch: 420 \t Train loss: 0.747 \t Val loss: 0.724 \t Train AUC: 0.701 \t Val AUC: 0.744\n",
            "Epoch: 421 \t Train loss: 0.75 \t Val loss: 0.724 \t Train AUC: 0.695 \t Val AUC: 0.74\n",
            "Epoch: 422 \t Train loss: 0.75 \t Val loss: 0.726 \t Train AUC: 0.696 \t Val AUC: 0.735\n",
            "Epoch: 423 \t Train loss: 0.747 \t Val loss: 0.72 \t Train AUC: 0.703 \t Val AUC: 0.744\n",
            "Epoch: 424 \t Train loss: 0.748 \t Val loss: 0.719 \t Train AUC: 0.703 \t Val AUC: 0.739\n",
            "Epoch: 425 \t Train loss: 0.75 \t Val loss: 0.723 \t Train AUC: 0.699 \t Val AUC: 0.739\n",
            "Epoch: 426 \t Train loss: 0.749 \t Val loss: 0.727 \t Train AUC: 0.695 \t Val AUC: 0.737\n",
            "Epoch: 427 \t Train loss: 0.751 \t Val loss: 0.716 \t Train AUC: 0.695 \t Val AUC: 0.737\n",
            "Epoch: 428 \t Train loss: 0.743 \t Val loss: 0.72 \t Train AUC: 0.701 \t Val AUC: 0.741\n",
            "Epoch: 429 \t Train loss: 0.749 \t Val loss: 0.726 \t Train AUC: 0.7 \t Val AUC: 0.738\n",
            "Epoch: 430 \t Train loss: 0.744 \t Val loss: 0.717 \t Train AUC: 0.698 \t Val AUC: 0.736\n",
            "Epoch: 431 \t Train loss: 0.751 \t Val loss: 0.728 \t Train AUC: 0.696 \t Val AUC: 0.737\n",
            "Epoch: 432 \t Train loss: 0.753 \t Val loss: 0.724 \t Train AUC: 0.702 \t Val AUC: 0.742\n",
            "Epoch: 433 \t Train loss: 0.743 \t Val loss: 0.718 \t Train AUC: 0.707 \t Val AUC: 0.743\n",
            "Epoch: 434 \t Train loss: 0.746 \t Val loss: 0.712 \t Train AUC: 0.698 \t Val AUC: 0.742\n",
            "Epoch: 435 \t Train loss: 0.748 \t Val loss: 0.72 \t Train AUC: 0.698 \t Val AUC: 0.744\n",
            "Epoch: 436 \t Train loss: 0.749 \t Val loss: 0.722 \t Train AUC: 0.696 \t Val AUC: 0.738\n",
            "Epoch: 437 \t Train loss: 0.751 \t Val loss: 0.725 \t Train AUC: 0.696 \t Val AUC: 0.738\n",
            "Epoch: 438 \t Train loss: 0.744 \t Val loss: 0.723 \t Train AUC: 0.7 \t Val AUC: 0.739\n",
            "Epoch: 439 \t Train loss: 0.753 \t Val loss: 0.714 \t Train AUC: 0.693 \t Val AUC: 0.74\n",
            "Epoch: 440 \t Train loss: 0.747 \t Val loss: 0.725 \t Train AUC: 0.698 \t Val AUC: 0.738\n",
            "Epoch: 441 \t Train loss: 0.745 \t Val loss: 0.72 \t Train AUC: 0.695 \t Val AUC: 0.733\n",
            "Epoch: 442 \t Train loss: 0.742 \t Val loss: 0.714 \t Train AUC: 0.703 \t Val AUC: 0.744\n",
            "Epoch: 443 \t Train loss: 0.742 \t Val loss: 0.725 \t Train AUC: 0.699 \t Val AUC: 0.742\n",
            "Epoch: 444 \t Train loss: 0.739 \t Val loss: 0.713 \t Train AUC: 0.705 \t Val AUC: 0.749\n",
            "Epoch: 445 \t Train loss: 0.742 \t Val loss: 0.708 \t Train AUC: 0.708 \t Val AUC: 0.748\n",
            "Epoch: 446 \t Train loss: 0.739 \t Val loss: 0.711 \t Train AUC: 0.705 \t Val AUC: 0.742\n",
            "Epoch: 447 \t Train loss: 0.733 \t Val loss: 0.708 \t Train AUC: 0.714 \t Val AUC: 0.752\n",
            "Epoch: 448 \t Train loss: 0.744 \t Val loss: 0.718 \t Train AUC: 0.709 \t Val AUC: 0.747\n",
            "Epoch: 449 \t Train loss: 0.742 \t Val loss: 0.715 \t Train AUC: 0.71 \t Val AUC: 0.749\n",
            "Epoch: 450 \t Train loss: 0.741 \t Val loss: 0.715 \t Train AUC: 0.702 \t Val AUC: 0.745\n",
            "Epoch: 451 \t Train loss: 0.739 \t Val loss: 0.711 \t Train AUC: 0.705 \t Val AUC: 0.745\n",
            "Epoch: 452 \t Train loss: 0.742 \t Val loss: 0.711 \t Train AUC: 0.709 \t Val AUC: 0.748\n",
            "Epoch: 453 \t Train loss: 0.742 \t Val loss: 0.721 \t Train AUC: 0.7 \t Val AUC: 0.735\n",
            "Epoch: 454 \t Train loss: 0.74 \t Val loss: 0.715 \t Train AUC: 0.709 \t Val AUC: 0.747\n",
            "Epoch: 455 \t Train loss: 0.744 \t Val loss: 0.724 \t Train AUC: 0.704 \t Val AUC: 0.743\n",
            "Epoch: 456 \t Train loss: 0.735 \t Val loss: 0.713 \t Train AUC: 0.707 \t Val AUC: 0.746\n",
            "Epoch: 457 \t Train loss: 0.734 \t Val loss: 0.708 \t Train AUC: 0.712 \t Val AUC: 0.749\n",
            "Epoch: 458 \t Train loss: 0.741 \t Val loss: 0.715 \t Train AUC: 0.702 \t Val AUC: 0.74\n",
            "Epoch: 459 \t Train loss: 0.737 \t Val loss: 0.712 \t Train AUC: 0.703 \t Val AUC: 0.742\n",
            "Epoch: 460 \t Train loss: 0.731 \t Val loss: 0.704 \t Train AUC: 0.717 \t Val AUC: 0.754\n",
            "Epoch: 461 \t Train loss: 0.739 \t Val loss: 0.715 \t Train AUC: 0.711 \t Val AUC: 0.747\n",
            "Epoch: 462 \t Train loss: 0.731 \t Val loss: 0.702 \t Train AUC: 0.712 \t Val AUC: 0.749\n",
            "Epoch: 463 \t Train loss: 0.743 \t Val loss: 0.719 \t Train AUC: 0.704 \t Val AUC: 0.74\n",
            "Epoch: 464 \t Train loss: 0.744 \t Val loss: 0.715 \t Train AUC: 0.703 \t Val AUC: 0.741\n",
            "Epoch: 465 \t Train loss: 0.732 \t Val loss: 0.715 \t Train AUC: 0.713 \t Val AUC: 0.749\n",
            "Epoch: 466 \t Train loss: 0.734 \t Val loss: 0.714 \t Train AUC: 0.711 \t Val AUC: 0.746\n",
            "Epoch: 467 \t Train loss: 0.731 \t Val loss: 0.704 \t Train AUC: 0.71 \t Val AUC: 0.748\n",
            "Epoch: 468 \t Train loss: 0.737 \t Val loss: 0.708 \t Train AUC: 0.703 \t Val AUC: 0.747\n",
            "Epoch: 469 \t Train loss: 0.735 \t Val loss: 0.713 \t Train AUC: 0.708 \t Val AUC: 0.745\n",
            "Epoch: 470 \t Train loss: 0.733 \t Val loss: 0.701 \t Train AUC: 0.712 \t Val AUC: 0.749\n",
            "Epoch: 471 \t Train loss: 0.728 \t Val loss: 0.701 \t Train AUC: 0.711 \t Val AUC: 0.753\n",
            "Epoch: 472 \t Train loss: 0.737 \t Val loss: 0.707 \t Train AUC: 0.706 \t Val AUC: 0.745\n",
            "Epoch: 473 \t Train loss: 0.728 \t Val loss: 0.707 \t Train AUC: 0.715 \t Val AUC: 0.754\n",
            "Epoch: 474 \t Train loss: 0.731 \t Val loss: 0.702 \t Train AUC: 0.718 \t Val AUC: 0.751\n",
            "Epoch: 475 \t Train loss: 0.734 \t Val loss: 0.707 \t Train AUC: 0.711 \t Val AUC: 0.751\n",
            "Epoch: 476 \t Train loss: 0.727 \t Val loss: 0.704 \t Train AUC: 0.716 \t Val AUC: 0.755\n",
            "Epoch: 477 \t Train loss: 0.733 \t Val loss: 0.706 \t Train AUC: 0.711 \t Val AUC: 0.75\n",
            "Epoch: 478 \t Train loss: 0.733 \t Val loss: 0.704 \t Train AUC: 0.711 \t Val AUC: 0.751\n",
            "Epoch: 479 \t Train loss: 0.732 \t Val loss: 0.715 \t Train AUC: 0.712 \t Val AUC: 0.751\n",
            "Epoch: 480 \t Train loss: 0.734 \t Val loss: 0.701 \t Train AUC: 0.709 \t Val AUC: 0.751\n",
            "Epoch: 481 \t Train loss: 0.734 \t Val loss: 0.707 \t Train AUC: 0.704 \t Val AUC: 0.741\n",
            "Epoch: 482 \t Train loss: 0.73 \t Val loss: 0.709 \t Train AUC: 0.713 \t Val AUC: 0.754\n",
            "Epoch: 483 \t Train loss: 0.731 \t Val loss: 0.707 \t Train AUC: 0.716 \t Val AUC: 0.752\n",
            "Epoch: 484 \t Train loss: 0.729 \t Val loss: 0.695 \t Train AUC: 0.72 \t Val AUC: 0.758\n",
            "Epoch: 485 \t Train loss: 0.732 \t Val loss: 0.698 \t Train AUC: 0.715 \t Val AUC: 0.756\n",
            "Epoch: 486 \t Train loss: 0.724 \t Val loss: 0.702 \t Train AUC: 0.716 \t Val AUC: 0.756\n",
            "Epoch: 487 \t Train loss: 0.727 \t Val loss: 0.706 \t Train AUC: 0.717 \t Val AUC: 0.753\n",
            "Epoch: 488 \t Train loss: 0.73 \t Val loss: 0.714 \t Train AUC: 0.71 \t Val AUC: 0.743\n",
            "Epoch: 489 \t Train loss: 0.729 \t Val loss: 0.701 \t Train AUC: 0.71 \t Val AUC: 0.749\n",
            "Epoch: 490 \t Train loss: 0.721 \t Val loss: 0.694 \t Train AUC: 0.721 \t Val AUC: 0.757\n",
            "Epoch: 491 \t Train loss: 0.724 \t Val loss: 0.703 \t Train AUC: 0.711 \t Val AUC: 0.751\n",
            "Epoch: 492 \t Train loss: 0.729 \t Val loss: 0.699 \t Train AUC: 0.714 \t Val AUC: 0.754\n",
            "Epoch: 493 \t Train loss: 0.724 \t Val loss: 0.697 \t Train AUC: 0.717 \t Val AUC: 0.755\n",
            "Epoch: 494 \t Train loss: 0.724 \t Val loss: 0.7 \t Train AUC: 0.721 \t Val AUC: 0.757\n",
            "Epoch: 495 \t Train loss: 0.724 \t Val loss: 0.702 \t Train AUC: 0.72 \t Val AUC: 0.754\n",
            "Epoch: 496 \t Train loss: 0.723 \t Val loss: 0.699 \t Train AUC: 0.719 \t Val AUC: 0.752\n",
            "Epoch: 497 \t Train loss: 0.725 \t Val loss: 0.699 \t Train AUC: 0.717 \t Val AUC: 0.754\n",
            "Epoch: 498 \t Train loss: 0.726 \t Val loss: 0.704 \t Train AUC: 0.719 \t Val AUC: 0.753\n",
            "Epoch: 499 \t Train loss: 0.726 \t Val loss: 0.702 \t Train AUC: 0.717 \t Val AUC: 0.755\n",
            "Epoch: 500 \t Train loss: 0.728 \t Val loss: 0.709 \t Train AUC: 0.717 \t Val AUC: 0.752\n",
            "Epoch: 501 \t Train loss: 0.721 \t Val loss: 0.695 \t Train AUC: 0.72 \t Val AUC: 0.756\n",
            "Epoch: 502 \t Train loss: 0.722 \t Val loss: 0.698 \t Train AUC: 0.717 \t Val AUC: 0.755\n",
            "Epoch: 503 \t Train loss: 0.724 \t Val loss: 0.702 \t Train AUC: 0.718 \t Val AUC: 0.758\n",
            "Epoch: 504 \t Train loss: 0.719 \t Val loss: 0.694 \t Train AUC: 0.72 \t Val AUC: 0.759\n",
            "Epoch: 505 \t Train loss: 0.72 \t Val loss: 0.7 \t Train AUC: 0.72 \t Val AUC: 0.754\n",
            "Epoch: 506 \t Train loss: 0.718 \t Val loss: 0.696 \t Train AUC: 0.719 \t Val AUC: 0.751\n",
            "Epoch: 507 \t Train loss: 0.725 \t Val loss: 0.699 \t Train AUC: 0.72 \t Val AUC: 0.753\n",
            "Epoch: 508 \t Train loss: 0.722 \t Val loss: 0.704 \t Train AUC: 0.718 \t Val AUC: 0.753\n",
            "Epoch: 509 \t Train loss: 0.725 \t Val loss: 0.704 \t Train AUC: 0.714 \t Val AUC: 0.748\n",
            "Epoch: 510 \t Train loss: 0.727 \t Val loss: 0.712 \t Train AUC: 0.715 \t Val AUC: 0.754\n",
            "Epoch: 511 \t Train loss: 0.719 \t Val loss: 0.707 \t Train AUC: 0.722 \t Val AUC: 0.749\n",
            "Early Stopped at Epoch 511\n"
          ]
        }
      ],
      "source": [
        "import itertools\n",
        "import gc\n",
        "\n",
        "train_loss, val_loss = [], []\n",
        "train_AUC, val_AUC = [], []\n",
        "stop = 0\n",
        "\n",
        "optimizer = torch.optim.Adam(itertools.chain(vgae_model.parameters(), pred.parameters()), lr=0.05)\n",
        "\n",
        "for e in range(ep):\n",
        "    # forward\n",
        "    h = vgae_model(train_g, train_g.ndata['feat']).to(device)\n",
        "    pos_score = pred(train_pos_g, h).to(device)\n",
        "    neg_score = pred(train_neg_g, h).to(device)\n",
        "    loss = compute_loss(pos_score, neg_score).to(device)\n",
        "    train_loss.append(loss.item())\n",
        "    train_AUC.append(compute_auc(pos_score, neg_score))\n",
        "\n",
        "    # backward\n",
        "    optimizer.zero_grad()\n",
        "    loss.backward()\n",
        "    optimizer.step()\n",
        "\n",
        "    # validation\n",
        "    v_pos_score = pred(val_pos_g.to(device), h.to(device))\n",
        "    v_neg_score = pred(val_neg_g.to(device), h.to(device))\n",
        "    v_loss = compute_loss(v_pos_score.to(device), v_neg_score.to(device)).to(device)\n",
        "    val_loss.append(v_loss.item())\n",
        "    val_AUC.append(compute_auc(v_pos_score, v_neg_score))\n",
        "\n",
        "    #verbose\n",
        "    if e % 1 == 0:\n",
        "        print('Epoch: {} \\t Train loss: {} \\t Val loss: {} \\t Train AUC: {} \\t Val AUC: {}'.format(e, round(loss.item(), 3), round(v_loss.item(), 3), round(train_AUC[-1],3), round(val_AUC[-1], 3)))\n",
        "\n",
        "    # early stopping\n",
        "    if e > 10:\n",
        "        if v_loss.item() > sum(val_loss[-5:])/5:\n",
        "            stop += 1\n",
        "        else: \n",
        "            stop = 0\n",
        "        if stop >= early_stopping:\n",
        "            print(\"Early Stopped at Epoch {}\".format(e))\n",
        "            break"
      ]
    },
    {
      "cell_type": "code",
      "execution_count": null,
      "id": "fa25daee",
      "metadata": {
        "colab": {
          "base_uri": "https://localhost:8080/"
        },
        "id": "fa25daee",
        "outputId": "8df5f0b2-5941-4ff4-bc7b-5af354fb75f3"
      },
      "outputs": [
        {
          "name": "stdout",
          "output_type": "stream",
          "text": [
            "AUC: 0.7431267983750023\n"
          ]
        }
      ],
      "source": [
        "# testing AUC\n",
        "with torch.no_grad():\n",
        "    pos_score = pred(test_pos_g, h)\n",
        "    neg_score = pred(test_neg_g, h)\n",
        "    print('AUC:', compute_auc(pos_score, neg_score))"
      ]
    },
    {
      "cell_type": "markdown",
      "id": "9fbdf7c9",
      "metadata": {
        "id": "9fbdf7c9"
      },
      "source": [
        "### Result Plotting"
      ]
    },
    {
      "cell_type": "code",
      "execution_count": null,
      "id": "dbe7e9cd",
      "metadata": {
        "colab": {
          "base_uri": "https://localhost:8080/",
          "height": 325
        },
        "id": "dbe7e9cd",
        "outputId": "c7066025-7295-4cf0-c439-e2203a21ad58"
      },
      "outputs": [
        {
          "data": {
            "text/plain": [
              "Text(0, 0.5, 'Loss')"
            ]
          },
          "execution_count": 26,
          "metadata": {},
          "output_type": "execute_result"
        },
        {
          "data": {
            "image/png": "[encoded data removed]",
            "text/plain": [
              "<Figure size 432x288 with 1 Axes>"
            ]
          },
          "metadata": {
            "needs_background": "light"
          },
          "output_type": "display_data"
        }
      ],
      "source": [
        "fig = plt.figure()\n",
        "plt.plot(train_loss[60:], label='training loss')\n",
        "plt.plot(val_loss[60:], label = 'validation loss')\n",
        "fig.suptitle('VGAE Loss Plot')\n",
        "plt.xlabel('Epoch')\n",
        "plt.ylabel('Loss')"
      ]
    },
    {
      "cell_type": "code",
      "execution_count": null,
      "id": "85db07e4",
      "metadata": {
        "colab": {
          "base_uri": "https://localhost:8080/",
          "height": 325
        },
        "id": "85db07e4",
        "outputId": "03b2a6ff-afbb-49ab-9d21-17485d3b70f7"
      },
      "outputs": [
        {
          "data": {
            "text/plain": [
              "Text(0, 0.5, 'AUC')"
            ]
          },
          "execution_count": 27,
          "metadata": {},
          "output_type": "execute_result"
        },
        {
          "data": {
            "image/png": "[encoded data removed]",
            "text/plain": [
              "<Figure size 432x288 with 1 Axes>"
            ]
          },
          "metadata": {
            "needs_background": "light"
          },
          "output_type": "display_data"
        }
      ],
      "source": [
        "fig = plt.figure()\n",
        "plt.plot(train_AUC, label='training AUC')\n",
        "plt.plot(val_AUC, label = 'validation AUC')\n",
        "fig.suptitle('VGAE AUC Plot')\n",
        "plt.xlabel('Epoch')\n",
        "plt.ylabel('AUC')"
      ]
    },
    {
      "cell_type": "code",
      "execution_count": null,
      "id": "c6f53aba",
      "metadata": {
        "id": "c6f53aba"
      },
      "outputs": [],
      "source": []
    }
  ],
  "metadata": {
    "colab": {
      "collapsed_sections": [],
      "machine_shape": "hm",
      "provenance": []
    },
    "gpuClass": "standard",
    "kernelspec": {
      "display_name": "Python 3 (ipykernel)",
      "language": "python",
      "name": "python3"
    },
    "language_info": {
      "codemirror_mode": {
        "name": "ipython",
        "version": 3
      },
      "file_extension": ".py",
      "mimetype": "text/x-python",
      "name": "python",
      "nbconvert_exporter": "python",
      "pygments_lexer": "ipython3",
      "version": "3.9.13"
    },
    "vscode": {
      "interpreter": {
        "hash": "eda238182c1de36151cdce09aa997c6697b1a1e480bed704816dfcebedb6bbfe"
      }
    }
  },
  "nbformat": 4,
  "nbformat_minor": 5
}
