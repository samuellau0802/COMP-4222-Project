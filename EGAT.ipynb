{
 "cells": [
  {
   "cell_type": "markdown",
   "id": "12abf457",
   "metadata": {},
   "source": [
    "# EGAT Implementation"
   ]
  },
  {
   "cell_type": "markdown",
   "id": "d30cf581",
   "metadata": {},
   "source": [
    "```\n",
    "Rossmann-toolbox: a deep learning-based protocol for the prediction and design of cofactor specificity in Rossmann fold proteins\n",
    "```"
   ]
  },
  {
   "cell_type": "code",
   "execution_count": 1,
   "id": "d0cd285f",
   "metadata": {},
   "outputs": [],
   "source": [
    "import dgl\n",
    "from dgl.data import DGLDataset\n",
    "import torch\n",
    "import os\n",
    "import pandas as pd\n",
    "import numpy as np\n",
    "import torch\n",
    "import itertools\n",
    "import numpy as np\n",
    "import scipy.sparse as sp\n",
    "import dgl.nn as dglnn\n",
    "import torch.nn as nn\n",
    "import torch.nn.functional as F\n",
    "import dgl.function as fn\n",
    "from dgl.nn import EGATConv\n",
    "from utils.startup_data_set import *\n",
    "from utils.PredictorClasses import *\n",
    "from utils.CustomMetrics import *\n",
    "from utils.CustomUtilities import *\n",
    "import matplotlib.pyplot as plt\n",
    "device = torch.device('cuda' if torch.cuda.is_available() else 'cpu')"
   ]
  },
  {
   "cell_type": "markdown",
   "id": "b4098827",
   "metadata": {},
   "source": [
    "## Load Dataset"
   ]
  },
  {
   "cell_type": "code",
   "execution_count": 2,
   "id": "e24b33d8",
   "metadata": {},
   "outputs": [],
   "source": [
    "graph = COMP4222Dataset()\n",
    "g = graph[0].to(device)"
   ]
  },
  {
   "cell_type": "markdown",
   "id": "76d4b5a3",
   "metadata": {},
   "source": [
    "## Generate Postitve Graph and Negative Graph with Spliting"
   ]
  },
  {
   "cell_type": "code",
   "execution_count": 3,
   "id": "070d72bd",
   "metadata": {},
   "outputs": [],
   "source": [
    "train_g, train_pos_g, val_pos_g, test_pos_g, val_g, test_g = generate_pos_graph(g)"
   ]
  },
  {
   "cell_type": "code",
   "execution_count": 4,
   "id": "a6a08a9a",
   "metadata": {},
   "outputs": [],
   "source": [
    "train_neg_g, val_neg_g, test_neg_g = generate_neg_graph(g)"
   ]
  },
  {
   "cell_type": "code",
   "execution_count": 5,
   "id": "9e7b9973",
   "metadata": {},
   "outputs": [],
   "source": [
    "train_g, train_pos_g, val_pos_g, test_pos_g = train_g.to(device), train_pos_g.to(device), val_pos_g, test_pos_g.to(device)\n",
    "train_neg_g, val_neg_g, test_neg_g = train_neg_g.to(device), val_neg_g.to(device), test_neg_g.to(device)\n",
    "num_nodes = g.num_nodes\n",
    "num_edges = g.num_edges"
   ]
  },
  {
   "cell_type": "markdown",
   "id": "76b51f76",
   "metadata": {},
   "source": [
    "## Model Training"
   ]
  },
  {
   "cell_type": "markdown",
   "id": "219c2311",
   "metadata": {},
   "source": [
    "### Model Setup"
   ]
  },
  {
   "cell_type": "code",
   "execution_count": 6,
   "id": "5e87137a",
   "metadata": {},
   "outputs": [],
   "source": [
    "class EGAT_Model(nn.Module):\n",
    "    def __init__(self, in_node_feats,in_edge_feats, hid_node_feats,hid_edge_feats, out_node_feats,out_edge_feats, heads):\n",
    "        super(EGAT_Model, self).__init__()\n",
    "\n",
    "        self.layers = nn.ModuleList()\n",
    "        # input layer\n",
    "        self.layers.append(EGATConv(in_node_feats = in_node_feats,\n",
    "                                        in_edge_feats = in_edge_feats,\n",
    "                                        out_node_feats = hid_node_feats,\n",
    "                                        out_edge_feats = hid_edge_feats,\n",
    "                                        num_heads = heads[0]).to(device))\n",
    "        # hidden layers\n",
    "        self.layers.append(EGATConv(in_node_feats = hid_node_feats * heads[0],\n",
    "                                    in_edge_feats =  hid_edge_feats * heads[0],\n",
    "                                    out_node_feats = hid_node_feats,\n",
    "                                    out_edge_feats = hid_edge_feats,\n",
    "                                    num_heads = heads[1]).to(device))\n",
    "        # output layer\n",
    "        self.layers.append(EGATConv(in_node_feats = hid_node_feats * heads[1],\n",
    "                                        in_edge_feats =  hid_edge_feats * heads[1],\n",
    "                                        out_node_feats = out_node_feats,\n",
    "                                        out_edge_feats = out_edge_feats,\n",
    "                                        num_heads = heads[2]).to(device))\n",
    "        \n",
    "    def forward(self, g, n_features, e_features):\n",
    "        nh = n_features.float()\n",
    "        eh = e_features.float()\n",
    "        for i, layer in enumerate(self.layers):\n",
    "            nh,eh = layer(g, nh, eh)\n",
    "            if i == 2:  # last layer \n",
    "                nh = nh.mean(1)\n",
    "                eh = eh.mean(1)\n",
    "            else:       # other layer(s)\n",
    "                nh = nh.flatten(1)\n",
    "                eh = eh.flatten(1)\n",
    "        return nh, eh"
   ]
  },
  {
   "cell_type": "markdown",
   "id": "41116087",
   "metadata": {},
   "source": [
    "## Hyperparameters"
   ]
  },
  {
   "cell_type": "code",
   "execution_count": 7,
   "id": "2248c8d4",
   "metadata": {},
   "outputs": [],
   "source": [
    "in_node_feats = train_g.ndata[\"feat\"].shape[1]\n",
    "in_edge_feats = train_g.edata[\"feat\"].shape[1] \n",
    "hid_node_feats = 64\n",
    "hid_edge_feats = 64\n",
    "out_node_feats = 16\n",
    "out_edge_feats = train_g.edata[\"feat\"].shape[1] \n",
    "heads = [2,2,2]"
   ]
  },
  {
   "cell_type": "code",
   "execution_count": 11,
   "id": "24665b9a",
   "metadata": {
    "scrolled": true
   },
   "outputs": [],
   "source": [
    "egat_model = EGAT_Model(in_node_feats = in_node_feats,\n",
    "                      in_edge_feats = in_edge_feats, \n",
    "                      hid_node_feats = hid_node_feats,\n",
    "                      hid_edge_feats = hid_edge_feats, \n",
    "                      out_node_feats = out_node_feats,\n",
    "                      out_edge_feats = out_edge_feats,\n",
    "                      heads = heads).to(device).to(device)\n",
    "\n",
    "class MLPPredictor(nn.Module):\n",
    "    def __init__(self, h_feats):\n",
    "        super().__init__()\n",
    "        self.W1 = nn.Linear(2*h_feats , h_feats).to(torch.float32)\n",
    "        self.W2 = nn.Linear(h_feats, 1).to(torch.float32)\n",
    "\n",
    "    # concat the source and destination node, use mlp to predict the score\n",
    "    def apply_edges(self, edges):\n",
    "        h = torch.cat([edges.src['h'], edges.dst['h']], 1).to(torch.float32)\n",
    "\n",
    "        return {'score': self.W2(F.relu(self.W1(h))).squeeze(1)}\n",
    "\n",
    "    def forward(self, g, h):\n",
    "        with g.local_scope():\n",
    "            g.ndata['h'] = h.to(torch.float32)\n",
    "            g.apply_edges(self.apply_edges)\n",
    "            return g.edata['score']\n",
    "\n",
    "\n",
    "pred = MLPPredictor(16).to(device)\n",
    "early_stopping = 10\n"
   ]
  },
  {
   "cell_type": "markdown",
   "id": "a7eb7d60",
   "metadata": {},
   "source": [
    "### Training Loop"
   ]
  },
  {
   "cell_type": "code",
   "execution_count": 12,
   "id": "854e41fc",
   "metadata": {},
   "outputs": [
    {
     "name": "stdout",
     "output_type": "stream",
     "text": [
      "Epoch: 0 \t Train loss: 0.693 \t Val loss: 0.693 \t Train AUC: 0.522 \t Val AUC: 0.529\n",
      "Epoch: 10 \t Train loss: 0.668 \t Val loss: 0.672 \t Train AUC: 0.731 \t Val AUC: 0.698\n",
      "Epoch: 20 \t Train loss: 0.596 \t Val loss: 0.608 \t Train AUC: 0.835 \t Val AUC: 0.794\n",
      "Epoch: 30 \t Train loss: 0.483 \t Val loss: 0.516 \t Train AUC: 0.871 \t Val AUC: 0.835\n",
      "Epoch: 40 \t Train loss: 0.402 \t Val loss: 0.456 \t Train AUC: 0.895 \t Val AUC: 0.861\n",
      "Epoch: 50 \t Train loss: 0.332 \t Val loss: 0.4 \t Train AUC: 0.939 \t Val AUC: 0.898\n",
      "Epoch: 60 \t Train loss: 0.28 \t Val loss: 0.372 \t Train AUC: 0.952 \t Val AUC: 0.916\n",
      "Epoch: 70 \t Train loss: 0.253 \t Val loss: 0.372 \t Train AUC: 0.958 \t Val AUC: 0.923\n",
      "Epoch: 80 \t Train loss: 0.231 \t Val loss: 0.374 \t Train AUC: 0.964 \t Val AUC: 0.925\n",
      "Early Stopped at Epoch 87\n"
     ]
    }
   ],
   "source": [
    "import itertools\n",
    "\n",
    "train_loss, val_loss = [], []\n",
    "train_AUC, val_AUC = [], []\n",
    "stop = 0\n",
    "ep = 100\n",
    "optimizer = torch.optim.Adam(itertools.chain(egat_model.parameters(), pred.parameters()))\n",
    "\n",
    "for e in range(ep):\n",
    "    # forward\n",
    "    h, efeat= egat_model(train_g, train_g.ndata['feat'].to(torch.float32), train_g.edata[\"feat\"].to(torch.float32))\n",
    "    pos_score = pred(train_pos_g.to(device),h.to(device))\n",
    "    neg_score = pred(train_neg_g.to(device),h.to(device))\n",
    "    # update \n",
    "    \n",
    "    loss = compute_loss(pos_score, neg_score)\n",
    "    train_loss.append(loss.item())\n",
    "    train_AUC.append(compute_auc(pos_score, neg_score))\n",
    "\n",
    "    # backward\n",
    "    optimizer.zero_grad()\n",
    "    loss.backward()\n",
    "    optimizer.step()\n",
    "\n",
    "    # validation\n",
    "    v_pos_score = pred(val_pos_g, h)\n",
    "    v_neg_score = pred(val_neg_g, h)\n",
    "    v_loss = compute_loss(v_pos_score, v_neg_score)\n",
    "    val_loss.append(v_loss.item())\n",
    "    val_AUC.append(compute_auc(v_pos_score, v_neg_score))\n",
    "\n",
    "    #verbose\n",
    "    if e % 10 == 0:\n",
    "        print('Epoch: {} \\t Train loss: {} \\t Val loss: {} \\t Train AUC: {} \\t Val AUC: {}'.format(e, round(loss.item(), 3), round(v_loss.item(), 3), round(train_AUC[-1],3), round(val_AUC[-1], 3)))\n",
    "\n",
    "\n",
    "    # early stopping\n",
    "    if e > 10:\n",
    "        if v_loss.item() > sum(val_loss[-5:])/5:\n",
    "            stop += 1\n",
    "        else: \n",
    "            stop = 0\n",
    "        if stop >= early_stopping:\n",
    "            print(\"Early Stopped at Epoch {}\".format(e))\n",
    "            break"
   ]
  },
  {
   "cell_type": "code",
   "execution_count": 13,
   "id": "9a56e818",
   "metadata": {},
   "outputs": [
    {
     "name": "stdout",
     "output_type": "stream",
     "text": [
      "AUC: 0.9257991266895906\n"
     ]
    }
   ],
   "source": [
    "# testing AUC\n",
    "with torch.no_grad():\n",
    "    pos_score = pred(test_pos_g, h)\n",
    "    neg_score = pred(test_neg_g, h)\n",
    "    print('AUC:', compute_auc(pos_score, neg_score))"
   ]
  },
  {
   "cell_type": "markdown",
   "id": "998607a6",
   "metadata": {},
   "source": [
    "### Result Plotting"
   ]
  },
  {
   "cell_type": "code",
   "execution_count": 14,
   "id": "731cb584",
   "metadata": {},
   "outputs": [
    {
     "data": {
      "text/plain": [
       "Text(0, 0.5, 'Loss')"
      ]
     },
     "execution_count": 14,
     "metadata": {},
     "output_type": "execute_result"
    },
    {
     "data": {
      "image/png": "[encoded data removed]",
      "text/plain": [
       "<Figure size 640x480 with 1 Axes>"
      ]
     },
     "metadata": {},
     "output_type": "display_data"
    }
   ],
   "source": [
    "fig = plt.figure()\n",
    "plt.plot(train_loss[20:], label='training loss')\n",
    "plt.plot(val_loss[20:], label = 'validation loss')\n",
    "fig.suptitle('EGAT Loss Plot')\n",
    "plt.xlabel('Epoch')\n",
    "plt.ylabel('Loss')"
   ]
  },
  {
   "cell_type": "code",
   "execution_count": 15,
   "id": "1ca64182",
   "metadata": {},
   "outputs": [
    {
     "data": {
      "text/plain": [
       "Text(0, 0.5, 'AUC')"
      ]
     },
     "execution_count": 15,
     "metadata": {},
     "output_type": "execute_result"
    },
    {
     "data": {
      "image/png": "[encoded data removed]",
      "text/plain": [
       "<Figure size 640x480 with 1 Axes>"
      ]
     },
     "metadata": {},
     "output_type": "display_data"
    }
   ],
   "source": [
    "fig = plt.figure()\n",
    "plt.plot(train_AUC, label='training AUC')\n",
    "plt.plot(val_AUC, label = 'validation AUC')\n",
    "fig.suptitle('EGAT AUC Plot')\n",
    "plt.xlabel('Epoch')\n",
    "plt.ylabel('AUC')"
   ]
  },
  {
   "cell_type": "code",
   "execution_count": null,
   "id": "a293dbaa",
   "metadata": {},
   "outputs": [],
   "source": []
  }
 ],
 "metadata": {
  "kernelspec": {
   "display_name": "COMP4222",
   "language": "python",
   "name": "python3"
  },
  "language_info": {
   "codemirror_mode": {
    "name": "ipython",
    "version": 3
   },
   "file_extension": ".py",
   "mimetype": "text/x-python",
   "name": "python",
   "nbconvert_exporter": "python",
   "pygments_lexer": "ipython3",
   "version": "3.9.13"
  },
  "vscode": {
   "interpreter": {
    "hash": "eda238182c1de36151cdce09aa997c6697b1a1e480bed704816dfcebedb6bbfe"
   }
  }
 },
 "nbformat": 4,
 "nbformat_minor": 5
}
