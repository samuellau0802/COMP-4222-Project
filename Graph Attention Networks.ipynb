{
 "cells": [
  {
   "cell_type": "code",
   "execution_count": 1,
   "id": "0305f4f0",
   "metadata": {},
   "outputs": [],
   "source": [
    "import dgl\n",
    "from dgl.data import DGLDataset\n",
    "import torch\n",
    "import os\n",
    "import pandas as pd\n",
    "import numpy as np\n",
    "import torch\n",
    "import itertools\n",
    "import numpy as np\n",
    "import scipy.sparse as sp\n",
    "import dgl.nn as dglnn\n",
    "import torch.nn as nn\n",
    "import torch.nn.functional as F\n",
    "import dgl.function as fn\n",
    "from dgl.nn.pytorch import conv as dgl_conv\n",
    "from startup_data_set import *\n",
    "from PredictorClasses import *\n",
    "from CustomMetrics import *"
   ]
  },
  {
   "cell_type": "code",
   "execution_count": 2,
   "id": "49af2d2a",
   "metadata": {},
   "outputs": [
    {
     "name": "stdout",
     "output_type": "stream",
     "text": [
      "Graph(num_nodes=25446, num_edges=45621,\n",
      "      ndata_schemes={'feat': Scheme(shape=(221,), dtype=torch.float64), '_ID': Scheme(shape=(), dtype=torch.int64), '_TYPE': Scheme(shape=(), dtype=torch.int64)}\n",
      "      edata_schemes={'feat': Scheme(shape=(26,), dtype=torch.float64), '_ID': Scheme(shape=(), dtype=torch.int64), '_TYPE': Scheme(shape=(), dtype=torch.int64)})\n"
     ]
    }
   ],
   "source": [
    "graph = COMP4222Dataset_hetero()[0]\n",
    "graph = dgl.to_homogeneous(graph,ndata=['feat'],edata=['feat'])\n",
    "print(graph)"
   ]
  },
  {
   "cell_type": "code",
   "execution_count": 16,
   "id": "f57f5e4b",
   "metadata": {},
   "outputs": [
    {
     "data": {
      "text/plain": [
       "Graph(num_nodes=25446, num_edges=45621,\n",
       "      ndata_schemes={'feat': Scheme(shape=(221,), dtype=torch.float64), '_ID': Scheme(shape=(), dtype=torch.int64), '_TYPE': Scheme(shape=(), dtype=torch.int64)}\n",
       "      edata_schemes={'feat': Scheme(shape=(26,), dtype=torch.float64), '_ID': Scheme(shape=(), dtype=torch.int64), '_TYPE': Scheme(shape=(), dtype=torch.int64)})"
      ]
     },
     "execution_count": 16,
     "metadata": {},
     "output_type": "execute_result"
    }
   ],
   "source": [
    "graph"
   ]
  },
  {
   "cell_type": "code",
   "execution_count": 4,
   "id": "9e290e44",
   "metadata": {},
   "outputs": [
    {
     "name": "stdout",
     "output_type": "stream",
     "text": [
      "(25446, 25446)\n"
     ]
    }
   ],
   "source": [
    "u, v = graph.edges()\n",
    "# give id for all edges then permutation\n",
    "eids = np.arange(graph.number_of_edges())\n",
    "eids = np.random.permutation(eids)\n",
    "\n",
    "# use 10% as test set\n",
    "test_size = int(len(eids) * 0.1)\n",
    "train_size = graph.number_of_edges() - test_size\n",
    "\n",
    "test_pos_u, test_pos_v = u[eids[:test_size]], v[eids[:test_size]]\n",
    "train_pos_u, train_pos_v = u[eids[test_size:]], v[eids[test_size:]]\n",
    "\n",
    "# Find all negative edges and split them for training and testing\n",
    "\n",
    "#use sparse matrix to save memory\n",
    "# ,shape = (torch.max(v)+1,torch.max(v)+1)\n",
    "adj = graph.adj(scipy_fmt='coo')\n",
    "print(adj.shape)\n",
    "adj_neg = 1 - adj.todense() - np.eye(graph.number_of_nodes())\n",
    "neg_u, neg_v = np.where(adj_neg != 0) # negative edge, we don't have edge\n",
    "\n",
    "neg_eids = np.random.choice(len(neg_u), graph.number_of_edges())\n",
    "test_neg_u, test_neg_v = neg_u[neg_eids[:test_size]], neg_v[neg_eids[:test_size]]\n",
    "train_neg_u, train_neg_v = neg_u[neg_eids[test_size:]], neg_v[neg_eids[test_size:]]"
   ]
  },
  {
   "cell_type": "code",
   "execution_count": 22,
   "id": "037eb137",
   "metadata": {},
   "outputs": [
    {
     "name": "stdout",
     "output_type": "stream",
     "text": [
      "221\n"
     ]
    }
   ],
   "source": [
    "in_feats= graph.ndata[\"feat\"].shape[1]\n",
    "print(in_feats)"
   ]
  },
  {
   "cell_type": "code",
   "execution_count": 23,
   "id": "439232e7",
   "metadata": {},
   "outputs": [],
   "source": [
    "train_g = dgl.remove_edges(graph, eids[:test_size])\n",
    "train_g = dgl.add_self_loop(train_g)\n",
    "train_pos_g = dgl.graph((train_pos_u, train_pos_v), num_nodes=graph.number_of_nodes())\n",
    "train_neg_g = dgl.graph((train_neg_u, train_neg_v), num_nodes=graph.number_of_nodes())\n",
    "\n",
    "test_pos_g = dgl.graph((test_pos_u, test_pos_v), num_nodes=graph.number_of_nodes())\n",
    "test_neg_g = dgl.graph((test_neg_u, test_neg_v), num_nodes=graph.number_of_nodes())"
   ]
  },
  {
   "cell_type": "code",
   "execution_count": 24,
   "id": "dcf11813",
   "metadata": {},
   "outputs": [],
   "source": [
    "class GATModel(nn.Module):\n",
    "    def __init__(self, in_feat, n_hidden, heads, n_layers, activation, feat_drop, att_drop, negative_slope, residual):\n",
    "        super(GATModel, self).__init__()\n",
    "        self.layers = nn.ModuleList()\n",
    "        # parameter list: input feature size, hidden layer size, multi_head attention,\n",
    "        self.layers.append(dgl_conv.GATConv(in_feat, n_hidden, heads[0], feat_drop, att_drop, negative_slope, False, activation))\n",
    "        for i in range(1, n_layers):\n",
    "            self.layers.append(dgl_conv.GATConv(n_hidden*heads[i-1], n_hidden, heads[i], \n",
    "                                                feat_drop, att_drop, negative_slope, residual, activation))\n",
    "        self.layers.append(dgl_conv.GATConv(n_hidden*heads[-1], n_hidden, heads[-1], feat_drop, att_drop,\n",
    "                                            negative_slope, residual, activation))\n",
    "        \n",
    "    def forward(self, g, features):\n",
    "        h = features.float()\n",
    "        for i in range(len(self.layers)):\n",
    "            h = self.layers[i](g, h).flatten(1).float()\n",
    "        h = self.layers[-1](g, h).mean(1).float()\n",
    "        return h"
   ]
  },
  {
   "cell_type": "code",
   "execution_count": 25,
   "id": "bc755310",
   "metadata": {},
   "outputs": [],
   "source": [
    "#pred = MLPPredictor(16)\n",
    "pred = DotPredictor()"
   ]
  },
  {
   "cell_type": "code",
   "execution_count": 26,
   "id": "af8f4c81",
   "metadata": {},
   "outputs": [],
   "source": [
    "n_hidden = 64\n",
    "n_layers = 3\n",
    "feat_drop = 0.5\n",
    "att_drop = 0.5\n",
    "activation = F.elu\n",
    "negative_slope = 0.2\n",
    "heads = [2, 2,2]\n",
    "residual = False\n",
    "\n",
    "gat_model = GATModel(in_feats, n_hidden, heads, n_layers, activation, feat_drop, att_drop, negative_slope, residual)"
   ]
  },
  {
   "cell_type": "code",
   "execution_count": 27,
   "id": "ecd0f8e9",
   "metadata": {},
   "outputs": [
    {
     "name": "stdout",
     "output_type": "stream",
     "text": [
      "In epoch 0, loss: 16.118608474731445\n",
      "In epoch 5, loss: 1.60686457157135\n",
      "In epoch 10, loss: 1.300049901008606\n",
      "In epoch 15, loss: 1.1195950508117676\n",
      "In epoch 20, loss: 1.070801854133606\n",
      "In epoch 25, loss: 0.9279360175132751\n",
      "In epoch 30, loss: 0.8887537121772766\n",
      "In epoch 35, loss: 0.8310697674751282\n",
      "In epoch 40, loss: 0.7893368005752563\n",
      "In epoch 45, loss: 0.7840703725814819\n",
      "In epoch 50, loss: 0.7647264003753662\n",
      "In epoch 55, loss: 0.7446199059486389\n",
      "In epoch 60, loss: 0.7341216206550598\n",
      "In epoch 65, loss: 0.7241508364677429\n",
      "In epoch 70, loss: 0.7233858704566956\n",
      "In epoch 75, loss: 0.7217794060707092\n",
      "In epoch 80, loss: 0.7011582255363464\n",
      "In epoch 85, loss: 0.7044585943222046\n",
      "In epoch 90, loss: 0.7156683802604675\n",
      "In epoch 95, loss: 0.6954386234283447\n",
      "In epoch 100, loss: 0.6763476729393005\n",
      "In epoch 105, loss: 0.694322407245636\n",
      "In epoch 110, loss: 0.6754586100578308\n",
      "In epoch 115, loss: 0.6786656975746155\n",
      "In epoch 120, loss: 0.6818607449531555\n",
      "In epoch 125, loss: 0.6732908487319946\n",
      "In epoch 130, loss: 0.6651889085769653\n",
      "In epoch 135, loss: 0.6694270372390747\n",
      "In epoch 140, loss: 0.6745976209640503\n",
      "In epoch 145, loss: 0.662545919418335\n",
      "AUC 0.49203532853696197\n"
     ]
    }
   ],
   "source": [
    "import itertools\n",
    "\n",
    "optimizer = torch.optim.Adam(itertools.chain(gat_model.parameters(), pred.parameters()), lr=0.01)\n",
    "\n",
    "for e in range(150):\n",
    "    # forward\n",
    "    h = gat_model(train_g, train_g.ndata['feat'])\n",
    "    pos_score = pred(train_pos_g, h)\n",
    "    neg_score = pred(train_neg_g, h)\n",
    "    loss = compute_loss(pos_score, neg_score)\n",
    "\n",
    "    # backward\n",
    "    optimizer.zero_grad()\n",
    "    loss.backward()\n",
    "    optimizer.step()\n",
    "\n",
    "    if e % 5 == 0:\n",
    "        print('In epoch {}, loss: {}'.format(e, loss))\n",
    "\n",
    "from sklearn.metrics import roc_auc_score\n",
    "with torch.no_grad():\n",
    "    pos_score = pred(test_pos_g, h)\n",
    "    neg_score = pred(test_neg_g, h)\n",
    "    print('AUC', compute_auc(pos_score, neg_score))"
   ]
  },
  {
   "cell_type": "code",
   "execution_count": null,
   "id": "788f32c4",
   "metadata": {},
   "outputs": [],
   "source": []
  }
 ],
 "metadata": {
  "kernelspec": {
   "display_name": "Python 3 (ipykernel)",
   "language": "python",
   "name": "python3"
  },
  "language_info": {
   "codemirror_mode": {
    "name": "ipython",
    "version": 3
   },
   "file_extension": ".py",
   "mimetype": "text/x-python",
   "name": "python",
   "nbconvert_exporter": "python",
   "pygments_lexer": "ipython3",
   "version": "3.9.10"
  }
 },
 "nbformat": 4,
 "nbformat_minor": 5
}
